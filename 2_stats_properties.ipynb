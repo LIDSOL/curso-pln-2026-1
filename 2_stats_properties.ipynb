{
 "cells": [
  {
   "cell_type": "markdown",
   "metadata": {},
   "source": [
    "<p align=\"center\">\n",
    "    <a target=\"_blank\" href=\"https://colab.research.google.com/github/LIDSOL/curso-pln-2026-1/blob/main/2_stats_properties.ipynb\">\n",
    "        <img src=\"https://colab.research.google.com/assets/colab-badge.svg\" alt=\"Open In Colab\"/>\n",
    "    </a>\n",
    "</p> "
   ]
  },
  {
   "cell_type": "markdown",
   "metadata": {
    "id": "ZArXu0Ftl5ax"
   },
   "source": [
    "# 2. Propiedades estadísticas del lenguaje"
   ]
  },
  {
   "cell_type": "markdown",
   "metadata": {
    "id": "4bd84aad-12ba-4763-ad56-d39fac90d81a"
   },
   "source": [
    "## Objetivos"
   ]
  },
  {
   "cell_type": "markdown",
   "metadata": {
    "id": "236644a4-1c5a-4664-88c2-d09e304fa144"
   },
   "source": [
    "- Mostrar el uso de CFG y derivados\n",
    "    - Ejemplos de parseo de dependencias\n",
    "- Ejemplificar etiquetado NER usando bibliotecas existentes\n",
    "- Explorar propiedades estadísticas del lenguaje natural y observar los siguientes fenomenos:\n",
    "    - La distribución de Zipf\n",
    "    - La distribución de Heap\n",
    "\n",
    "- Implementar bolsas de palabras\n",
    "    - Aplicar *TF.IDF*"
   ]
  },
  {
   "cell_type": "markdown",
   "metadata": {
    "id": "800a10b9-8e1b-4905-9265-95aa149d1b88"
   },
   "source": [
    "## Perspectivas formales"
   ]
  },
  {
   "cell_type": "markdown",
   "metadata": {
    "id": "92087180-f3e3-4ce8-aadf-1f62bc0e4f27"
   },
   "source": [
    "- Fueron el primer acercamiento al procesamiento del lenguaje natural. Sin embargo tienen varias **desventajas**\n",
    "- Requieren **conocimiento previo de la lengua**\n",
    "- Las herramientas son especificas de la lengua\n",
    "- Los fenomenos que se presentan son muy amplios y difícilmente se pueden abarcar con reglas formales (muchos casos especiales)\n",
    "- Las reglas tienden a ser rigidas y no admiten incertidumbre en el resultado"
   ]
  },
  {
   "cell_type": "markdown",
   "metadata": {
    "id": "a1612535-9114-4a43-9143-b68eeb3254db"
   },
   "source": [
    "### Sintaxis"
   ]
  },
  {
   "cell_type": "markdown",
   "metadata": {
    "id": "sHDV5mKGacun"
   },
   "source": [
    "![](https://imgs.xkcd.com/comics/formal_languages_2x.png)\n",
    "\n",
    "**[audience looks around] 'What just happened?' 'There must be some context we're missing.'**"
   ]
  },
  {
   "cell_type": "markdown",
   "metadata": {
    "id": "aa68989b-4f40-4159-bdc4-3ca620769324"
   },
   "source": [
    "#### Parsing basado en reglas"
   ]
  },
  {
   "cell_type": "markdown",
   "metadata": {
    "id": "57db57dc-ed87-4e74-9298-c14107b5f099"
   },
   "source": [
    "- Gramaticas libres de contexto:\n",
    "\n",
    "$G = (T, N, O, R)$\n",
    "* $T$ símbolos terminales.\n",
    "* $N$ símbolos no terminales.\n",
    "* $O$ simbolo inicial o nodo raíz.\n",
    "* $R$ reglas de la forma $X \\longrightarrow \\gamma$ donde $X$ es no terminal y $\\gamma$ es una secuencia de terminales y no terminales"
   ]
  },
  {
   "cell_type": "code",
   "execution_count": null,
   "metadata": {
    "id": "2W1hl96OYKz5"
   },
   "outputs": [],
   "source": [
    "import nltk"
   ]
  },
  {
   "cell_type": "code",
   "execution_count": null,
   "metadata": {
    "id": "910d3932-1d90-4871-88c7-1d40da2a2677"
   },
   "outputs": [],
   "source": [
    "plain_grammar = \"\"\"\n",
    "S -> NP VP\n",
    "NP -> Det N | Det N PP | 'I'\n",
    "VP -> V NP | VP PP\n",
    "PP -> P NP\n",
    "Det -> 'an' | 'my'\n",
    "N -> 'elephant' | 'pajamas'\n",
    "V -> 'shot'\n",
    "P -> 'in'\n",
    "\"\"\""
   ]
  },
  {
   "cell_type": "code",
   "execution_count": null,
   "metadata": {
    "id": "9c6e8a6f-f187-4fad-a3b5-a54cc07c475c"
   },
   "outputs": [],
   "source": [
    "grammar = nltk.CFG.fromstring(plain_grammar)\n",
    "# Cambiar analizador y trace\n",
    "analyzer = nltk.ChartParser(grammar)\n",
    "\n",
    "sentence = \"I shot an elephant in my pajamas\".split()\n",
    "trees = analyzer.parse(sentence)"
   ]
  },
  {
   "cell_type": "code",
   "execution_count": null,
   "metadata": {
    "colab": {
     "base_uri": "https://localhost:8080/"
    },
    "id": "2645a2b7-d0af-43e9-9ce8-924ea41ae81d",
    "outputId": "70758104-8703-41a9-923c-eb260e80853b"
   },
   "outputs": [],
   "source": [
    "for tree in trees:\n",
    "    print(tree, type(tree))\n",
    "    print('\\nBosquejo del árbol:\\n')\n",
    "    print(tree.pretty_print(unicodelines=True, nodedist=1))"
   ]
  },
  {
   "cell_type": "markdown",
   "metadata": {
    "id": "c0f6a460-c42b-488e-ae47-2aac94a23700"
   },
   "source": [
    "## Perspectiva estadística"
   ]
  },
  {
   "cell_type": "markdown",
   "metadata": {
    "id": "72884cf6-d082-47cf-a6a3-43927eeb67c4"
   },
   "source": [
    "- Puede integrar aspectos de la perspectiva formal\n",
    "- Lidia mejor con la incertidumbre y es menos rigida que la perspectiva formal\n",
    "- No requiere conocimiento profundo de la lengua. Se pueden obtener soluciones de forma no supervisada"
   ]
  },
  {
   "cell_type": "markdown",
   "metadata": {
    "id": "e81eec3f-0bce-4fa7-b10e-6c2e083df489"
   },
   "source": [
    "## Modelos estadísticos"
   ]
  },
  {
   "cell_type": "markdown",
   "metadata": {
    "id": "a1aede65-078c-40d2-bf4e-0d7feb9fbd69"
   },
   "source": [
    "- Las **frecuencias** juegan un papel fundamental para hacer una descripción acertada del lenguaje\n",
    "- Las frecuencias nos dan información de la **distribución de tokens**, de la cual podemos estimar probabilidades.\n",
    "- Existen **leyes empíricas del lenguaje** que nos indican como se comportan las lenguas a niveles estadísticos\n",
    "- A partir de estas leyes y otras reglas estadísticas podemos crear **modelos del lenguaje**; es decir, asignar probabilidades a las unidades lingüísticas"
   ]
  },
  {
   "cell_type": "markdown",
   "metadata": {
    "id": "KMUputj7YmZc"
   },
   "source": [
    "### Probabilistic Context Free Grammar"
   ]
  },
  {
   "cell_type": "code",
   "execution_count": null,
   "metadata": {
    "id": "L3ODea3bYlKr"
   },
   "outputs": [],
   "source": [
    "taco_grammar = nltk.PCFG.fromstring(\"\"\"\n",
    "O    -> FN FV     [0.7]\n",
    "O    -> FV FN     [0.3]\n",
    "FN   -> Sust      [0.6]\n",
    "FN   -> Det Sust  [0.4]\n",
    "FV   -> V FN      [0.8]\n",
    "FV   -> FN V      [0.2]\n",
    "Sust -> 'Juan'    [0.5]\n",
    "Sust -> 'tacos'   [0.5]\n",
    "Det  -> 'unos'    [1.0]\n",
    "V    -> 'come'    [1.0]\n",
    "\"\"\")\n",
    "viterbi_parser = nltk.ViterbiParser(taco_grammar)"
   ]
  },
  {
   "cell_type": "code",
   "execution_count": null,
   "metadata": {
    "colab": {
     "base_uri": "https://localhost:8080/"
    },
    "id": "4Eux_3liZmes",
    "outputId": "14b8f8be-d1d8-4031-b7ba-b77bac32263c"
   },
   "outputs": [],
   "source": [
    "sentences = [\n",
    "    \"Juan come unos tacos\",\n",
    "    \"unos tacos Juan come\"\n",
    "]\n",
    "for sent in sentences:\n",
    "    for tree in viterbi_parser.parse(sent.split()):\n",
    "        print(tree)\n",
    "        print(\"Versión bosque\")\n",
    "        tree.pretty_print(unicodelines=True, nodedist=1)"
   ]
  },
  {
   "cell_type": "markdown",
   "metadata": {
    "id": "7jFR4ZWpawfL"
   },
   "source": [
    "### Parseo de dependencias"
   ]
  },
  {
   "cell_type": "markdown",
   "metadata": {
    "id": "gm49NCc9a0Jo"
   },
   "source": [
    "Un parseo de dependencias devuelve las dependencias que se dan entre los tokens de una oración. Estas dependencias suelen darse entre pares de tokens. Esto es, que relaciones tienen las palabras con otras palabras."
   ]
  },
  {
   "cell_type": "markdown",
   "metadata": {
    "id": "lcsiGiw1a4UC"
   },
   "source": [
    "##### Freeling - https://nlp.lsi.upc.edu/freeling/demo/demo.php"
   ]
  },
  {
   "cell_type": "code",
   "execution_count": null,
   "metadata": {
    "id": "58da60bc-6cdc-40ec-bc89-f96ebc7a19c9"
   },
   "outputs": [],
   "source": [
    "import spacy\n",
    "from spacy import displacy"
   ]
  },
  {
   "cell_type": "code",
   "execution_count": null,
   "metadata": {
    "colab": {
     "base_uri": "https://localhost:8080/"
    },
    "id": "BxZAewy9a-tc",
    "outputId": "2194effb-df7d-4c8a-90e3-615a6e0b30f0"
   },
   "outputs": [],
   "source": [
    "!python -m spacy download es_core_news_md"
   ]
  },
  {
   "cell_type": "code",
   "execution_count": null,
   "metadata": {
    "id": "4ztyjwaxbB32"
   },
   "outputs": [],
   "source": [
    "nlp = spacy.load(\"es_core_news_md\")"
   ]
  },
  {
   "cell_type": "code",
   "execution_count": null,
   "metadata": {
    "id": "vJo4jpJTbDWk"
   },
   "outputs": [],
   "source": [
    "doc = nlp(\"La niña come un suani\")"
   ]
  },
  {
   "cell_type": "code",
   "execution_count": null,
   "metadata": {
    "colab": {
     "base_uri": "https://localhost:8080/",
     "height": 352
    },
    "id": "4xYJ5u8xbEq7",
    "outputId": "ec2f1f01-af67-4124-919f-b0539de11bd1"
   },
   "outputs": [],
   "source": [
    "displacy.render(doc, style=\"dep\")"
   ]
  },
  {
   "cell_type": "code",
   "execution_count": null,
   "metadata": {
    "colab": {
     "base_uri": "https://localhost:8080/"
    },
    "id": "mIqAllFrbF46",
    "outputId": "d7271891-e3c3-44c3-8566-fe551828473a"
   },
   "outputs": [],
   "source": [
    "for chunk in doc.noun_chunks:\n",
    "    print(\"text::\", chunk.text)\n",
    "    print(\"root::\", chunk.root.text)\n",
    "    print(\"root dep::\", chunk.root.dep_)\n",
    "    print(\"root head::\", chunk.root.head.text)\n",
    "    print(\"=\"*10)"
   ]
  },
  {
   "cell_type": "code",
   "execution_count": null,
   "metadata": {
    "colab": {
     "base_uri": "https://localhost:8080/"
    },
    "id": "4g3avqyKbKwO",
    "outputId": "eb70933c-de6e-4f9b-d4c1-0983c15ee95b"
   },
   "outputs": [],
   "source": [
    "for token in doc:\n",
    "    print(\"token::\", token.text)\n",
    "    print(\"dep::\", token.dep_)\n",
    "    print(\"head::\", token.head.text)\n",
    "    print(\"head POS::\", token.head.pos_)\n",
    "    print(\"CHILDS\")\n",
    "    print([child for child in token.children])\n",
    "    print(\"=\"*10)"
   ]
  },
  {
   "cell_type": "markdown",
   "metadata": {
    "id": "MiJGt0WI1HiD"
   },
   "source": [
    "#### Named Entity Recognition (NER)"
   ]
  },
  {
   "cell_type": "markdown",
   "metadata": {
    "id": "0GQRUJgT-tTd"
   },
   "source": [
    "El etiquetado NER consiste en identificar \"objetos de la vida real\" como organizaciones, paises, personas, entre otras y asignarles su etiqueta correspondiente. Esta tarea es del tipo *sequence labeling* ya que dado un texto de entrada el modelo debe identificar los intervalos del texto y etiquetarlos adecuadamente con la entidad que le corresponde. Veremos un ejemplo a continuación."
   ]
  },
  {
   "cell_type": "code",
   "execution_count": null,
   "metadata": {
    "colab": {
     "base_uri": "https://localhost:8080/"
    },
    "id": "EoeHIVzBT3BJ",
    "outputId": "c251c4bd-993a-4b89-dede-96e84eb24069"
   },
   "outputs": [],
   "source": [
    "!pip install datasets"
   ]
  },
  {
   "cell_type": "code",
   "execution_count": null,
   "metadata": {
    "id": "e6WeOj09UHoN"
   },
   "outputs": [],
   "source": [
    "from datasets import load_dataset"
   ]
  },
  {
   "cell_type": "code",
   "execution_count": null,
   "metadata": {
    "colab": {
     "base_uri": "https://localhost:8080/",
     "height": 563,
     "referenced_widgets": [
      "14cfc0827ab6405b83c19d37928d8a17",
      "a4e3ca24645042feb6f1a3975ba3cba6",
      "86297c8d846b46a19c30604f9c89a9d8",
      "3a3279a032b94f068b81238e58ccc002",
      "39f2d43421154d7b8137d8b8a4756ac3",
      "ebec4cef45dd4092bbd50c78a2d53c14",
      "1a16638cf10f4c90a71eb4c61205368f",
      "da361be6d2f44cccac7d7de53f54db8f",
      "8e478918b3694e6186b7ac87a789814c",
      "b65deb7a16694e318ef77b214489ccbd",
      "5347a31447854b61ae6329268f691120",
      "fd0e1138a0cf4817a26630da4773ee75",
      "671a3495644b4c2685ab9b7deca68952",
      "e1a6c481d3af4e3d8048042bf771d22e",
      "f599626eebc146b8a7df869e168e74cd",
      "3efdac168881429f8d0282c994501084",
      "f82eb18680294dc1987fb069994f9df9",
      "7b77f025761a461e9a568a58142c3076",
      "dce6ae9035e3464ead03c48eb1d8c4cc",
      "648b0c875ee64de7b2c1127cafbc0ada",
      "184c0e6bbae44775ad9bacc0e6db3a37",
      "4402a47162dd4613ace8549768f4e93c",
      "9ceedb25a7f54bdbbf3051efcbd1ea6c",
      "7a47038d51db4c139969f6a23b979f2f",
      "63494e20c8024cb898e5bc7ac87bb6f7",
      "e02aff084e3b40b99e62f79f56aa8d0e",
      "7a026c910871491b9fc8248ab6199282",
      "ffbc6c2e5dc74ac48967ff5a4f1125ce",
      "e4278d8f94ab45d598e8b0212307acb3",
      "2f34c97217db4f36b2591b9b777a085d",
      "6eff4b79c16c4eb6ad279117533ad9e8",
      "58ae164283274eb4b48d8dbb533a5b85",
      "6913402c256946278d28f2fe94050f62",
      "ccce8cd148e6432eb0fa4e1a9752fa09",
      "87a3e8b0f962488bbc76e4776441c2bc",
      "aff3c33dc8bc4c6f9d316a2b5ff0b899",
      "7943b38f55054d6bbe02a6ba6bd780c9",
      "f301176a016f435d9d606b03e83e720e",
      "f6986cddeef94a5c925353013ab13d7d",
      "169ad71ae22e4331a238f3e1eb633f23",
      "c0321514d7924bb4a5edb8f597b40296",
      "e6186e5ee44d408c86fd0f176d031fa5",
      "ede1bd2ff37c410790f91a4a8e9d2fa6",
      "623f34655a8b46b38bdb6489598e617a",
      "e60e6fc2ffad462f87a0b715d54d0588",
      "fd00d3da998f4770ba292ed3e73f2108",
      "d7879c85c16342bb998a8356f36495ea",
      "c4c8c9396d364e379293de77262973a6",
      "0eb75cf777b3439cbb1358a519d9544a",
      "13da2ed6245b43a9b1b636679bfe1e10",
      "1c0ad74419fa45d2860e979fbac85f30",
      "594ab5ababa0442990b0d897d9099ff4",
      "c067b4b3cf9c49108dc88695bdc7a4b9",
      "1a2bf73b8d834d208a1cd6964b6bf5cf",
      "3fbc6a34ae9649d5b094a8bf0afbdebe",
      "9f5f13a239cf442eb9ada6f7f17617e8",
      "65732ebb1ad94aa7b37a3baee33eea13",
      "6ad5e1f3ef9543d1b58f6494bed2c83e",
      "5a870cba0a4142d6b110649ed61e5704",
      "c5129dc470a4408c84228aec381a9a45",
      "d8392d57509742ff935454bf36f36f3d",
      "0fec267e99244811ad49357e801ecb73",
      "7d9d2106883745529a75a0641233b82e",
      "12fb6fd4875346ea8d6fa50099f7195b",
      "515c652d513f47e99da6348ba87f37d9",
      "58368350a52046be9f5edc2607cdb81f",
      "f626464b9e53466aa7efc4a567da0bd7",
      "c2d6a9d8f0654d0ba0bd5e2856f1fe54",
      "f91361e7cb1a45f3bf77adee23995b15",
      "19573ad2acf2491ea63734567bc75402",
      "305f57eccdea4882a8c9602765030b77",
      "6683d2cc2a24447884bef40a398b4edb",
      "3e9a768a83994dbc9d242bcc3690e9ef",
      "fb206001382e474187618025575f2735",
      "da5f331912504f3ca27a0717b26ae717",
      "a58c80c081344b4a9c39a3a282fdbd73",
      "21afb57646ac4f3eaabfdb870eb30184",
      "e0444f23e02c47afb2c9023242be0022",
      "d2f6427fd0194b4aaa05c9e637405deb",
      "7c5e79291b224dd594b4e298709b3bab",
      "6fd390ed8d2142c292b2392454caa847",
      "91eb351b4b2246beba78e0b95278a7d3",
      "0781d8a1257c4f9b99e45f3641c0a29b",
      "4f38312327ef4b76896fae1b4cc36f63",
      "7a2d0632d413482188b0571ff5e573a9",
      "be9b1d20f602427fbbe829fc4e8ccc50",
      "45ee55827ca7440694b5cf9aa0fb23e2",
      "ddef0bb7117a4de68c5decf2f26f72b6",
      "0b8cb85653704b75970c2a26b4b86625",
      "f8d19de2a7d34848869e5623c4b8c691",
      "e5f2174988514398992507828799a9f0",
      "85fae6742b9f42ed8ce73c2efbbc77a5",
      "4e3460ee41764e6e86355cd8e739bf1d",
      "e9e1bc2ce9d84f2bae01803b35f84178",
      "fb59ee5d4eb14f4db7a53a350cc4553d",
      "631f18d436c74b9da2ecfa13ef332e90",
      "5a7ddb88e1404ddfb8780806aadca5e0",
      "c725322d59e646fcb4b88b4719260550",
      "2bf003dd2c90454b99c73fd953a9e866",
      "ee83506b95c24c4a872e2476819a3d7d",
      "4bd9682fb888446087615652157ff643",
      "02ce64b7df3e4c13b9da7688bcbe1ede",
      "c079f21c16c141bbab8f4ca093579f06",
      "d4459ca8cec94a2c90e1fc46e8d11712",
      "3b564c8dbe494af6803ad4ed6b312402",
      "0e0b9f4842f0401caff80ea0a082d35b",
      "23720acabe2d40489424f7c5d66f3b2e",
      "1983181a5ee24cc4be69698afbe26c73",
      "b5b2e00cd8b44a718ff4adb18fa26f33",
      "67fd78bf8d2b47238376319ded406300",
      "5919e537cb2a4558a6495a5593fd3a06",
      "fca8c0cc18674074ba2131ddfada40af",
      "bc7da5f412a64fa88fbaf819dc56a67e",
      "2e435656102046ea8397df0c862f52d6",
      "9f9f1cecae70468e9200d0c281535b75",
      "501d2a4cca0944a292323f200fd08c4c",
      "dc35647304294b8e85b8b31630b1756e",
      "5bcc6857dc8c4eb5b92e9f124ae14893",
      "892882e5c5a04a49919d0f40240e6370",
      "2baf49ec47d0475fbd824c42cced6448",
      "eba4ba754c2b469fa8fec26bd4fb5604"
     ]
    },
    "id": "gv83cHA0UNCk",
    "outputId": "9b520845-d17b-4fc3-dff9-804c60d1c9a7"
   },
   "outputs": [],
   "source": [
    "data = load_dataset(\"alexfabbri/multi_news\")"
   ]
  },
  {
   "cell_type": "code",
   "execution_count": null,
   "metadata": {
    "id": "puh9XC7SaHpU"
   },
   "outputs": [],
   "source": [
    "# Explorar data\n",
    "data?"
   ]
  },
  {
   "cell_type": "code",
   "execution_count": null,
   "metadata": {
    "colab": {
     "base_uri": "https://localhost:8080/"
    },
    "id": "MfP_qJEg3i9V",
    "outputId": "7a618e97-4b9c-4e31-982f-1c7d526310bf"
   },
   "outputs": [],
   "source": [
    "!python -m spacy download en_core_web_md"
   ]
  },
  {
   "cell_type": "code",
   "execution_count": null,
   "metadata": {
    "id": "Esenu1zv3MLo"
   },
   "outputs": [],
   "source": [
    "nlp = spacy.load(\"en_core_web_md\")"
   ]
  },
  {
   "cell_type": "code",
   "execution_count": null,
   "metadata": {
    "colab": {
     "base_uri": "https://localhost:8080/"
    },
    "id": "Ou6WgAjIVmBF",
    "outputId": "822759df-eddc-476e-93e7-9758d08299f9",
    "scrolled": true
   },
   "outputs": [],
   "source": [
    "import random\n",
    "\n",
    "random.seed(42)\n",
    "corpus = random.choices(data[\"train\"][\"summary\"], k=3)\n",
    "docs = list(nlp.pipe(corpus))\n",
    "for j, doc in enumerate(docs):\n",
    "    print(f\"DOC #{j+1}\")\n",
    "    doc.user_data[\"title\"] = \" \".join(doc.text.split()[:10])\n",
    "    for i, ent in enumerate(doc.ents):\n",
    "        print(\" -\"*10, f\"Entity #{i}\")\n",
    "        print(f\"\\tTexto={ent.text}\")\n",
    "        print(f\"\\tstart/end={ent.start_char}-{ent.end_char}\")\n",
    "        print(f\"\\tLabel={ent.label_}\")\n"
   ]
  },
  {
   "cell_type": "code",
   "execution_count": null,
   "metadata": {
    "colab": {
     "base_uri": "https://localhost:8080/",
     "height": 1000
    },
    "id": "SuRORHJb74Th",
    "outputId": "cdee154c-fe46-4671-87f1-618526f28733"
   },
   "outputs": [],
   "source": [
    "displacy.render(docs, style=\"ent\")"
   ]
  },
  {
   "cell_type": "code",
   "execution_count": null,
   "metadata": {
    "colab": {
     "base_uri": "https://localhost:8080/",
     "height": 35
    },
    "id": "ncDPQw5OM1vO",
    "outputId": "be900092-1867-4b73-e162-8f7acf3bd000"
   },
   "outputs": [],
   "source": [
    "spacy.explain(\"NORP\")"
   ]
  },
  {
   "cell_type": "markdown",
   "metadata": {
    "id": "2JSPegS3NaAm"
   },
   "source": [
    "[Available labels](https://spacy.io/models/en)"
   ]
  },
  {
   "cell_type": "markdown",
   "metadata": {
    "id": "qVzroVVHbhB_"
   },
   "source": [
    "## Leyes estadísticas"
   ]
  },
  {
   "cell_type": "code",
   "execution_count": null,
   "metadata": {
    "id": "r22w37-7bMNL"
   },
   "outputs": [],
   "source": [
    "# Bibliotecas\n",
    "from collections import Counter\n",
    "import matplotlib.pyplot as plt\n",
    "#plt.rcParams['figure.figsize'] = [10, 6]\n",
    "import numpy as np\n",
    "import pandas as pd"
   ]
  },
  {
   "cell_type": "code",
   "execution_count": null,
   "metadata": {
    "colab": {
     "base_uri": "https://localhost:8080/"
    },
    "id": "soknAiFndNMb",
    "outputId": "b8964961-74c9-4535-cf7a-17102cb7927a"
   },
   "outputs": [],
   "source": [
    "mini_corpus = \"\"\"Humanismo es un concepto polisémico que se aplica tanto al estudio de las letras humanas, los\n",
    "estudios clásicos y la filología grecorromana como a una genérica doctrina o actitud vital que\n",
    "concibe de forma integrada los valores humanos. Por otro lado, también se denomina humanis-\n",
    "mo al «sistema de creencias centrado en el principio de que las necesidades de la sensibilidad\n",
    "y de la inteligencia humana pueden satisfacerse sin tener que aceptar la existencia de Dios\n",
    "y la predicación de las religiones», lo que se aproxima al laicismo o a posturas secularistas.\n",
    "Se aplica como denominación a distintas corrientes filosóficas, aunque de forma particular,\n",
    "al humanismo renacentista1 (la corriente cultural europea desarrollada de forma paralela al\n",
    "Renacimiento a partir de sus orígenes en la Italia del siglo XV), caracterizado a la vez por su\n",
    "vocación filológica clásica y por su antropocentrismo frente al teocentrismo medieval\n",
    "\"\"\"\n",
    "words = mini_corpus.replace(\"\\n\", \" \").split(\" \")\n",
    "len(words)"
   ]
  },
  {
   "cell_type": "code",
   "execution_count": null,
   "metadata": {
    "colab": {
     "base_uri": "https://localhost:8080/"
    },
    "id": "DdT_CPIQdO-M",
    "outputId": "04a8466f-fd9c-41a7-cf08-77ae6a263809"
   },
   "outputs": [],
   "source": [
    "vocabulary = Counter(words)\n",
    "vocabulary.most_common(10)"
   ]
  },
  {
   "cell_type": "code",
   "execution_count": null,
   "metadata": {
    "colab": {
     "base_uri": "https://localhost:8080/"
    },
    "id": "KG-bR3QUdQVj",
    "outputId": "d70fa194-a020-4b4d-af61-0fcfcd5e58a6"
   },
   "outputs": [],
   "source": [
    "len(vocabulary)"
   ]
  },
  {
   "cell_type": "code",
   "execution_count": null,
   "metadata": {
    "id": "JABP3_tDdSlf"
   },
   "outputs": [],
   "source": [
    "def get_frequencies(vocabulary: Counter, n: int) -> list:\n",
    "    return [_[1] for _ in vocabulary.most_common(n)]\n",
    "\n",
    "def plot_frequencies(frequencies: list, title=\"Freq of words\", log_scale=False):\n",
    "    x = list(range(1, len(frequencies)+1))\n",
    "    plt.plot(x, frequencies, \"-v\")\n",
    "    plt.xlabel(\"Freq rank (r)\")\n",
    "    plt.ylabel(\"Freq (f)\")\n",
    "    if log_scale:\n",
    "        plt.xscale(\"log\")\n",
    "        plt.yscale(\"log\")\n",
    "    plt.title(title)"
   ]
  },
  {
   "cell_type": "code",
   "execution_count": null,
   "metadata": {
    "colab": {
     "base_uri": "https://localhost:8080/",
     "height": 472
    },
    "id": "YhIhQcr8dUDg",
    "outputId": "d268a7dc-961f-4130-d06a-89a1a7e4080a"
   },
   "outputs": [],
   "source": [
    "frequencies = get_frequencies(vocabulary, 100)\n",
    "plot_frequencies(frequencies)"
   ]
  },
  {
   "cell_type": "code",
   "execution_count": null,
   "metadata": {
    "colab": {
     "base_uri": "https://localhost:8080/",
     "height": 476
    },
    "id": "jXCfsV04dVQP",
    "outputId": "f582d40e-a849-4b1b-a2a0-fb426e09a5c2"
   },
   "outputs": [],
   "source": [
    "plot_frequencies(frequencies, log_scale=True)"
   ]
  },
  {
   "cell_type": "markdown",
   "metadata": {
    "id": "247bc5ce-a41f-4fd4-a9e5-0a7dea01a21a"
   },
   "source": [
    "**¿Qué pasará con más datos? 📊**"
   ]
  },
  {
   "cell_type": "markdown",
   "metadata": {
    "id": "80171042-187c-46ce-91a7-f995630071de"
   },
   "source": [
    "### Ley Zipf"
   ]
  },
  {
   "cell_type": "code",
   "execution_count": null,
   "metadata": {
    "colab": {
     "base_uri": "https://localhost:8080/"
    },
    "id": "-MHR0FxBXF5q",
    "outputId": "a489770e-8d14-443b-c4a1-b52463e53a9f"
   },
   "outputs": [],
   "source": [
    "from google.colab import drive\n",
    "drive.mount('/content/drive')"
   ]
  },
  {
   "cell_type": "markdown",
   "metadata": {
    "id": "9910d584-735a-426e-b9c3-4893295b063b"
   },
   "source": [
    "Exploraremos el Corpus de Referencia del Español Actual [CREA](https://www.rae.es/banco-de-datos/crea/crea-anotado)"
   ]
  },
  {
   "cell_type": "code",
   "execution_count": null,
   "metadata": {
    "id": "kQnhWBILiAaV"
   },
   "outputs": [],
   "source": [
    "corpus_freqs = pd.read_csv(\"drive/MyDrive/corpora/crea_frecs.txt\", sep=\" \")"
   ]
  },
  {
   "cell_type": "code",
   "execution_count": null,
   "metadata": {
    "colab": {
     "base_uri": "https://localhost:8080/",
     "height": 520
    },
    "id": "A6HixInrib3M",
    "outputId": "31cba14f-ae3a-4172-fe46-6f67d136ea26"
   },
   "outputs": [],
   "source": [
    "corpus_freqs.head(15)"
   ]
  },
  {
   "cell_type": "code",
   "execution_count": null,
   "metadata": {
    "colab": {
     "base_uri": "https://localhost:8080/",
     "height": 147
    },
    "id": "AVH75dSDkBDm",
    "outputId": "76947b8d-8c90-4d26-ee65-f38179a9849a"
   },
   "outputs": [],
   "source": [
    "corpus_freqs.iloc[0]"
   ]
  },
  {
   "cell_type": "code",
   "execution_count": null,
   "metadata": {
    "colab": {
     "base_uri": "https://localhost:8080/",
     "height": 81
    },
    "id": "t1-Vr-qKkgE0",
    "outputId": "fbe1b715-2818-478c-de96-3c9476fd64cc"
   },
   "outputs": [],
   "source": [
    "corpus_freqs[corpus_freqs[\"word\"] == \"barriga\"]"
   ]
  },
  {
   "cell_type": "code",
   "execution_count": null,
   "metadata": {
    "colab": {
     "base_uri": "https://localhost:8080/",
     "height": 472
    },
    "id": "OeqJxfSjklM7",
    "outputId": "22c09b37-bd6e-4bf3-d278-f836f8e2e27e"
   },
   "outputs": [],
   "source": [
    "corpus_freqs[\"freq\"].plot(marker=\"o\")\n",
    "plt.title('Ley de Zipf en el CREA')\n",
    "plt.xlabel('rank')\n",
    "plt.ylabel('freq')\n",
    "plt.show()"
   ]
  },
  {
   "cell_type": "code",
   "execution_count": null,
   "metadata": {
    "colab": {
     "base_uri": "https://localhost:8080/",
     "height": 476
    },
    "id": "zef8wsockrtL",
    "outputId": "d8b15f29-4d52-4576-9fae-3fa02c607fb7"
   },
   "outputs": [],
   "source": [
    "corpus_freqs['freq'].plot(loglog=True, legend=False)\n",
    "plt.title('Ley de Zipf en el CREA (log-log)')\n",
    "plt.xlabel('log rank')\n",
    "plt.ylabel('log frecuencia')\n",
    "plt.show()"
   ]
  },
  {
   "cell_type": "markdown",
   "metadata": {
    "id": "a1f515f3-b7c7-4f75-bf79-453433fa064c"
   },
   "source": [
    "- Notamos que las frecuencias entre lenguas siguen un patrón\n",
    "- Pocas palabras (tipos) son muy frecuentes, mientras que la mayoría de palabras ocurren pocas veces\n",
    "\n",
    "De hecho, la frecuencia de la palabra que ocupa la posición r en el rank, es proporcional a $\\frac{1}{r}$ (La palabra más frecuente ocurrirá aproximadamente el doble de veces que la segunda palabra más frecuente en el corpus y tres veces más que la tercer palabra más frecuente del corpus, etc)\n",
    "\n",
    "$$f(w_r) \\propto \\frac{1}{r^α}$$\n",
    "\n",
    "Donde:\n",
    "- $r$ es el rank que ocupa la palabra en el corpus\n",
    "- $f(w_r)$ es la frecuencia de la palabra en el corpus\n",
    "- $\\alpha$ es un parámetro, el valor dependerá del corpus o fenómeno que estemos observando"
   ]
  },
  {
   "cell_type": "markdown",
   "metadata": {
    "id": "20dd3f85-8529-4c51-ba5f-baf360d57722"
   },
   "source": [
    "#### Formulación de la Ley de Zipf:"
   ]
  },
  {
   "cell_type": "markdown",
   "metadata": {
    "id": "ce8cd277-a347-49f0-b538-e1663a18e1b6"
   },
   "source": [
    "$f(w_{r})=\\frac{c}{r^{\\alpha }}$\n",
    "\n",
    "En la escala logarítimica:\n",
    "\n",
    "$log(f(w_{r}))=log(\\frac{c}{r^{\\alpha }})$\n",
    "\n",
    "$log(f(w_{r}))=log (c)-\\alpha log (r)$"
   ]
  },
  {
   "cell_type": "markdown",
   "metadata": {
    "id": "haEB1WD9k6_p"
   },
   "source": [
    "#### ❓ ¿Cómo estimar el parámetro $\\alpha$?"
   ]
  },
  {
   "cell_type": "markdown",
   "metadata": {
    "id": "7RiunVGWnaFP"
   },
   "source": [
    "Podemos hacer una regresión lineal minimizando la suma de los errores cuadráticos:\n",
    "\n",
    "$J_{MSE}=\\sum_{r}^{}(log(f(w_{r}))-(log(c)-\\alpha log(r)))^{2}$"
   ]
  },
  {
   "cell_type": "code",
   "execution_count": null,
   "metadata": {
    "colab": {
     "base_uri": "https://localhost:8080/"
    },
    "id": "yw9jJ3lRk-HS",
    "outputId": "0463a5c8-fbaa-4c79-c005-a875b0141da3"
   },
   "outputs": [],
   "source": [
    "from scipy.optimize import minimize\n",
    "\n",
    "ranks = np.array(corpus_freqs.index) + 1\n",
    "frecs = np.array(corpus_freqs['freq'])\n",
    "\n",
    "# Inicialización\n",
    "a0 = 1\n",
    "\n",
    "# Función de minimización:\n",
    "func = lambda a: sum((np.log(frecs)-(np.log(frecs[0])-a*np.log(ranks)))**2)\n",
    "\n",
    "# Apliando minimos cuadrados\n",
    "a_hat = minimize(func, a0).x[0]\n",
    "\n",
    "print('alpha:', a_hat, '\\nMSE:', func(a_hat))"
   ]
  },
  {
   "cell_type": "code",
   "execution_count": null,
   "metadata": {
    "id": "17EXGwl1lWtP"
   },
   "outputs": [],
   "source": [
    "def plot_generate_zipf(alpha: np.float64, ranks: np.array, freqs: np.array) -> None:\n",
    "    plt.plot(np.log(ranks),  np.log(freqs[0]) - alpha*np.log(ranks), color='r', label='Aproximación Zipf')"
   ]
  },
  {
   "cell_type": "code",
   "execution_count": null,
   "metadata": {
    "colab": {
     "base_uri": "https://localhost:8080/",
     "height": 449
    },
    "id": "dX-7SxnbojYv",
    "outputId": "acea257b-4757-4d4b-98f3-13d92f7c5f55"
   },
   "outputs": [],
   "source": [
    "plot_generate_zipf(a_hat, ranks, frecs)\n",
    "plt.plot(np.log(ranks),np.log(frecs), color='b', label='Distribución CREA')\n",
    "plt.xlabel('log ranks')\n",
    "plt.ylabel('log frecs')\n",
    "plt.legend(bbox_to_anchor=(1, 1))\n",
    "plt.show()"
   ]
  },
  {
   "cell_type": "markdown",
   "metadata": {
    "id": "9c1f87bb-9653-4d4c-ace0-e4ad434c0fac"
   },
   "source": [
    "### Ley de Heap"
   ]
  },
  {
   "cell_type": "markdown",
   "metadata": {
    "id": "31335455-7b4a-45c9-af8d-a88372201080"
   },
   "source": [
    "Relación entre el número de **tokens** y **tipos** de un corpus\n",
    "\n",
    "$$T \\propto N^b$$\n",
    "\n",
    "Dónde:\n",
    "\n",
    "- $T = $ número de tipos\n",
    "- $N = $ número de tokens\n",
    "- $b = $ parámetro  "
   ]
  },
  {
   "cell_type": "markdown",
   "metadata": {
    "id": "f98a1bde-ea46-42e5-bd86-859d587e18c1"
   },
   "source": [
    "- **TOKENS**: Número total de palabras dentro del texto (incluidas repeticiones)\n",
    "- **TIPOS**: Número total de palabras únicas en el texto"
   ]
  },
  {
   "cell_type": "markdown",
   "metadata": {
    "id": "tU-Ot10qyIKo"
   },
   "source": [
    "#### 📊 Ejercicio: Muestra el plot de tokens vs types para el corpus CREA\n",
    "\n",
    "**HINT:** Obtener tipos y tokens acumulados"
   ]
  },
  {
   "cell_type": "code",
   "execution_count": null,
   "metadata": {
    "id": "tWtgyMwdmAh1"
   },
   "outputs": [],
   "source": [
    "# PLOT tokens vs types\n",
    "total_tokens = corpus_freqs[\"freq\"].sum()\n",
    "total_types = len(corpus_freqs)"
   ]
  },
  {
   "cell_type": "code",
   "execution_count": null,
   "metadata": {
    "id": "nvY36PbtZ-Vf"
   },
   "outputs": [],
   "source": [
    "corpus_sorted = corpus_freqs.sort_values(by=\"freq\", ascending=False)\n",
    "corpus_sorted[\"cum_tokens\"] = corpus_sorted[\"freq\"].cumsum()\n",
    "corpus_sorted[\"cum_types\"] = range(1, total_types +1)"
   ]
  },
  {
   "cell_type": "code",
   "execution_count": null,
   "metadata": {
    "id": "w95Wd7L0ahMW"
   },
   "outputs": [],
   "source": []
  },
  {
   "cell_type": "code",
   "execution_count": null,
   "metadata": {
    "colab": {
     "base_uri": "https://localhost:8080/",
     "height": 476
    },
    "id": "anfP9CFKabsT",
    "outputId": "b74dc898-0d19-48e6-d649-196154000b20"
   },
   "outputs": [],
   "source": [
    "# Plot de la ley de Heap\n",
    "plt.plot(corpus_sorted['cum_types'], corpus_sorted['cum_tokens'])\n",
    "plt.xscale(\"log\")\n",
    "plt.yscale(\"log\")\n",
    "plt.xlabel('Types')\n",
    "plt.ylabel('Tokens')\n",
    "plt.title('Ley de Heap')\n",
    "plt.show()"
   ]
  },
  {
   "cell_type": "markdown",
   "metadata": {
    "id": "ZBCWHtwItcX8"
   },
   "source": [
    "### Representaciones vectoriales estáticas (estáticos)"
   ]
  },
  {
   "cell_type": "markdown",
   "metadata": {
    "id": "afUdI9q46hJN"
   },
   "source": [
    "- Buscamos una forma de mapear textos al **espacio vectorial**. Tener una representación numerica permite su procesamiento.\n",
    "    - Similitud de docs\n",
    "    - Clasificacion (agrupamiento)\n",
    "- Veremos el enfoque de la Bolsa de Palabras (Bag of Words)\n",
    "   - Matriz de documentos-terminos\n",
    "   - Cada fila es un vector con $N$ features donde las features serán el vocabulario del corpus"
   ]
  },
  {
   "cell_type": "markdown",
   "metadata": {
    "id": "5JBqJNfV6iox"
   },
   "source": [
    "<center>\n",
    "<img src=\"https://preview.redd.it/sqkqsuit7o831.jpg?width=1024&auto=webp&s=2d18d38fe9d04a4a62c9a889e7b34ef14b425630\" width=500></center>"
   ]
  },
  {
   "cell_type": "code",
   "execution_count": null,
   "metadata": {
    "id": "HJ2xVdsqeUEe"
   },
   "outputs": [],
   "source": [
    "import gensim"
   ]
  },
  {
   "cell_type": "code",
   "execution_count": null,
   "metadata": {
    "id": "9kEUUJzBhqyH"
   },
   "outputs": [],
   "source": [
    "doc_1 = \"Augusta Ada King, condesa de Lovelace (Londres, 10 de diciembre de 1815-íd., 27 de noviembre de 1852), registrada al nacer como Augusta Ada Byron y conocida habitualmente como Ada Lovelace, fue una matemática y escritora británica, célebre sobre todo por su trabajo acerca de la computadora mecánica de uso general de Charles Babbage, la denominada máquina analítica. Fue la primera en reconocer que la máquina tenía aplicaciones más allá del cálculo puro y en haber publicado lo que se reconoce hoy como el primer algoritmo destinado a ser procesado por una máquina, por lo que se le considera como la primera programadora de ordenadores.\"\n",
    "doc_2 = \"Brassica oleracea var. italica, el brócoli,1​ brécol2​ o bróquil3​ del italiano broccoli (brote), es una planta de la familia de las brasicáceas. Existen otras variedades de la misma especie, tales como: repollo (B. o. capitata), la coliflor (B. o. botrytis), el colinabo (B. o. gongylodes) y la col de Bruselas (B. o. gemmifera). El llamado brócoli chino o kai-lan (B. o. alboglabra) es también una variedad de Brassica oleracea.\"\n",
    "doc_3 = \"La bicicleta de piñón fijo, fixie o fixed es una bicicleta monomarcha, que no tiene piñón libre, lo que significa que no tiene punto muerto; es decir, los pedales están siempre en movimiento cuando la bicicleta está en marcha. Esto significa que no se puede dejar de pedalear, ya que, mientras la rueda trasera gire, la cadena y los pedales girarán siempre solidariamente. Por este motivo, se puede frenar haciendo una fuerza inversa al sentido de la marcha, y también ir marcha atrás.\""
   ]
  },
  {
   "cell_type": "code",
   "execution_count": null,
   "metadata": {
    "id": "4GMdxLmueGoZ"
   },
   "outputs": [],
   "source": [
    "documents = [doc_1, doc_2, doc_3]"
   ]
  },
  {
   "cell_type": "code",
   "execution_count": null,
   "metadata": {
    "id": "121CNkZ9eNBc"
   },
   "outputs": [],
   "source": [
    "from gensim.utils import simple_preprocess\n",
    "\n",
    "def sent_to_words(sentences: list[str]) -> list[list[str]]:\n",
    "    \"\"\"Function convert sentences to words\n",
    "\n",
    "    Use the tokenizer provided by gensim using\n",
    "    `simple_process()` which remove punctuation and converte\n",
    "    to lowercase (`deacc=True`)\n",
    "    \"\"\"\n",
    "    return [simple_preprocess(sent, deacc=True) for sent in sentences]\n"
   ]
  },
  {
   "cell_type": "code",
   "execution_count": null,
   "metadata": {
    "colab": {
     "base_uri": "https://localhost:8080/"
    },
    "id": "fq6yZ-KlfM9s",
    "outputId": "018ea9c1-5f41-4468-f702-65740624fb10"
   },
   "outputs": [],
   "source": [
    "docs_tokenized = sent_to_words(documents)\n",
    "docs_tokenized[0][:10]"
   ]
  },
  {
   "cell_type": "code",
   "execution_count": null,
   "metadata": {
    "id": "6I37u6r5fYpc"
   },
   "outputs": [],
   "source": [
    "from gensim.corpora import Dictionary\n",
    "\n",
    "gensim_dic = Dictionary()\n",
    "bag_of_words_corpus = [gensim_dic.doc2bow(doc, allow_update=True) for doc in docs_tokenized]"
   ]
  },
  {
   "cell_type": "code",
   "execution_count": null,
   "metadata": {
    "colab": {
     "base_uri": "https://localhost:8080/",
     "height": 187
    },
    "id": "35dnVyLk2fFq",
    "outputId": "81a6b1d1-1a6a-43b6-a0c1-d53a5ce0c345"
   },
   "outputs": [],
   "source": [
    "type(gensim_dic)"
   ]
  },
  {
   "cell_type": "code",
   "execution_count": null,
   "metadata": {
    "colab": {
     "base_uri": "https://localhost:8080/"
    },
    "id": "duD7ekPjyurT",
    "outputId": "ed848af0-a772-43c6-b736-d1329b06fef0",
    "scrolled": true
   },
   "outputs": [],
   "source": [
    "for k, v in gensim_dic.iteritems():\n",
    "    print(k, v)"
   ]
  },
  {
   "cell_type": "code",
   "execution_count": null,
   "metadata": {
    "colab": {
     "base_uri": "https://localhost:8080/"
    },
    "id": "qgWTeVYJyMOD",
    "outputId": "7b9c2e96-9770-4059-f283-0e8cfbd9d5f8"
   },
   "outputs": [],
   "source": [
    "print(len(bag_of_words_corpus))\n",
    "bag_of_words_corpus[0]"
   ]
  },
  {
   "cell_type": "code",
   "execution_count": null,
   "metadata": {
    "id": "k19nlQhR_jLk"
   },
   "outputs": [],
   "source": [
    "def bag_to_dict(bag_of_words: list, gensim_dic: Dictionary, titles: list[str]) -> list:\n",
    "    data = {}\n",
    "    for doc, title in zip(bag_of_words, titles):\n",
    "        data[title] = dict([(gensim_dic[id], freq) for id, freq in doc])\n",
    "    return data"
   ]
  },
  {
   "cell_type": "code",
   "execution_count": null,
   "metadata": {
    "id": "rqfk-85UyPb9"
   },
   "outputs": [],
   "source": [
    "data = bag_to_dict(bag_of_words_corpus, gensim_dic, titles=[\"ADA\", \"BROCOLI\", \"FIXED\"])"
   ]
  },
  {
   "cell_type": "code",
   "execution_count": null,
   "metadata": {
    "colab": {
     "base_uri": "https://localhost:8080/"
    },
    "id": "Oj2Lh0gJlA_W",
    "outputId": "7c9e1a46-0a70-4511-acc3-604bf44e5c45",
    "scrolled": true
   },
   "outputs": [],
   "source": [
    "data"
   ]
  },
  {
   "cell_type": "code",
   "execution_count": null,
   "metadata": {
    "id": "8XF444cA2U5r"
   },
   "outputs": [],
   "source": [
    "import pandas as pd\n",
    "\n",
    "doc_matrix_simple = pd.DataFrame(data).fillna(0).astype(int).T"
   ]
  },
  {
   "cell_type": "code",
   "execution_count": null,
   "metadata": {
    "colab": {
     "base_uri": "https://localhost:8080/",
     "height": 193
    },
    "id": "kInN4KlWleRR",
    "outputId": "24cde084-7920-4b1d-a466-2ad6b10f774c"
   },
   "outputs": [],
   "source": [
    "doc_matrix_simple"
   ]
  },
  {
   "cell_type": "markdown",
   "metadata": {
    "id": "bVPeYSW_QUeW"
   },
   "source": [
    "- Tenemos una matrix de terminos-frecuencias ($tf$). Es decir cuantas veces un termino aparece en cierto documento.\n",
    "- Una variante de esta es una **BoW** binaria. ¿Cómo se vería?\n"
   ]
  },
  {
   "cell_type": "markdown",
   "metadata": {
    "id": "mjQxKiYSriBb"
   },
   "source": [
    "**¿Ven algun problema?**"
   ]
  },
  {
   "cell_type": "markdown",
   "metadata": {
    "id": "uX5SRzqKrj-v"
   },
   "source": [
    "- Palabras muy frecuentes que no aportan signifiancia\n",
    "- Los pesos de las palabras son tratados de forma equitativa\n",
    "    - Palabras muy frecuentes opacan las menos frecuentes y con mayor significado (semántico) en nuestros documentos\n",
    "- Las palabras frecuentes no nos ayudarian a discriminar por ejemplo entre documentos"
   ]
  },
  {
   "cell_type": "markdown",
   "metadata": {
    "id": "HSUz5DC2tpsG"
   },
   "source": [
    "#### *Term frequency-Inverse Document Frequency* (TF-IDF) al rescate\n",
    "\n",
    "<center><img src=\"https://media.tenor.com/Hqyg8s_gh5QAAAAd/perfectly-balanced-thanos.gif\" height=250></center>"
   ]
  },
  {
   "cell_type": "markdown",
   "metadata": {
    "id": "vv323MYjtsaq"
   },
   "source": [
    "- Metodo de ponderación creado para algoritmos de Information Retrieval\n",
    "- Bueno para clasificación de documentos y clustering\n",
    "- Se calcula con la multiplicacion $tf_{d,t} \\cdot idf_t$\n",
    "\n",
    "Donde:\n",
    "  - $tf_{d,t}$ es la frecuencia del termino en un documento $d$\n",
    "  - $idf_t$ es la frecuencia inversa del termino en toda la colección de documentos. Se calcula de la siguiente forma:\n",
    "\n",
    "$$idf_t = log_2\\frac{N}{df_t}$$\n",
    "\n",
    "Entonces:\n",
    "\n",
    "$$tf\\_idf(d,t) = tf_{d,t} ⋅ \\log_2\\frac{N}{df_t}$$"
   ]
  },
  {
   "cell_type": "markdown",
   "metadata": {
    "id": "eeHYU9zwwlPD"
   },
   "source": [
    "#### 🧮 Ejercicio: Aplica TF-IDF usando gensim\n",
    "\n",
    "**HINT:** https://radimrehurek.com/gensim/models/tfidfmodel.html"
   ]
  },
  {
   "cell_type": "code",
   "execution_count": null,
   "metadata": {
    "id": "Uiet-hv7fCJB"
   },
   "outputs": [],
   "source": [
    "from gensim.models import TfidfModel\n",
    "\n",
    "tfidf = TfidfModel(bag_of_words_corpus, smartirs=\"ntc\")"
   ]
  },
  {
   "cell_type": "code",
   "execution_count": null,
   "metadata": {
    "colab": {
     "base_uri": "https://localhost:8080/"
    },
    "id": "fiU6-_i9gykM",
    "outputId": "e32b4f6f-955a-4442-c490-56af21715018"
   },
   "outputs": [],
   "source": [
    "tfidf[bag_of_words_corpus[0]]"
   ]
  },
  {
   "cell_type": "code",
   "execution_count": null,
   "metadata": {
    "id": "9gZtTwSLg5xn"
   },
   "outputs": [],
   "source": [
    "def bag_to_dict_tfidf(bag_of_words: list, gensim_dic: Dictionary, titles: list[str]) -> list:\n",
    "    data = {}\n",
    "    tfidf = TfidfModel(bag_of_words, smartirs=\"ntc\")\n",
    "    for doc, title in zip(tfidf[bag_of_words], titles):\n",
    "        data[title] = dict([(gensim_dic[id], freq) for id, freq in doc])\n",
    "    return data"
   ]
  },
  {
   "cell_type": "code",
   "execution_count": null,
   "metadata": {
    "id": "UlY-L3v9g_5R"
   },
   "outputs": [],
   "source": [
    "data = bag_to_dict_tfidf(bag_of_words_corpus, gensim_dic, titles=[\"ADA\", \"BROCOLI\", \"FIXED\"])"
   ]
  },
  {
   "cell_type": "code",
   "execution_count": null,
   "metadata": {
    "colab": {
     "base_uri": "https://localhost:8080/"
    },
    "id": "XrtUhDuPhCcH",
    "outputId": "05eada76-005f-4c1f-ab44-feadfc7dbb29"
   },
   "outputs": [],
   "source": [
    "data"
   ]
  },
  {
   "cell_type": "code",
   "execution_count": null,
   "metadata": {
    "id": "bnwvCsWahKdm"
   },
   "outputs": [],
   "source": [
    "doc_matrix_tfidf = pd.DataFrame(data).fillna(0).T"
   ]
  },
  {
   "cell_type": "code",
   "execution_count": null,
   "metadata": {
    "colab": {
     "base_uri": "https://localhost:8080/",
     "height": 193
    },
    "id": "JrSpGYQXhSrz",
    "outputId": "62e40084-c01d-47ce-d774-703e6eb09197"
   },
   "outputs": [],
   "source": [
    "doc_matrix_tfidf"
   ]
  },
  {
   "cell_type": "markdown",
   "metadata": {
    "id": "_NqR5YUF8l0C"
   },
   "source": [
    "#### Calculando similitud entre vectores"
   ]
  },
  {
   "cell_type": "markdown",
   "metadata": {
    "id": "Eu0NF2oG-G9S"
   },
   "source": [
    "<center><img src=\"https://cdn.acidcow.com/pics/20130320/people_who_came_face_to_face_with_their_doppelganger_19.jpg\" width=500></center>"
   ]
  },
  {
   "cell_type": "markdown",
   "metadata": {
    "id": "fsRiWh4E8oNf"
   },
   "source": [
    "La forma estandar de obtener la similitud entre vectores para **BoW** es con la distancia coseno entre ellos\n",
    "\n",
    "$$cos(\\overrightarrow{v},\\overrightarrow{w}) = \\frac{\\overrightarrow{v} \\cdot\\overrightarrow{w}}{|\\overrightarrow{v}||\\overrightarrow{w}|}$$\n",
    "\n",
    "Aunque hay muchas más formas de [calcular la distancia](https://docs.scipy.org/doc/scipy/reference/spatial.distance.html) entre vectores"
   ]
  },
  {
   "cell_type": "code",
   "execution_count": null,
   "metadata": {
    "colab": {
     "base_uri": "https://localhost:8080/"
    },
    "id": "UR3j1Cyg0d8e",
    "outputId": "e319b635-3ec0-423b-d436-3ff051e10441"
   },
   "outputs": [],
   "source": [
    "from sklearn.metrics.pairwise import cosine_similarity\n",
    "\n",
    "doc_1 = doc_matrix_tfidf.loc[\"BROCOLI\"].values.reshape(1, -1)\n",
    "doc_2 = doc_matrix_tfidf.loc[\"FIXED\"].values.reshape(1, -1)\n",
    "cosine_similarity(doc_1, doc_2)"
   ]
  },
  {
   "cell_type": "markdown",
   "metadata": {
    "id": "-7yJ0bKPzPha"
   },
   "source": [
    "#### Agregando más documentos a nuestra bolsa"
   ]
  },
  {
   "cell_type": "markdown",
   "metadata": {
    "id": "AsFXpgCDnNkL"
   },
   "source": [
    "![](https://media.tenor.com/55hA4TgUrOMAAAAM/bag-bags.gif)"
   ]
  },
  {
   "cell_type": "code",
   "execution_count": null,
   "metadata": {
    "id": "apQF7wxgzTAL"
   },
   "outputs": [],
   "source": [
    "def update_bow(doc: str, bag_of_words: list, gensim_dic: Dictionary) -> pd.DataFrame:\n",
    "    words = simple_preprocess(doc, deacc=True)\n",
    "    bag_of_words.append(gensim_dic.doc2bow(words, allow_update=True))\n",
    "    return bag_of_words"
   ]
  },
  {
   "cell_type": "code",
   "execution_count": null,
   "metadata": {
    "id": "zujTnoGbzVe4"
   },
   "outputs": [],
   "source": [
    "#sample_doc = \"Las bicicletas fixie, también denominadas bicicletas de piñón fijo, son bicis de una sola marcha, de piñón fijo, y sin punto muerto, por lo que se debe avanzar, frenar y dar marcha atrás con el uso de los pedales. La rueda de atrás gira cuando giran los pedales. Si pedaleas hacia delante, avanzas; si paras los pedales, frenas y si pedaleas hacia atrás, irás marcha atrás. Esto requiere de un entrenamiento añadido que la bicicleta con piñón libre no lo necesita. No obstante, las bicicletas fixie tienen muchísimas ventajas.\"\n",
    "sample_doc = \"El brócoli o brécol es una planta de la familia de las brasicáceas, como otras hortalizas que conocemos como coles. Está por tanto emparentado con verduras como la coliflor, el repollo y las diferentes coles lisas o rizadas, incluyendo el kale o las coles de Bruselas.\""
   ]
  },
  {
   "cell_type": "code",
   "execution_count": null,
   "metadata": {
    "colab": {
     "base_uri": "https://localhost:8080/"
    },
    "id": "DwD2qDl03_Bb",
    "outputId": "701c1e32-c9a2-4b4c-dd23-1ee7e8548002"
   },
   "outputs": [],
   "source": [
    "new_bag = update_bow(sample_doc, bag_of_words_corpus.copy(), gensim_dic)\n",
    "len(new_bag)"
   ]
  },
  {
   "cell_type": "code",
   "execution_count": null,
   "metadata": {
    "colab": {
     "base_uri": "https://localhost:8080/"
    },
    "id": "UXoTGo0CDR9L",
    "outputId": "f3e10be7-7873-421c-e778-0a9fe4bf3a43",
    "scrolled": true
   },
   "outputs": [],
   "source": [
    "for k, v in gensim_dic.iteritems():\n",
    "    print(k, v)"
   ]
  },
  {
   "cell_type": "code",
   "execution_count": null,
   "metadata": {
    "id": "WqhYSPxFCcCZ"
   },
   "outputs": [],
   "source": [
    "new_data = bag_to_dict_tfidf(new_bag, gensim_dic, [\"ADA\", \"BROCOLI\", \"FIXED\", \"SAMPLE\"])"
   ]
  },
  {
   "cell_type": "code",
   "execution_count": null,
   "metadata": {
    "colab": {
     "base_uri": "https://localhost:8080/",
     "height": 224
    },
    "id": "cZWWhN1KEXBa",
    "outputId": "4d963799-94ce-44d2-cb25-092707a29b74"
   },
   "outputs": [],
   "source": [
    "new_doc_matrix_tfidf = pd.DataFrame(new_data).fillna(0).T\n",
    "new_doc_matrix_tfidf"
   ]
  },
  {
   "cell_type": "markdown",
   "metadata": {
    "id": "gBmY4rfTz9s1"
   },
   "source": [
    "#### 👯‍♂️ Ejercicio: Calcula la similitud del nuevo documento con el resto de documentos"
   ]
  },
  {
   "cell_type": "code",
   "execution_count": null,
   "metadata": {
    "colab": {
     "base_uri": "https://localhost:8080/"
    },
    "id": "Smdft7g-meXq",
    "outputId": "a6b6fba6-4469-44d6-a1a5-da35f5e0489b"
   },
   "outputs": [],
   "source": [
    "doc_sample_values = new_doc_matrix_tfidf.loc[\"SAMPLE\"].values.reshape(1, -1)\n",
    "\n",
    "doc_titles = [\"ADA\", \"BROCOLI\", \"FIXED\"]\n",
    "for i, doc_title in enumerate(doc_titles):\n",
    "    current_doc_values = new_doc_matrix_tfidf.loc[doc_title].values.reshape(1, -1)\n",
    "    print(f\"Similarity beetwen SAMPLE/{doc_title}= {cosine_similarity(current_doc_values, doc_sample_values)}\")"
   ]
  },
  {
   "cell_type": "markdown",
   "metadata": {
    "id": "ZPUhoPghmtFC"
   },
   "source": [
    "## Ejercicio 2: Propiedades estadísticas de la lengua\n",
    "\n",
    "1. Verificar si la ley de Zipf se cumple en un lenguaje artificial creado por ustedes.\n",
    "    - *Ejemplo:* Un \"lenguaje artificial\" podría ser simplemente un texto donde las secuencias de caracteres fueron generadas aleatoriamente.\n",
    "2. Explorar `datasets` del sitio [Hugging Face](https://huggingface.co/datasets) y elegir documentos de diferentes dominios en Español (al menos 3). Realizar reconocimiento de entidades nombradas (NER).\n",
    "    - Pueden utilizar subconjuntos de los datasets encontrados\n",
    "    - Mostrar resultados del reconocimiento\n",
    "    - Una distribución de frecuencias de las etiquetas más comunes en cada dominio\n",
    "    - Comentarios generales del desempeño observado.\n",
    "\n",
    "*Sugerencias: Spacy, CoreNLP (puede ser cualquier otra herramienta)*"
   ]
  },
  {
   "cell_type": "code",
   "execution_count": null,
   "metadata": {
    "id": "vVuw6QRUE_1x"
   },
   "outputs": [],
   "source": []
  }
 ],
 "metadata": {
  "colab": {
   "provenance": []
  },
  "kernelspec": {
   "display_name": "Python 3 (ipykernel)",
   "language": "python",
   "name": "python3"
  },
  "language_info": {
   "codemirror_mode": {
    "name": "ipython",
    "version": 3
   },
   "file_extension": ".py",
   "mimetype": "text/x-python",
   "name": "python",
   "nbconvert_exporter": "python",
   "pygments_lexer": "ipython3",
   "version": "3.12.11"
  },
  "widgets": {
   "application/vnd.jupyter.widget-state+json": {
    "02ce64b7df3e4c13b9da7688bcbe1ede": {
     "model_module": "@jupyter-widgets/controls",
     "model_module_version": "1.5.0",
     "model_name": "FloatProgressModel",
     "state": {
      "_dom_classes": [],
      "_model_module": "@jupyter-widgets/controls",
      "_model_module_version": "1.5.0",
      "_model_name": "FloatProgressModel",
      "_view_count": null,
      "_view_module": "@jupyter-widgets/controls",
      "_view_module_version": "1.5.0",
      "_view_name": "ProgressView",
      "bar_style": "success",
      "description": "",
      "description_tooltip": null,
      "layout": "IPY_MODEL_23720acabe2d40489424f7c5d66f3b2e",
      "max": 5622,
      "min": 0,
      "orientation": "horizontal",
      "style": "IPY_MODEL_1983181a5ee24cc4be69698afbe26c73",
      "value": 5622
     }
    },
    "0781d8a1257c4f9b99e45f3641c0a29b": {
     "model_module": "@jupyter-widgets/base",
     "model_module_version": "1.2.0",
     "model_name": "LayoutModel",
     "state": {
      "_model_module": "@jupyter-widgets/base",
      "_model_module_version": "1.2.0",
      "_model_name": "LayoutModel",
      "_view_count": null,
      "_view_module": "@jupyter-widgets/base",
      "_view_module_version": "1.2.0",
      "_view_name": "LayoutView",
      "align_content": null,
      "align_items": null,
      "align_self": null,
      "border": null,
      "bottom": null,
      "display": null,
      "flex": null,
      "flex_flow": null,
      "grid_area": null,
      "grid_auto_columns": null,
      "grid_auto_flow": null,
      "grid_auto_rows": null,
      "grid_column": null,
      "grid_gap": null,
      "grid_row": null,
      "grid_template_areas": null,
      "grid_template_columns": null,
      "grid_template_rows": null,
      "height": null,
      "justify_content": null,
      "justify_items": null,
      "left": null,
      "margin": null,
      "max_height": null,
      "max_width": null,
      "min_height": null,
      "min_width": null,
      "object_fit": null,
      "object_position": null,
      "order": null,
      "overflow": null,
      "overflow_x": null,
      "overflow_y": null,
      "padding": null,
      "right": null,
      "top": null,
      "visibility": null,
      "width": null
     }
    },
    "0b8cb85653704b75970c2a26b4b86625": {
     "model_module": "@jupyter-widgets/controls",
     "model_module_version": "1.5.0",
     "model_name": "HBoxModel",
     "state": {
      "_dom_classes": [],
      "_model_module": "@jupyter-widgets/controls",
      "_model_module_version": "1.5.0",
      "_model_name": "HBoxModel",
      "_view_count": null,
      "_view_module": "@jupyter-widgets/controls",
      "_view_module_version": "1.5.0",
      "_view_name": "HBoxView",
      "box_style": "",
      "children": [
       "IPY_MODEL_f8d19de2a7d34848869e5623c4b8c691",
       "IPY_MODEL_e5f2174988514398992507828799a9f0",
       "IPY_MODEL_85fae6742b9f42ed8ce73c2efbbc77a5"
      ],
      "layout": "IPY_MODEL_4e3460ee41764e6e86355cd8e739bf1d"
     }
    },
    "0e0b9f4842f0401caff80ea0a082d35b": {
     "model_module": "@jupyter-widgets/controls",
     "model_module_version": "1.5.0",
     "model_name": "DescriptionStyleModel",
     "state": {
      "_model_module": "@jupyter-widgets/controls",
      "_model_module_version": "1.5.0",
      "_model_name": "DescriptionStyleModel",
      "_view_count": null,
      "_view_module": "@jupyter-widgets/base",
      "_view_module_version": "1.2.0",
      "_view_name": "StyleView",
      "description_width": ""
     }
    },
    "0eb75cf777b3439cbb1358a519d9544a": {
     "model_module": "@jupyter-widgets/base",
     "model_module_version": "1.2.0",
     "model_name": "LayoutModel",
     "state": {
      "_model_module": "@jupyter-widgets/base",
      "_model_module_version": "1.2.0",
      "_model_name": "LayoutModel",
      "_view_count": null,
      "_view_module": "@jupyter-widgets/base",
      "_view_module_version": "1.2.0",
      "_view_name": "LayoutView",
      "align_content": null,
      "align_items": null,
      "align_self": null,
      "border": null,
      "bottom": null,
      "display": null,
      "flex": null,
      "flex_flow": null,
      "grid_area": null,
      "grid_auto_columns": null,
      "grid_auto_flow": null,
      "grid_auto_rows": null,
      "grid_column": null,
      "grid_gap": null,
      "grid_row": null,
      "grid_template_areas": null,
      "grid_template_columns": null,
      "grid_template_rows": null,
      "height": null,
      "justify_content": null,
      "justify_items": null,
      "left": null,
      "margin": null,
      "max_height": null,
      "max_width": null,
      "min_height": null,
      "min_width": null,
      "object_fit": null,
      "object_position": null,
      "order": null,
      "overflow": null,
      "overflow_x": null,
      "overflow_y": null,
      "padding": null,
      "right": null,
      "top": null,
      "visibility": null,
      "width": null
     }
    },
    "0fec267e99244811ad49357e801ecb73": {
     "model_module": "@jupyter-widgets/controls",
     "model_module_version": "1.5.0",
     "model_name": "DescriptionStyleModel",
     "state": {
      "_model_module": "@jupyter-widgets/controls",
      "_model_module_version": "1.5.0",
      "_model_name": "DescriptionStyleModel",
      "_view_count": null,
      "_view_module": "@jupyter-widgets/base",
      "_view_module_version": "1.2.0",
      "_view_name": "StyleView",
      "description_width": ""
     }
    },
    "12fb6fd4875346ea8d6fa50099f7195b": {
     "model_module": "@jupyter-widgets/controls",
     "model_module_version": "1.5.0",
     "model_name": "ProgressStyleModel",
     "state": {
      "_model_module": "@jupyter-widgets/controls",
      "_model_module_version": "1.5.0",
      "_model_name": "ProgressStyleModel",
      "_view_count": null,
      "_view_module": "@jupyter-widgets/base",
      "_view_module_version": "1.2.0",
      "_view_name": "StyleView",
      "bar_color": null,
      "description_width": ""
     }
    },
    "13da2ed6245b43a9b1b636679bfe1e10": {
     "model_module": "@jupyter-widgets/base",
     "model_module_version": "1.2.0",
     "model_name": "LayoutModel",
     "state": {
      "_model_module": "@jupyter-widgets/base",
      "_model_module_version": "1.2.0",
      "_model_name": "LayoutModel",
      "_view_count": null,
      "_view_module": "@jupyter-widgets/base",
      "_view_module_version": "1.2.0",
      "_view_name": "LayoutView",
      "align_content": null,
      "align_items": null,
      "align_self": null,
      "border": null,
      "bottom": null,
      "display": null,
      "flex": null,
      "flex_flow": null,
      "grid_area": null,
      "grid_auto_columns": null,
      "grid_auto_flow": null,
      "grid_auto_rows": null,
      "grid_column": null,
      "grid_gap": null,
      "grid_row": null,
      "grid_template_areas": null,
      "grid_template_columns": null,
      "grid_template_rows": null,
      "height": null,
      "justify_content": null,
      "justify_items": null,
      "left": null,
      "margin": null,
      "max_height": null,
      "max_width": null,
      "min_height": null,
      "min_width": null,
      "object_fit": null,
      "object_position": null,
      "order": null,
      "overflow": null,
      "overflow_x": null,
      "overflow_y": null,
      "padding": null,
      "right": null,
      "top": null,
      "visibility": null,
      "width": null
     }
    },
    "14cfc0827ab6405b83c19d37928d8a17": {
     "model_module": "@jupyter-widgets/controls",
     "model_module_version": "1.5.0",
     "model_name": "HBoxModel",
     "state": {
      "_dom_classes": [],
      "_model_module": "@jupyter-widgets/controls",
      "_model_module_version": "1.5.0",
      "_model_name": "HBoxModel",
      "_view_count": null,
      "_view_module": "@jupyter-widgets/controls",
      "_view_module_version": "1.5.0",
      "_view_name": "HBoxView",
      "box_style": "",
      "children": [
       "IPY_MODEL_a4e3ca24645042feb6f1a3975ba3cba6",
       "IPY_MODEL_86297c8d846b46a19c30604f9c89a9d8",
       "IPY_MODEL_3a3279a032b94f068b81238e58ccc002"
      ],
      "layout": "IPY_MODEL_39f2d43421154d7b8137d8b8a4756ac3"
     }
    },
    "169ad71ae22e4331a238f3e1eb633f23": {
     "model_module": "@jupyter-widgets/controls",
     "model_module_version": "1.5.0",
     "model_name": "DescriptionStyleModel",
     "state": {
      "_model_module": "@jupyter-widgets/controls",
      "_model_module_version": "1.5.0",
      "_model_name": "DescriptionStyleModel",
      "_view_count": null,
      "_view_module": "@jupyter-widgets/base",
      "_view_module_version": "1.2.0",
      "_view_name": "StyleView",
      "description_width": ""
     }
    },
    "184c0e6bbae44775ad9bacc0e6db3a37": {
     "model_module": "@jupyter-widgets/base",
     "model_module_version": "1.2.0",
     "model_name": "LayoutModel",
     "state": {
      "_model_module": "@jupyter-widgets/base",
      "_model_module_version": "1.2.0",
      "_model_name": "LayoutModel",
      "_view_count": null,
      "_view_module": "@jupyter-widgets/base",
      "_view_module_version": "1.2.0",
      "_view_name": "LayoutView",
      "align_content": null,
      "align_items": null,
      "align_self": null,
      "border": null,
      "bottom": null,
      "display": null,
      "flex": null,
      "flex_flow": null,
      "grid_area": null,
      "grid_auto_columns": null,
      "grid_auto_flow": null,
      "grid_auto_rows": null,
      "grid_column": null,
      "grid_gap": null,
      "grid_row": null,
      "grid_template_areas": null,
      "grid_template_columns": null,
      "grid_template_rows": null,
      "height": null,
      "justify_content": null,
      "justify_items": null,
      "left": null,
      "margin": null,
      "max_height": null,
      "max_width": null,
      "min_height": null,
      "min_width": null,
      "object_fit": null,
      "object_position": null,
      "order": null,
      "overflow": null,
      "overflow_x": null,
      "overflow_y": null,
      "padding": null,
      "right": null,
      "top": null,
      "visibility": null,
      "width": null
     }
    },
    "19573ad2acf2491ea63734567bc75402": {
     "model_module": "@jupyter-widgets/controls",
     "model_module_version": "1.5.0",
     "model_name": "HTMLModel",
     "state": {
      "_dom_classes": [],
      "_model_module": "@jupyter-widgets/controls",
      "_model_module_version": "1.5.0",
      "_model_name": "HTMLModel",
      "_view_count": null,
      "_view_module": "@jupyter-widgets/controls",
      "_view_module_version": "1.5.0",
      "_view_name": "HTMLView",
      "description": "",
      "description_tooltip": null,
      "layout": "IPY_MODEL_a58c80c081344b4a9c39a3a282fdbd73",
      "placeholder": "​",
      "style": "IPY_MODEL_21afb57646ac4f3eaabfdb870eb30184",
      "value": " 69.0M/69.0M [00:00&lt;00:00, 81.7MB/s]"
     }
    },
    "1983181a5ee24cc4be69698afbe26c73": {
     "model_module": "@jupyter-widgets/controls",
     "model_module_version": "1.5.0",
     "model_name": "ProgressStyleModel",
     "state": {
      "_model_module": "@jupyter-widgets/controls",
      "_model_module_version": "1.5.0",
      "_model_name": "ProgressStyleModel",
      "_view_count": null,
      "_view_module": "@jupyter-widgets/base",
      "_view_module_version": "1.2.0",
      "_view_name": "StyleView",
      "bar_color": null,
      "description_width": ""
     }
    },
    "1a16638cf10f4c90a71eb4c61205368f": {
     "model_module": "@jupyter-widgets/controls",
     "model_module_version": "1.5.0",
     "model_name": "DescriptionStyleModel",
     "state": {
      "_model_module": "@jupyter-widgets/controls",
      "_model_module_version": "1.5.0",
      "_model_name": "DescriptionStyleModel",
      "_view_count": null,
      "_view_module": "@jupyter-widgets/base",
      "_view_module_version": "1.2.0",
      "_view_name": "StyleView",
      "description_width": ""
     }
    },
    "1a2bf73b8d834d208a1cd6964b6bf5cf": {
     "model_module": "@jupyter-widgets/base",
     "model_module_version": "1.2.0",
     "model_name": "LayoutModel",
     "state": {
      "_model_module": "@jupyter-widgets/base",
      "_model_module_version": "1.2.0",
      "_model_name": "LayoutModel",
      "_view_count": null,
      "_view_module": "@jupyter-widgets/base",
      "_view_module_version": "1.2.0",
      "_view_name": "LayoutView",
      "align_content": null,
      "align_items": null,
      "align_self": null,
      "border": null,
      "bottom": null,
      "display": null,
      "flex": null,
      "flex_flow": null,
      "grid_area": null,
      "grid_auto_columns": null,
      "grid_auto_flow": null,
      "grid_auto_rows": null,
      "grid_column": null,
      "grid_gap": null,
      "grid_row": null,
      "grid_template_areas": null,
      "grid_template_columns": null,
      "grid_template_rows": null,
      "height": null,
      "justify_content": null,
      "justify_items": null,
      "left": null,
      "margin": null,
      "max_height": null,
      "max_width": null,
      "min_height": null,
      "min_width": null,
      "object_fit": null,
      "object_position": null,
      "order": null,
      "overflow": null,
      "overflow_x": null,
      "overflow_y": null,
      "padding": null,
      "right": null,
      "top": null,
      "visibility": null,
      "width": null
     }
    },
    "1c0ad74419fa45d2860e979fbac85f30": {
     "model_module": "@jupyter-widgets/controls",
     "model_module_version": "1.5.0",
     "model_name": "DescriptionStyleModel",
     "state": {
      "_model_module": "@jupyter-widgets/controls",
      "_model_module_version": "1.5.0",
      "_model_name": "DescriptionStyleModel",
      "_view_count": null,
      "_view_module": "@jupyter-widgets/base",
      "_view_module_version": "1.2.0",
      "_view_name": "StyleView",
      "description_width": ""
     }
    },
    "21afb57646ac4f3eaabfdb870eb30184": {
     "model_module": "@jupyter-widgets/controls",
     "model_module_version": "1.5.0",
     "model_name": "DescriptionStyleModel",
     "state": {
      "_model_module": "@jupyter-widgets/controls",
      "_model_module_version": "1.5.0",
      "_model_name": "DescriptionStyleModel",
      "_view_count": null,
      "_view_module": "@jupyter-widgets/base",
      "_view_module_version": "1.2.0",
      "_view_name": "StyleView",
      "description_width": ""
     }
    },
    "23720acabe2d40489424f7c5d66f3b2e": {
     "model_module": "@jupyter-widgets/base",
     "model_module_version": "1.2.0",
     "model_name": "LayoutModel",
     "state": {
      "_model_module": "@jupyter-widgets/base",
      "_model_module_version": "1.2.0",
      "_model_name": "LayoutModel",
      "_view_count": null,
      "_view_module": "@jupyter-widgets/base",
      "_view_module_version": "1.2.0",
      "_view_name": "LayoutView",
      "align_content": null,
      "align_items": null,
      "align_self": null,
      "border": null,
      "bottom": null,
      "display": null,
      "flex": null,
      "flex_flow": null,
      "grid_area": null,
      "grid_auto_columns": null,
      "grid_auto_flow": null,
      "grid_auto_rows": null,
      "grid_column": null,
      "grid_gap": null,
      "grid_row": null,
      "grid_template_areas": null,
      "grid_template_columns": null,
      "grid_template_rows": null,
      "height": null,
      "justify_content": null,
      "justify_items": null,
      "left": null,
      "margin": null,
      "max_height": null,
      "max_width": null,
      "min_height": null,
      "min_width": null,
      "object_fit": null,
      "object_position": null,
      "order": null,
      "overflow": null,
      "overflow_x": null,
      "overflow_y": null,
      "padding": null,
      "right": null,
      "top": null,
      "visibility": null,
      "width": null
     }
    },
    "2baf49ec47d0475fbd824c42cced6448": {
     "model_module": "@jupyter-widgets/base",
     "model_module_version": "1.2.0",
     "model_name": "LayoutModel",
     "state": {
      "_model_module": "@jupyter-widgets/base",
      "_model_module_version": "1.2.0",
      "_model_name": "LayoutModel",
      "_view_count": null,
      "_view_module": "@jupyter-widgets/base",
      "_view_module_version": "1.2.0",
      "_view_name": "LayoutView",
      "align_content": null,
      "align_items": null,
      "align_self": null,
      "border": null,
      "bottom": null,
      "display": null,
      "flex": null,
      "flex_flow": null,
      "grid_area": null,
      "grid_auto_columns": null,
      "grid_auto_flow": null,
      "grid_auto_rows": null,
      "grid_column": null,
      "grid_gap": null,
      "grid_row": null,
      "grid_template_areas": null,
      "grid_template_columns": null,
      "grid_template_rows": null,
      "height": null,
      "justify_content": null,
      "justify_items": null,
      "left": null,
      "margin": null,
      "max_height": null,
      "max_width": null,
      "min_height": null,
      "min_width": null,
      "object_fit": null,
      "object_position": null,
      "order": null,
      "overflow": null,
      "overflow_x": null,
      "overflow_y": null,
      "padding": null,
      "right": null,
      "top": null,
      "visibility": null,
      "width": null
     }
    },
    "2bf003dd2c90454b99c73fd953a9e866": {
     "model_module": "@jupyter-widgets/controls",
     "model_module_version": "1.5.0",
     "model_name": "DescriptionStyleModel",
     "state": {
      "_model_module": "@jupyter-widgets/controls",
      "_model_module_version": "1.5.0",
      "_model_name": "DescriptionStyleModel",
      "_view_count": null,
      "_view_module": "@jupyter-widgets/base",
      "_view_module_version": "1.2.0",
      "_view_name": "StyleView",
      "description_width": ""
     }
    },
    "2e435656102046ea8397df0c862f52d6": {
     "model_module": "@jupyter-widgets/controls",
     "model_module_version": "1.5.0",
     "model_name": "HTMLModel",
     "state": {
      "_dom_classes": [],
      "_model_module": "@jupyter-widgets/controls",
      "_model_module_version": "1.5.0",
      "_model_name": "HTMLModel",
      "_view_count": null,
      "_view_module": "@jupyter-widgets/controls",
      "_view_module_version": "1.5.0",
      "_view_name": "HTMLView",
      "description": "",
      "description_tooltip": null,
      "layout": "IPY_MODEL_2baf49ec47d0475fbd824c42cced6448",
      "placeholder": "​",
      "style": "IPY_MODEL_eba4ba754c2b469fa8fec26bd4fb5604",
      "value": " 5622/5622 [00:01&lt;00:00, 4673.93 examples/s]"
     }
    },
    "2f34c97217db4f36b2591b9b777a085d": {
     "model_module": "@jupyter-widgets/base",
     "model_module_version": "1.2.0",
     "model_name": "LayoutModel",
     "state": {
      "_model_module": "@jupyter-widgets/base",
      "_model_module_version": "1.2.0",
      "_model_name": "LayoutModel",
      "_view_count": null,
      "_view_module": "@jupyter-widgets/base",
      "_view_module_version": "1.2.0",
      "_view_name": "LayoutView",
      "align_content": null,
      "align_items": null,
      "align_self": null,
      "border": null,
      "bottom": null,
      "display": null,
      "flex": null,
      "flex_flow": null,
      "grid_area": null,
      "grid_auto_columns": null,
      "grid_auto_flow": null,
      "grid_auto_rows": null,
      "grid_column": null,
      "grid_gap": null,
      "grid_row": null,
      "grid_template_areas": null,
      "grid_template_columns": null,
      "grid_template_rows": null,
      "height": null,
      "justify_content": null,
      "justify_items": null,
      "left": null,
      "margin": null,
      "max_height": null,
      "max_width": null,
      "min_height": null,
      "min_width": null,
      "object_fit": null,
      "object_position": null,
      "order": null,
      "overflow": null,
      "overflow_x": null,
      "overflow_y": null,
      "padding": null,
      "right": null,
      "top": null,
      "visibility": null,
      "width": null
     }
    },
    "305f57eccdea4882a8c9602765030b77": {
     "model_module": "@jupyter-widgets/base",
     "model_module_version": "1.2.0",
     "model_name": "LayoutModel",
     "state": {
      "_model_module": "@jupyter-widgets/base",
      "_model_module_version": "1.2.0",
      "_model_name": "LayoutModel",
      "_view_count": null,
      "_view_module": "@jupyter-widgets/base",
      "_view_module_version": "1.2.0",
      "_view_name": "LayoutView",
      "align_content": null,
      "align_items": null,
      "align_self": null,
      "border": null,
      "bottom": null,
      "display": null,
      "flex": null,
      "flex_flow": null,
      "grid_area": null,
      "grid_auto_columns": null,
      "grid_auto_flow": null,
      "grid_auto_rows": null,
      "grid_column": null,
      "grid_gap": null,
      "grid_row": null,
      "grid_template_areas": null,
      "grid_template_columns": null,
      "grid_template_rows": null,
      "height": null,
      "justify_content": null,
      "justify_items": null,
      "left": null,
      "margin": null,
      "max_height": null,
      "max_width": null,
      "min_height": null,
      "min_width": null,
      "object_fit": null,
      "object_position": null,
      "order": null,
      "overflow": null,
      "overflow_x": null,
      "overflow_y": null,
      "padding": null,
      "right": null,
      "top": null,
      "visibility": null,
      "width": null
     }
    },
    "39f2d43421154d7b8137d8b8a4756ac3": {
     "model_module": "@jupyter-widgets/base",
     "model_module_version": "1.2.0",
     "model_name": "LayoutModel",
     "state": {
      "_model_module": "@jupyter-widgets/base",
      "_model_module_version": "1.2.0",
      "_model_name": "LayoutModel",
      "_view_count": null,
      "_view_module": "@jupyter-widgets/base",
      "_view_module_version": "1.2.0",
      "_view_name": "LayoutView",
      "align_content": null,
      "align_items": null,
      "align_self": null,
      "border": null,
      "bottom": null,
      "display": null,
      "flex": null,
      "flex_flow": null,
      "grid_area": null,
      "grid_auto_columns": null,
      "grid_auto_flow": null,
      "grid_auto_rows": null,
      "grid_column": null,
      "grid_gap": null,
      "grid_row": null,
      "grid_template_areas": null,
      "grid_template_columns": null,
      "grid_template_rows": null,
      "height": null,
      "justify_content": null,
      "justify_items": null,
      "left": null,
      "margin": null,
      "max_height": null,
      "max_width": null,
      "min_height": null,
      "min_width": null,
      "object_fit": null,
      "object_position": null,
      "order": null,
      "overflow": null,
      "overflow_x": null,
      "overflow_y": null,
      "padding": null,
      "right": null,
      "top": null,
      "visibility": null,
      "width": null
     }
    },
    "3a3279a032b94f068b81238e58ccc002": {
     "model_module": "@jupyter-widgets/controls",
     "model_module_version": "1.5.0",
     "model_name": "HTMLModel",
     "state": {
      "_dom_classes": [],
      "_model_module": "@jupyter-widgets/controls",
      "_model_module_version": "1.5.0",
      "_model_name": "HTMLModel",
      "_view_count": null,
      "_view_module": "@jupyter-widgets/controls",
      "_view_module_version": "1.5.0",
      "_view_name": "HTMLView",
      "description": "",
      "description_tooltip": null,
      "layout": "IPY_MODEL_b65deb7a16694e318ef77b214489ccbd",
      "placeholder": "​",
      "style": "IPY_MODEL_5347a31447854b61ae6329268f691120",
      "value": " 10.6k/10.6k [00:00&lt;00:00, 626kB/s]"
     }
    },
    "3b564c8dbe494af6803ad4ed6b312402": {
     "model_module": "@jupyter-widgets/base",
     "model_module_version": "1.2.0",
     "model_name": "LayoutModel",
     "state": {
      "_model_module": "@jupyter-widgets/base",
      "_model_module_version": "1.2.0",
      "_model_name": "LayoutModel",
      "_view_count": null,
      "_view_module": "@jupyter-widgets/base",
      "_view_module_version": "1.2.0",
      "_view_name": "LayoutView",
      "align_content": null,
      "align_items": null,
      "align_self": null,
      "border": null,
      "bottom": null,
      "display": null,
      "flex": null,
      "flex_flow": null,
      "grid_area": null,
      "grid_auto_columns": null,
      "grid_auto_flow": null,
      "grid_auto_rows": null,
      "grid_column": null,
      "grid_gap": null,
      "grid_row": null,
      "grid_template_areas": null,
      "grid_template_columns": null,
      "grid_template_rows": null,
      "height": null,
      "justify_content": null,
      "justify_items": null,
      "left": null,
      "margin": null,
      "max_height": null,
      "max_width": null,
      "min_height": null,
      "min_width": null,
      "object_fit": null,
      "object_position": null,
      "order": null,
      "overflow": null,
      "overflow_x": null,
      "overflow_y": null,
      "padding": null,
      "right": null,
      "top": null,
      "visibility": null,
      "width": null
     }
    },
    "3e9a768a83994dbc9d242bcc3690e9ef": {
     "model_module": "@jupyter-widgets/controls",
     "model_module_version": "1.5.0",
     "model_name": "DescriptionStyleModel",
     "state": {
      "_model_module": "@jupyter-widgets/controls",
      "_model_module_version": "1.5.0",
      "_model_name": "DescriptionStyleModel",
      "_view_count": null,
      "_view_module": "@jupyter-widgets/base",
      "_view_module_version": "1.2.0",
      "_view_name": "StyleView",
      "description_width": ""
     }
    },
    "3efdac168881429f8d0282c994501084": {
     "model_module": "@jupyter-widgets/base",
     "model_module_version": "1.2.0",
     "model_name": "LayoutModel",
     "state": {
      "_model_module": "@jupyter-widgets/base",
      "_model_module_version": "1.2.0",
      "_model_name": "LayoutModel",
      "_view_count": null,
      "_view_module": "@jupyter-widgets/base",
      "_view_module_version": "1.2.0",
      "_view_name": "LayoutView",
      "align_content": null,
      "align_items": null,
      "align_self": null,
      "border": null,
      "bottom": null,
      "display": null,
      "flex": null,
      "flex_flow": null,
      "grid_area": null,
      "grid_auto_columns": null,
      "grid_auto_flow": null,
      "grid_auto_rows": null,
      "grid_column": null,
      "grid_gap": null,
      "grid_row": null,
      "grid_template_areas": null,
      "grid_template_columns": null,
      "grid_template_rows": null,
      "height": null,
      "justify_content": null,
      "justify_items": null,
      "left": null,
      "margin": null,
      "max_height": null,
      "max_width": null,
      "min_height": null,
      "min_width": null,
      "object_fit": null,
      "object_position": null,
      "order": null,
      "overflow": null,
      "overflow_x": null,
      "overflow_y": null,
      "padding": null,
      "right": null,
      "top": null,
      "visibility": null,
      "width": null
     }
    },
    "3fbc6a34ae9649d5b094a8bf0afbdebe": {
     "model_module": "@jupyter-widgets/controls",
     "model_module_version": "1.5.0",
     "model_name": "DescriptionStyleModel",
     "state": {
      "_model_module": "@jupyter-widgets/controls",
      "_model_module_version": "1.5.0",
      "_model_name": "DescriptionStyleModel",
      "_view_count": null,
      "_view_module": "@jupyter-widgets/base",
      "_view_module_version": "1.2.0",
      "_view_name": "StyleView",
      "description_width": ""
     }
    },
    "4402a47162dd4613ace8549768f4e93c": {
     "model_module": "@jupyter-widgets/controls",
     "model_module_version": "1.5.0",
     "model_name": "DescriptionStyleModel",
     "state": {
      "_model_module": "@jupyter-widgets/controls",
      "_model_module_version": "1.5.0",
      "_model_name": "DescriptionStyleModel",
      "_view_count": null,
      "_view_module": "@jupyter-widgets/base",
      "_view_module_version": "1.2.0",
      "_view_name": "StyleView",
      "description_width": ""
     }
    },
    "45ee55827ca7440694b5cf9aa0fb23e2": {
     "model_module": "@jupyter-widgets/base",
     "model_module_version": "1.2.0",
     "model_name": "LayoutModel",
     "state": {
      "_model_module": "@jupyter-widgets/base",
      "_model_module_version": "1.2.0",
      "_model_name": "LayoutModel",
      "_view_count": null,
      "_view_module": "@jupyter-widgets/base",
      "_view_module_version": "1.2.0",
      "_view_name": "LayoutView",
      "align_content": null,
      "align_items": null,
      "align_self": null,
      "border": null,
      "bottom": null,
      "display": null,
      "flex": null,
      "flex_flow": null,
      "grid_area": null,
      "grid_auto_columns": null,
      "grid_auto_flow": null,
      "grid_auto_rows": null,
      "grid_column": null,
      "grid_gap": null,
      "grid_row": null,
      "grid_template_areas": null,
      "grid_template_columns": null,
      "grid_template_rows": null,
      "height": null,
      "justify_content": null,
      "justify_items": null,
      "left": null,
      "margin": null,
      "max_height": null,
      "max_width": null,
      "min_height": null,
      "min_width": null,
      "object_fit": null,
      "object_position": null,
      "order": null,
      "overflow": null,
      "overflow_x": null,
      "overflow_y": null,
      "padding": null,
      "right": null,
      "top": null,
      "visibility": null,
      "width": null
     }
    },
    "4bd9682fb888446087615652157ff643": {
     "model_module": "@jupyter-widgets/controls",
     "model_module_version": "1.5.0",
     "model_name": "HTMLModel",
     "state": {
      "_dom_classes": [],
      "_model_module": "@jupyter-widgets/controls",
      "_model_module_version": "1.5.0",
      "_model_name": "HTMLModel",
      "_view_count": null,
      "_view_module": "@jupyter-widgets/controls",
      "_view_module_version": "1.5.0",
      "_view_name": "HTMLView",
      "description": "",
      "description_tooltip": null,
      "layout": "IPY_MODEL_3b564c8dbe494af6803ad4ed6b312402",
      "placeholder": "​",
      "style": "IPY_MODEL_0e0b9f4842f0401caff80ea0a082d35b",
      "value": "Generating validation split: 100%"
     }
    },
    "4e3460ee41764e6e86355cd8e739bf1d": {
     "model_module": "@jupyter-widgets/base",
     "model_module_version": "1.2.0",
     "model_name": "LayoutModel",
     "state": {
      "_model_module": "@jupyter-widgets/base",
      "_model_module_version": "1.2.0",
      "_model_name": "LayoutModel",
      "_view_count": null,
      "_view_module": "@jupyter-widgets/base",
      "_view_module_version": "1.2.0",
      "_view_name": "LayoutView",
      "align_content": null,
      "align_items": null,
      "align_self": null,
      "border": null,
      "bottom": null,
      "display": null,
      "flex": null,
      "flex_flow": null,
      "grid_area": null,
      "grid_auto_columns": null,
      "grid_auto_flow": null,
      "grid_auto_rows": null,
      "grid_column": null,
      "grid_gap": null,
      "grid_row": null,
      "grid_template_areas": null,
      "grid_template_columns": null,
      "grid_template_rows": null,
      "height": null,
      "justify_content": null,
      "justify_items": null,
      "left": null,
      "margin": null,
      "max_height": null,
      "max_width": null,
      "min_height": null,
      "min_width": null,
      "object_fit": null,
      "object_position": null,
      "order": null,
      "overflow": null,
      "overflow_x": null,
      "overflow_y": null,
      "padding": null,
      "right": null,
      "top": null,
      "visibility": null,
      "width": null
     }
    },
    "4f38312327ef4b76896fae1b4cc36f63": {
     "model_module": "@jupyter-widgets/controls",
     "model_module_version": "1.5.0",
     "model_name": "DescriptionStyleModel",
     "state": {
      "_model_module": "@jupyter-widgets/controls",
      "_model_module_version": "1.5.0",
      "_model_name": "DescriptionStyleModel",
      "_view_count": null,
      "_view_module": "@jupyter-widgets/base",
      "_view_module_version": "1.2.0",
      "_view_name": "StyleView",
      "description_width": ""
     }
    },
    "501d2a4cca0944a292323f200fd08c4c": {
     "model_module": "@jupyter-widgets/base",
     "model_module_version": "1.2.0",
     "model_name": "LayoutModel",
     "state": {
      "_model_module": "@jupyter-widgets/base",
      "_model_module_version": "1.2.0",
      "_model_name": "LayoutModel",
      "_view_count": null,
      "_view_module": "@jupyter-widgets/base",
      "_view_module_version": "1.2.0",
      "_view_name": "LayoutView",
      "align_content": null,
      "align_items": null,
      "align_self": null,
      "border": null,
      "bottom": null,
      "display": null,
      "flex": null,
      "flex_flow": null,
      "grid_area": null,
      "grid_auto_columns": null,
      "grid_auto_flow": null,
      "grid_auto_rows": null,
      "grid_column": null,
      "grid_gap": null,
      "grid_row": null,
      "grid_template_areas": null,
      "grid_template_columns": null,
      "grid_template_rows": null,
      "height": null,
      "justify_content": null,
      "justify_items": null,
      "left": null,
      "margin": null,
      "max_height": null,
      "max_width": null,
      "min_height": null,
      "min_width": null,
      "object_fit": null,
      "object_position": null,
      "order": null,
      "overflow": null,
      "overflow_x": null,
      "overflow_y": null,
      "padding": null,
      "right": null,
      "top": null,
      "visibility": null,
      "width": null
     }
    },
    "515c652d513f47e99da6348ba87f37d9": {
     "model_module": "@jupyter-widgets/base",
     "model_module_version": "1.2.0",
     "model_name": "LayoutModel",
     "state": {
      "_model_module": "@jupyter-widgets/base",
      "_model_module_version": "1.2.0",
      "_model_name": "LayoutModel",
      "_view_count": null,
      "_view_module": "@jupyter-widgets/base",
      "_view_module_version": "1.2.0",
      "_view_name": "LayoutView",
      "align_content": null,
      "align_items": null,
      "align_self": null,
      "border": null,
      "bottom": null,
      "display": null,
      "flex": null,
      "flex_flow": null,
      "grid_area": null,
      "grid_auto_columns": null,
      "grid_auto_flow": null,
      "grid_auto_rows": null,
      "grid_column": null,
      "grid_gap": null,
      "grid_row": null,
      "grid_template_areas": null,
      "grid_template_columns": null,
      "grid_template_rows": null,
      "height": null,
      "justify_content": null,
      "justify_items": null,
      "left": null,
      "margin": null,
      "max_height": null,
      "max_width": null,
      "min_height": null,
      "min_width": null,
      "object_fit": null,
      "object_position": null,
      "order": null,
      "overflow": null,
      "overflow_x": null,
      "overflow_y": null,
      "padding": null,
      "right": null,
      "top": null,
      "visibility": null,
      "width": null
     }
    },
    "5347a31447854b61ae6329268f691120": {
     "model_module": "@jupyter-widgets/controls",
     "model_module_version": "1.5.0",
     "model_name": "DescriptionStyleModel",
     "state": {
      "_model_module": "@jupyter-widgets/controls",
      "_model_module_version": "1.5.0",
      "_model_name": "DescriptionStyleModel",
      "_view_count": null,
      "_view_module": "@jupyter-widgets/base",
      "_view_module_version": "1.2.0",
      "_view_name": "StyleView",
      "description_width": ""
     }
    },
    "58368350a52046be9f5edc2607cdb81f": {
     "model_module": "@jupyter-widgets/controls",
     "model_module_version": "1.5.0",
     "model_name": "DescriptionStyleModel",
     "state": {
      "_model_module": "@jupyter-widgets/controls",
      "_model_module_version": "1.5.0",
      "_model_name": "DescriptionStyleModel",
      "_view_count": null,
      "_view_module": "@jupyter-widgets/base",
      "_view_module_version": "1.2.0",
      "_view_name": "StyleView",
      "description_width": ""
     }
    },
    "58ae164283274eb4b48d8dbb533a5b85": {
     "model_module": "@jupyter-widgets/base",
     "model_module_version": "1.2.0",
     "model_name": "LayoutModel",
     "state": {
      "_model_module": "@jupyter-widgets/base",
      "_model_module_version": "1.2.0",
      "_model_name": "LayoutModel",
      "_view_count": null,
      "_view_module": "@jupyter-widgets/base",
      "_view_module_version": "1.2.0",
      "_view_name": "LayoutView",
      "align_content": null,
      "align_items": null,
      "align_self": null,
      "border": null,
      "bottom": null,
      "display": null,
      "flex": null,
      "flex_flow": null,
      "grid_area": null,
      "grid_auto_columns": null,
      "grid_auto_flow": null,
      "grid_auto_rows": null,
      "grid_column": null,
      "grid_gap": null,
      "grid_row": null,
      "grid_template_areas": null,
      "grid_template_columns": null,
      "grid_template_rows": null,
      "height": null,
      "justify_content": null,
      "justify_items": null,
      "left": null,
      "margin": null,
      "max_height": null,
      "max_width": null,
      "min_height": null,
      "min_width": null,
      "object_fit": null,
      "object_position": null,
      "order": null,
      "overflow": null,
      "overflow_x": null,
      "overflow_y": null,
      "padding": null,
      "right": null,
      "top": null,
      "visibility": null,
      "width": null
     }
    },
    "5919e537cb2a4558a6495a5593fd3a06": {
     "model_module": "@jupyter-widgets/controls",
     "model_module_version": "1.5.0",
     "model_name": "HBoxModel",
     "state": {
      "_dom_classes": [],
      "_model_module": "@jupyter-widgets/controls",
      "_model_module_version": "1.5.0",
      "_model_name": "HBoxModel",
      "_view_count": null,
      "_view_module": "@jupyter-widgets/controls",
      "_view_module_version": "1.5.0",
      "_view_name": "HBoxView",
      "box_style": "",
      "children": [
       "IPY_MODEL_fca8c0cc18674074ba2131ddfada40af",
       "IPY_MODEL_bc7da5f412a64fa88fbaf819dc56a67e",
       "IPY_MODEL_2e435656102046ea8397df0c862f52d6"
      ],
      "layout": "IPY_MODEL_9f9f1cecae70468e9200d0c281535b75"
     }
    },
    "594ab5ababa0442990b0d897d9099ff4": {
     "model_module": "@jupyter-widgets/base",
     "model_module_version": "1.2.0",
     "model_name": "LayoutModel",
     "state": {
      "_model_module": "@jupyter-widgets/base",
      "_model_module_version": "1.2.0",
      "_model_name": "LayoutModel",
      "_view_count": null,
      "_view_module": "@jupyter-widgets/base",
      "_view_module_version": "1.2.0",
      "_view_name": "LayoutView",
      "align_content": null,
      "align_items": null,
      "align_self": null,
      "border": null,
      "bottom": null,
      "display": null,
      "flex": null,
      "flex_flow": null,
      "grid_area": null,
      "grid_auto_columns": null,
      "grid_auto_flow": null,
      "grid_auto_rows": null,
      "grid_column": null,
      "grid_gap": null,
      "grid_row": null,
      "grid_template_areas": null,
      "grid_template_columns": null,
      "grid_template_rows": null,
      "height": null,
      "justify_content": null,
      "justify_items": null,
      "left": null,
      "margin": null,
      "max_height": null,
      "max_width": null,
      "min_height": null,
      "min_width": null,
      "object_fit": null,
      "object_position": null,
      "order": null,
      "overflow": null,
      "overflow_x": null,
      "overflow_y": null,
      "padding": null,
      "right": null,
      "top": null,
      "visibility": null,
      "width": null
     }
    },
    "5a7ddb88e1404ddfb8780806aadca5e0": {
     "model_module": "@jupyter-widgets/controls",
     "model_module_version": "1.5.0",
     "model_name": "ProgressStyleModel",
     "state": {
      "_model_module": "@jupyter-widgets/controls",
      "_model_module_version": "1.5.0",
      "_model_name": "ProgressStyleModel",
      "_view_count": null,
      "_view_module": "@jupyter-widgets/base",
      "_view_module_version": "1.2.0",
      "_view_name": "StyleView",
      "bar_color": null,
      "description_width": ""
     }
    },
    "5a870cba0a4142d6b110649ed61e5704": {
     "model_module": "@jupyter-widgets/controls",
     "model_module_version": "1.5.0",
     "model_name": "HTMLModel",
     "state": {
      "_dom_classes": [],
      "_model_module": "@jupyter-widgets/controls",
      "_model_module_version": "1.5.0",
      "_model_name": "HTMLModel",
      "_view_count": null,
      "_view_module": "@jupyter-widgets/controls",
      "_view_module_version": "1.5.0",
      "_view_name": "HTMLView",
      "description": "",
      "description_tooltip": null,
      "layout": "IPY_MODEL_515c652d513f47e99da6348ba87f37d9",
      "placeholder": "​",
      "style": "IPY_MODEL_58368350a52046be9f5edc2607cdb81f",
      "value": " 7.30M/7.30M [00:00&lt;00:00, 63.7MB/s]"
     }
    },
    "5bcc6857dc8c4eb5b92e9f124ae14893": {
     "model_module": "@jupyter-widgets/base",
     "model_module_version": "1.2.0",
     "model_name": "LayoutModel",
     "state": {
      "_model_module": "@jupyter-widgets/base",
      "_model_module_version": "1.2.0",
      "_model_name": "LayoutModel",
      "_view_count": null,
      "_view_module": "@jupyter-widgets/base",
      "_view_module_version": "1.2.0",
      "_view_name": "LayoutView",
      "align_content": null,
      "align_items": null,
      "align_self": null,
      "border": null,
      "bottom": null,
      "display": null,
      "flex": null,
      "flex_flow": null,
      "grid_area": null,
      "grid_auto_columns": null,
      "grid_auto_flow": null,
      "grid_auto_rows": null,
      "grid_column": null,
      "grid_gap": null,
      "grid_row": null,
      "grid_template_areas": null,
      "grid_template_columns": null,
      "grid_template_rows": null,
      "height": null,
      "justify_content": null,
      "justify_items": null,
      "left": null,
      "margin": null,
      "max_height": null,
      "max_width": null,
      "min_height": null,
      "min_width": null,
      "object_fit": null,
      "object_position": null,
      "order": null,
      "overflow": null,
      "overflow_x": null,
      "overflow_y": null,
      "padding": null,
      "right": null,
      "top": null,
      "visibility": null,
      "width": null
     }
    },
    "623f34655a8b46b38bdb6489598e617a": {
     "model_module": "@jupyter-widgets/controls",
     "model_module_version": "1.5.0",
     "model_name": "DescriptionStyleModel",
     "state": {
      "_model_module": "@jupyter-widgets/controls",
      "_model_module_version": "1.5.0",
      "_model_name": "DescriptionStyleModel",
      "_view_count": null,
      "_view_module": "@jupyter-widgets/base",
      "_view_module_version": "1.2.0",
      "_view_name": "StyleView",
      "description_width": ""
     }
    },
    "631f18d436c74b9da2ecfa13ef332e90": {
     "model_module": "@jupyter-widgets/base",
     "model_module_version": "1.2.0",
     "model_name": "LayoutModel",
     "state": {
      "_model_module": "@jupyter-widgets/base",
      "_model_module_version": "1.2.0",
      "_model_name": "LayoutModel",
      "_view_count": null,
      "_view_module": "@jupyter-widgets/base",
      "_view_module_version": "1.2.0",
      "_view_name": "LayoutView",
      "align_content": null,
      "align_items": null,
      "align_self": null,
      "border": null,
      "bottom": null,
      "display": null,
      "flex": null,
      "flex_flow": null,
      "grid_area": null,
      "grid_auto_columns": null,
      "grid_auto_flow": null,
      "grid_auto_rows": null,
      "grid_column": null,
      "grid_gap": null,
      "grid_row": null,
      "grid_template_areas": null,
      "grid_template_columns": null,
      "grid_template_rows": null,
      "height": null,
      "justify_content": null,
      "justify_items": null,
      "left": null,
      "margin": null,
      "max_height": null,
      "max_width": null,
      "min_height": null,
      "min_width": null,
      "object_fit": null,
      "object_position": null,
      "order": null,
      "overflow": null,
      "overflow_x": null,
      "overflow_y": null,
      "padding": null,
      "right": null,
      "top": null,
      "visibility": null,
      "width": null
     }
    },
    "63494e20c8024cb898e5bc7ac87bb6f7": {
     "model_module": "@jupyter-widgets/controls",
     "model_module_version": "1.5.0",
     "model_name": "FloatProgressModel",
     "state": {
      "_dom_classes": [],
      "_model_module": "@jupyter-widgets/controls",
      "_model_module_version": "1.5.0",
      "_model_name": "FloatProgressModel",
      "_view_count": null,
      "_view_module": "@jupyter-widgets/controls",
      "_view_module_version": "1.5.0",
      "_view_name": "ProgressView",
      "bar_style": "success",
      "description": "",
      "description_tooltip": null,
      "layout": "IPY_MODEL_2f34c97217db4f36b2591b9b777a085d",
      "max": 547512283,
      "min": 0,
      "orientation": "horizontal",
      "style": "IPY_MODEL_6eff4b79c16c4eb6ad279117533ad9e8",
      "value": 547512283
     }
    },
    "648b0c875ee64de7b2c1127cafbc0ada": {
     "model_module": "@jupyter-widgets/controls",
     "model_module_version": "1.5.0",
     "model_name": "ProgressStyleModel",
     "state": {
      "_model_module": "@jupyter-widgets/controls",
      "_model_module_version": "1.5.0",
      "_model_name": "ProgressStyleModel",
      "_view_count": null,
      "_view_module": "@jupyter-widgets/base",
      "_view_module_version": "1.2.0",
      "_view_name": "StyleView",
      "bar_color": null,
      "description_width": ""
     }
    },
    "65732ebb1ad94aa7b37a3baee33eea13": {
     "model_module": "@jupyter-widgets/controls",
     "model_module_version": "1.5.0",
     "model_name": "HTMLModel",
     "state": {
      "_dom_classes": [],
      "_model_module": "@jupyter-widgets/controls",
      "_model_module_version": "1.5.0",
      "_model_name": "HTMLModel",
      "_view_count": null,
      "_view_module": "@jupyter-widgets/controls",
      "_view_module_version": "1.5.0",
      "_view_name": "HTMLView",
      "description": "",
      "description_tooltip": null,
      "layout": "IPY_MODEL_d8392d57509742ff935454bf36f36f3d",
      "placeholder": "​",
      "style": "IPY_MODEL_0fec267e99244811ad49357e801ecb73",
      "value": "val.tgt: 100%"
     }
    },
    "6683d2cc2a24447884bef40a398b4edb": {
     "model_module": "@jupyter-widgets/base",
     "model_module_version": "1.2.0",
     "model_name": "LayoutModel",
     "state": {
      "_model_module": "@jupyter-widgets/base",
      "_model_module_version": "1.2.0",
      "_model_name": "LayoutModel",
      "_view_count": null,
      "_view_module": "@jupyter-widgets/base",
      "_view_module_version": "1.2.0",
      "_view_name": "LayoutView",
      "align_content": null,
      "align_items": null,
      "align_self": null,
      "border": null,
      "bottom": null,
      "display": null,
      "flex": null,
      "flex_flow": null,
      "grid_area": null,
      "grid_auto_columns": null,
      "grid_auto_flow": null,
      "grid_auto_rows": null,
      "grid_column": null,
      "grid_gap": null,
      "grid_row": null,
      "grid_template_areas": null,
      "grid_template_columns": null,
      "grid_template_rows": null,
      "height": null,
      "justify_content": null,
      "justify_items": null,
      "left": null,
      "margin": null,
      "max_height": null,
      "max_width": null,
      "min_height": null,
      "min_width": null,
      "object_fit": null,
      "object_position": null,
      "order": null,
      "overflow": null,
      "overflow_x": null,
      "overflow_y": null,
      "padding": null,
      "right": null,
      "top": null,
      "visibility": null,
      "width": null
     }
    },
    "671a3495644b4c2685ab9b7deca68952": {
     "model_module": "@jupyter-widgets/controls",
     "model_module_version": "1.5.0",
     "model_name": "HTMLModel",
     "state": {
      "_dom_classes": [],
      "_model_module": "@jupyter-widgets/controls",
      "_model_module_version": "1.5.0",
      "_model_name": "HTMLModel",
      "_view_count": null,
      "_view_module": "@jupyter-widgets/controls",
      "_view_module_version": "1.5.0",
      "_view_name": "HTMLView",
      "description": "",
      "description_tooltip": null,
      "layout": "IPY_MODEL_f82eb18680294dc1987fb069994f9df9",
      "placeholder": "​",
      "style": "IPY_MODEL_7b77f025761a461e9a568a58142c3076",
      "value": "multi_news.py: 100%"
     }
    },
    "67fd78bf8d2b47238376319ded406300": {
     "model_module": "@jupyter-widgets/controls",
     "model_module_version": "1.5.0",
     "model_name": "DescriptionStyleModel",
     "state": {
      "_model_module": "@jupyter-widgets/controls",
      "_model_module_version": "1.5.0",
      "_model_name": "DescriptionStyleModel",
      "_view_count": null,
      "_view_module": "@jupyter-widgets/base",
      "_view_module_version": "1.2.0",
      "_view_name": "StyleView",
      "description_width": ""
     }
    },
    "6913402c256946278d28f2fe94050f62": {
     "model_module": "@jupyter-widgets/controls",
     "model_module_version": "1.5.0",
     "model_name": "DescriptionStyleModel",
     "state": {
      "_model_module": "@jupyter-widgets/controls",
      "_model_module_version": "1.5.0",
      "_model_name": "DescriptionStyleModel",
      "_view_count": null,
      "_view_module": "@jupyter-widgets/base",
      "_view_module_version": "1.2.0",
      "_view_name": "StyleView",
      "description_width": ""
     }
    },
    "6ad5e1f3ef9543d1b58f6494bed2c83e": {
     "model_module": "@jupyter-widgets/controls",
     "model_module_version": "1.5.0",
     "model_name": "FloatProgressModel",
     "state": {
      "_dom_classes": [],
      "_model_module": "@jupyter-widgets/controls",
      "_model_module_version": "1.5.0",
      "_model_name": "FloatProgressModel",
      "_view_count": null,
      "_view_module": "@jupyter-widgets/controls",
      "_view_module_version": "1.5.0",
      "_view_name": "ProgressView",
      "bar_style": "success",
      "description": "",
      "description_tooltip": null,
      "layout": "IPY_MODEL_7d9d2106883745529a75a0641233b82e",
      "max": 7295302,
      "min": 0,
      "orientation": "horizontal",
      "style": "IPY_MODEL_12fb6fd4875346ea8d6fa50099f7195b",
      "value": 7295302
     }
    },
    "6eff4b79c16c4eb6ad279117533ad9e8": {
     "model_module": "@jupyter-widgets/controls",
     "model_module_version": "1.5.0",
     "model_name": "ProgressStyleModel",
     "state": {
      "_model_module": "@jupyter-widgets/controls",
      "_model_module_version": "1.5.0",
      "_model_name": "ProgressStyleModel",
      "_view_count": null,
      "_view_module": "@jupyter-widgets/base",
      "_view_module_version": "1.2.0",
      "_view_name": "StyleView",
      "bar_color": null,
      "description_width": ""
     }
    },
    "6fd390ed8d2142c292b2392454caa847": {
     "model_module": "@jupyter-widgets/controls",
     "model_module_version": "1.5.0",
     "model_name": "HTMLModel",
     "state": {
      "_dom_classes": [],
      "_model_module": "@jupyter-widgets/controls",
      "_model_module_version": "1.5.0",
      "_model_name": "HTMLModel",
      "_view_count": null,
      "_view_module": "@jupyter-widgets/controls",
      "_view_module_version": "1.5.0",
      "_view_name": "HTMLView",
      "description": "",
      "description_tooltip": null,
      "layout": "IPY_MODEL_45ee55827ca7440694b5cf9aa0fb23e2",
      "placeholder": "​",
      "style": "IPY_MODEL_ddef0bb7117a4de68c5decf2f26f72b6",
      "value": " 7.31M/7.31M [00:00&lt;00:00, 69.3MB/s]"
     }
    },
    "7943b38f55054d6bbe02a6ba6bd780c9": {
     "model_module": "@jupyter-widgets/controls",
     "model_module_version": "1.5.0",
     "model_name": "HTMLModel",
     "state": {
      "_dom_classes": [],
      "_model_module": "@jupyter-widgets/controls",
      "_model_module_version": "1.5.0",
      "_model_name": "HTMLModel",
      "_view_count": null,
      "_view_module": "@jupyter-widgets/controls",
      "_view_module_version": "1.5.0",
      "_view_name": "HTMLView",
      "description": "",
      "description_tooltip": null,
      "layout": "IPY_MODEL_ede1bd2ff37c410790f91a4a8e9d2fa6",
      "placeholder": "​",
      "style": "IPY_MODEL_623f34655a8b46b38bdb6489598e617a",
      "value": " 58.8M/58.8M [00:00&lt;00:00, 89.4MB/s]"
     }
    },
    "7a026c910871491b9fc8248ab6199282": {
     "model_module": "@jupyter-widgets/base",
     "model_module_version": "1.2.0",
     "model_name": "LayoutModel",
     "state": {
      "_model_module": "@jupyter-widgets/base",
      "_model_module_version": "1.2.0",
      "_model_name": "LayoutModel",
      "_view_count": null,
      "_view_module": "@jupyter-widgets/base",
      "_view_module_version": "1.2.0",
      "_view_name": "LayoutView",
      "align_content": null,
      "align_items": null,
      "align_self": null,
      "border": null,
      "bottom": null,
      "display": null,
      "flex": null,
      "flex_flow": null,
      "grid_area": null,
      "grid_auto_columns": null,
      "grid_auto_flow": null,
      "grid_auto_rows": null,
      "grid_column": null,
      "grid_gap": null,
      "grid_row": null,
      "grid_template_areas": null,
      "grid_template_columns": null,
      "grid_template_rows": null,
      "height": null,
      "justify_content": null,
      "justify_items": null,
      "left": null,
      "margin": null,
      "max_height": null,
      "max_width": null,
      "min_height": null,
      "min_width": null,
      "object_fit": null,
      "object_position": null,
      "order": null,
      "overflow": null,
      "overflow_x": null,
      "overflow_y": null,
      "padding": null,
      "right": null,
      "top": null,
      "visibility": null,
      "width": null
     }
    },
    "7a2d0632d413482188b0571ff5e573a9": {
     "model_module": "@jupyter-widgets/base",
     "model_module_version": "1.2.0",
     "model_name": "LayoutModel",
     "state": {
      "_model_module": "@jupyter-widgets/base",
      "_model_module_version": "1.2.0",
      "_model_name": "LayoutModel",
      "_view_count": null,
      "_view_module": "@jupyter-widgets/base",
      "_view_module_version": "1.2.0",
      "_view_name": "LayoutView",
      "align_content": null,
      "align_items": null,
      "align_self": null,
      "border": null,
      "bottom": null,
      "display": null,
      "flex": null,
      "flex_flow": null,
      "grid_area": null,
      "grid_auto_columns": null,
      "grid_auto_flow": null,
      "grid_auto_rows": null,
      "grid_column": null,
      "grid_gap": null,
      "grid_row": null,
      "grid_template_areas": null,
      "grid_template_columns": null,
      "grid_template_rows": null,
      "height": null,
      "justify_content": null,
      "justify_items": null,
      "left": null,
      "margin": null,
      "max_height": null,
      "max_width": null,
      "min_height": null,
      "min_width": null,
      "object_fit": null,
      "object_position": null,
      "order": null,
      "overflow": null,
      "overflow_x": null,
      "overflow_y": null,
      "padding": null,
      "right": null,
      "top": null,
      "visibility": null,
      "width": null
     }
    },
    "7a47038d51db4c139969f6a23b979f2f": {
     "model_module": "@jupyter-widgets/controls",
     "model_module_version": "1.5.0",
     "model_name": "HTMLModel",
     "state": {
      "_dom_classes": [],
      "_model_module": "@jupyter-widgets/controls",
      "_model_module_version": "1.5.0",
      "_model_name": "HTMLModel",
      "_view_count": null,
      "_view_module": "@jupyter-widgets/controls",
      "_view_module_version": "1.5.0",
      "_view_name": "HTMLView",
      "description": "",
      "description_tooltip": null,
      "layout": "IPY_MODEL_ffbc6c2e5dc74ac48967ff5a4f1125ce",
      "placeholder": "​",
      "style": "IPY_MODEL_e4278d8f94ab45d598e8b0212307acb3",
      "value": "train.src.cleaned: 100%"
     }
    },
    "7b77f025761a461e9a568a58142c3076": {
     "model_module": "@jupyter-widgets/controls",
     "model_module_version": "1.5.0",
     "model_name": "DescriptionStyleModel",
     "state": {
      "_model_module": "@jupyter-widgets/controls",
      "_model_module_version": "1.5.0",
      "_model_name": "DescriptionStyleModel",
      "_view_count": null,
      "_view_module": "@jupyter-widgets/base",
      "_view_module_version": "1.2.0",
      "_view_name": "StyleView",
      "description_width": ""
     }
    },
    "7c5e79291b224dd594b4e298709b3bab": {
     "model_module": "@jupyter-widgets/controls",
     "model_module_version": "1.5.0",
     "model_name": "FloatProgressModel",
     "state": {
      "_dom_classes": [],
      "_model_module": "@jupyter-widgets/controls",
      "_model_module_version": "1.5.0",
      "_model_name": "FloatProgressModel",
      "_view_count": null,
      "_view_module": "@jupyter-widgets/controls",
      "_view_module_version": "1.5.0",
      "_view_name": "ProgressView",
      "bar_style": "success",
      "description": "",
      "description_tooltip": null,
      "layout": "IPY_MODEL_7a2d0632d413482188b0571ff5e573a9",
      "max": 7309099,
      "min": 0,
      "orientation": "horizontal",
      "style": "IPY_MODEL_be9b1d20f602427fbbe829fc4e8ccc50",
      "value": 7309099
     }
    },
    "7d9d2106883745529a75a0641233b82e": {
     "model_module": "@jupyter-widgets/base",
     "model_module_version": "1.2.0",
     "model_name": "LayoutModel",
     "state": {
      "_model_module": "@jupyter-widgets/base",
      "_model_module_version": "1.2.0",
      "_model_name": "LayoutModel",
      "_view_count": null,
      "_view_module": "@jupyter-widgets/base",
      "_view_module_version": "1.2.0",
      "_view_name": "LayoutView",
      "align_content": null,
      "align_items": null,
      "align_self": null,
      "border": null,
      "bottom": null,
      "display": null,
      "flex": null,
      "flex_flow": null,
      "grid_area": null,
      "grid_auto_columns": null,
      "grid_auto_flow": null,
      "grid_auto_rows": null,
      "grid_column": null,
      "grid_gap": null,
      "grid_row": null,
      "grid_template_areas": null,
      "grid_template_columns": null,
      "grid_template_rows": null,
      "height": null,
      "justify_content": null,
      "justify_items": null,
      "left": null,
      "margin": null,
      "max_height": null,
      "max_width": null,
      "min_height": null,
      "min_width": null,
      "object_fit": null,
      "object_position": null,
      "order": null,
      "overflow": null,
      "overflow_x": null,
      "overflow_y": null,
      "padding": null,
      "right": null,
      "top": null,
      "visibility": null,
      "width": null
     }
    },
    "85fae6742b9f42ed8ce73c2efbbc77a5": {
     "model_module": "@jupyter-widgets/controls",
     "model_module_version": "1.5.0",
     "model_name": "HTMLModel",
     "state": {
      "_dom_classes": [],
      "_model_module": "@jupyter-widgets/controls",
      "_model_module_version": "1.5.0",
      "_model_name": "HTMLModel",
      "_view_count": null,
      "_view_module": "@jupyter-widgets/controls",
      "_view_module_version": "1.5.0",
      "_view_name": "HTMLView",
      "description": "",
      "description_tooltip": null,
      "layout": "IPY_MODEL_c725322d59e646fcb4b88b4719260550",
      "placeholder": "​",
      "style": "IPY_MODEL_2bf003dd2c90454b99c73fd953a9e866",
      "value": " 44972/44972 [00:08&lt;00:00, 5854.11 examples/s]"
     }
    },
    "86297c8d846b46a19c30604f9c89a9d8": {
     "model_module": "@jupyter-widgets/controls",
     "model_module_version": "1.5.0",
     "model_name": "FloatProgressModel",
     "state": {
      "_dom_classes": [],
      "_model_module": "@jupyter-widgets/controls",
      "_model_module_version": "1.5.0",
      "_model_name": "FloatProgressModel",
      "_view_count": null,
      "_view_module": "@jupyter-widgets/controls",
      "_view_module_version": "1.5.0",
      "_view_name": "ProgressView",
      "bar_style": "success",
      "description": "",
      "description_tooltip": null,
      "layout": "IPY_MODEL_da361be6d2f44cccac7d7de53f54db8f",
      "max": 10624,
      "min": 0,
      "orientation": "horizontal",
      "style": "IPY_MODEL_8e478918b3694e6186b7ac87a789814c",
      "value": 10624
     }
    },
    "87a3e8b0f962488bbc76e4776441c2bc": {
     "model_module": "@jupyter-widgets/controls",
     "model_module_version": "1.5.0",
     "model_name": "HTMLModel",
     "state": {
      "_dom_classes": [],
      "_model_module": "@jupyter-widgets/controls",
      "_model_module_version": "1.5.0",
      "_model_name": "HTMLModel",
      "_view_count": null,
      "_view_module": "@jupyter-widgets/controls",
      "_view_module_version": "1.5.0",
      "_view_name": "HTMLView",
      "description": "",
      "description_tooltip": null,
      "layout": "IPY_MODEL_f6986cddeef94a5c925353013ab13d7d",
      "placeholder": "​",
      "style": "IPY_MODEL_169ad71ae22e4331a238f3e1eb633f23",
      "value": "train.tgt: 100%"
     }
    },
    "892882e5c5a04a49919d0f40240e6370": {
     "model_module": "@jupyter-widgets/controls",
     "model_module_version": "1.5.0",
     "model_name": "ProgressStyleModel",
     "state": {
      "_model_module": "@jupyter-widgets/controls",
      "_model_module_version": "1.5.0",
      "_model_name": "ProgressStyleModel",
      "_view_count": null,
      "_view_module": "@jupyter-widgets/base",
      "_view_module_version": "1.2.0",
      "_view_name": "StyleView",
      "bar_color": null,
      "description_width": ""
     }
    },
    "8e478918b3694e6186b7ac87a789814c": {
     "model_module": "@jupyter-widgets/controls",
     "model_module_version": "1.5.0",
     "model_name": "ProgressStyleModel",
     "state": {
      "_model_module": "@jupyter-widgets/controls",
      "_model_module_version": "1.5.0",
      "_model_name": "ProgressStyleModel",
      "_view_count": null,
      "_view_module": "@jupyter-widgets/base",
      "_view_module_version": "1.2.0",
      "_view_name": "StyleView",
      "bar_color": null,
      "description_width": ""
     }
    },
    "91eb351b4b2246beba78e0b95278a7d3": {
     "model_module": "@jupyter-widgets/base",
     "model_module_version": "1.2.0",
     "model_name": "LayoutModel",
     "state": {
      "_model_module": "@jupyter-widgets/base",
      "_model_module_version": "1.2.0",
      "_model_name": "LayoutModel",
      "_view_count": null,
      "_view_module": "@jupyter-widgets/base",
      "_view_module_version": "1.2.0",
      "_view_name": "LayoutView",
      "align_content": null,
      "align_items": null,
      "align_self": null,
      "border": null,
      "bottom": null,
      "display": null,
      "flex": null,
      "flex_flow": null,
      "grid_area": null,
      "grid_auto_columns": null,
      "grid_auto_flow": null,
      "grid_auto_rows": null,
      "grid_column": null,
      "grid_gap": null,
      "grid_row": null,
      "grid_template_areas": null,
      "grid_template_columns": null,
      "grid_template_rows": null,
      "height": null,
      "justify_content": null,
      "justify_items": null,
      "left": null,
      "margin": null,
      "max_height": null,
      "max_width": null,
      "min_height": null,
      "min_width": null,
      "object_fit": null,
      "object_position": null,
      "order": null,
      "overflow": null,
      "overflow_x": null,
      "overflow_y": null,
      "padding": null,
      "right": null,
      "top": null,
      "visibility": null,
      "width": null
     }
    },
    "9ceedb25a7f54bdbbf3051efcbd1ea6c": {
     "model_module": "@jupyter-widgets/controls",
     "model_module_version": "1.5.0",
     "model_name": "HBoxModel",
     "state": {
      "_dom_classes": [],
      "_model_module": "@jupyter-widgets/controls",
      "_model_module_version": "1.5.0",
      "_model_name": "HBoxModel",
      "_view_count": null,
      "_view_module": "@jupyter-widgets/controls",
      "_view_module_version": "1.5.0",
      "_view_name": "HBoxView",
      "box_style": "",
      "children": [
       "IPY_MODEL_7a47038d51db4c139969f6a23b979f2f",
       "IPY_MODEL_63494e20c8024cb898e5bc7ac87bb6f7",
       "IPY_MODEL_e02aff084e3b40b99e62f79f56aa8d0e"
      ],
      "layout": "IPY_MODEL_7a026c910871491b9fc8248ab6199282"
     }
    },
    "9f5f13a239cf442eb9ada6f7f17617e8": {
     "model_module": "@jupyter-widgets/controls",
     "model_module_version": "1.5.0",
     "model_name": "HBoxModel",
     "state": {
      "_dom_classes": [],
      "_model_module": "@jupyter-widgets/controls",
      "_model_module_version": "1.5.0",
      "_model_name": "HBoxModel",
      "_view_count": null,
      "_view_module": "@jupyter-widgets/controls",
      "_view_module_version": "1.5.0",
      "_view_name": "HBoxView",
      "box_style": "",
      "children": [
       "IPY_MODEL_65732ebb1ad94aa7b37a3baee33eea13",
       "IPY_MODEL_6ad5e1f3ef9543d1b58f6494bed2c83e",
       "IPY_MODEL_5a870cba0a4142d6b110649ed61e5704"
      ],
      "layout": "IPY_MODEL_c5129dc470a4408c84228aec381a9a45"
     }
    },
    "9f9f1cecae70468e9200d0c281535b75": {
     "model_module": "@jupyter-widgets/base",
     "model_module_version": "1.2.0",
     "model_name": "LayoutModel",
     "state": {
      "_model_module": "@jupyter-widgets/base",
      "_model_module_version": "1.2.0",
      "_model_name": "LayoutModel",
      "_view_count": null,
      "_view_module": "@jupyter-widgets/base",
      "_view_module_version": "1.2.0",
      "_view_name": "LayoutView",
      "align_content": null,
      "align_items": null,
      "align_self": null,
      "border": null,
      "bottom": null,
      "display": null,
      "flex": null,
      "flex_flow": null,
      "grid_area": null,
      "grid_auto_columns": null,
      "grid_auto_flow": null,
      "grid_auto_rows": null,
      "grid_column": null,
      "grid_gap": null,
      "grid_row": null,
      "grid_template_areas": null,
      "grid_template_columns": null,
      "grid_template_rows": null,
      "height": null,
      "justify_content": null,
      "justify_items": null,
      "left": null,
      "margin": null,
      "max_height": null,
      "max_width": null,
      "min_height": null,
      "min_width": null,
      "object_fit": null,
      "object_position": null,
      "order": null,
      "overflow": null,
      "overflow_x": null,
      "overflow_y": null,
      "padding": null,
      "right": null,
      "top": null,
      "visibility": null,
      "width": null
     }
    },
    "a4e3ca24645042feb6f1a3975ba3cba6": {
     "model_module": "@jupyter-widgets/controls",
     "model_module_version": "1.5.0",
     "model_name": "HTMLModel",
     "state": {
      "_dom_classes": [],
      "_model_module": "@jupyter-widgets/controls",
      "_model_module_version": "1.5.0",
      "_model_name": "HTMLModel",
      "_view_count": null,
      "_view_module": "@jupyter-widgets/controls",
      "_view_module_version": "1.5.0",
      "_view_name": "HTMLView",
      "description": "",
      "description_tooltip": null,
      "layout": "IPY_MODEL_ebec4cef45dd4092bbd50c78a2d53c14",
      "placeholder": "​",
      "style": "IPY_MODEL_1a16638cf10f4c90a71eb4c61205368f",
      "value": "README.md: 100%"
     }
    },
    "a58c80c081344b4a9c39a3a282fdbd73": {
     "model_module": "@jupyter-widgets/base",
     "model_module_version": "1.2.0",
     "model_name": "LayoutModel",
     "state": {
      "_model_module": "@jupyter-widgets/base",
      "_model_module_version": "1.2.0",
      "_model_name": "LayoutModel",
      "_view_count": null,
      "_view_module": "@jupyter-widgets/base",
      "_view_module_version": "1.2.0",
      "_view_name": "LayoutView",
      "align_content": null,
      "align_items": null,
      "align_self": null,
      "border": null,
      "bottom": null,
      "display": null,
      "flex": null,
      "flex_flow": null,
      "grid_area": null,
      "grid_auto_columns": null,
      "grid_auto_flow": null,
      "grid_auto_rows": null,
      "grid_column": null,
      "grid_gap": null,
      "grid_row": null,
      "grid_template_areas": null,
      "grid_template_columns": null,
      "grid_template_rows": null,
      "height": null,
      "justify_content": null,
      "justify_items": null,
      "left": null,
      "margin": null,
      "max_height": null,
      "max_width": null,
      "min_height": null,
      "min_width": null,
      "object_fit": null,
      "object_position": null,
      "order": null,
      "overflow": null,
      "overflow_x": null,
      "overflow_y": null,
      "padding": null,
      "right": null,
      "top": null,
      "visibility": null,
      "width": null
     }
    },
    "aff3c33dc8bc4c6f9d316a2b5ff0b899": {
     "model_module": "@jupyter-widgets/controls",
     "model_module_version": "1.5.0",
     "model_name": "FloatProgressModel",
     "state": {
      "_dom_classes": [],
      "_model_module": "@jupyter-widgets/controls",
      "_model_module_version": "1.5.0",
      "_model_name": "FloatProgressModel",
      "_view_count": null,
      "_view_module": "@jupyter-widgets/controls",
      "_view_module_version": "1.5.0",
      "_view_name": "ProgressView",
      "bar_style": "success",
      "description": "",
      "description_tooltip": null,
      "layout": "IPY_MODEL_c0321514d7924bb4a5edb8f597b40296",
      "max": 58793912,
      "min": 0,
      "orientation": "horizontal",
      "style": "IPY_MODEL_e6186e5ee44d408c86fd0f176d031fa5",
      "value": 58793912
     }
    },
    "b5b2e00cd8b44a718ff4adb18fa26f33": {
     "model_module": "@jupyter-widgets/base",
     "model_module_version": "1.2.0",
     "model_name": "LayoutModel",
     "state": {
      "_model_module": "@jupyter-widgets/base",
      "_model_module_version": "1.2.0",
      "_model_name": "LayoutModel",
      "_view_count": null,
      "_view_module": "@jupyter-widgets/base",
      "_view_module_version": "1.2.0",
      "_view_name": "LayoutView",
      "align_content": null,
      "align_items": null,
      "align_self": null,
      "border": null,
      "bottom": null,
      "display": null,
      "flex": null,
      "flex_flow": null,
      "grid_area": null,
      "grid_auto_columns": null,
      "grid_auto_flow": null,
      "grid_auto_rows": null,
      "grid_column": null,
      "grid_gap": null,
      "grid_row": null,
      "grid_template_areas": null,
      "grid_template_columns": null,
      "grid_template_rows": null,
      "height": null,
      "justify_content": null,
      "justify_items": null,
      "left": null,
      "margin": null,
      "max_height": null,
      "max_width": null,
      "min_height": null,
      "min_width": null,
      "object_fit": null,
      "object_position": null,
      "order": null,
      "overflow": null,
      "overflow_x": null,
      "overflow_y": null,
      "padding": null,
      "right": null,
      "top": null,
      "visibility": null,
      "width": null
     }
    },
    "b65deb7a16694e318ef77b214489ccbd": {
     "model_module": "@jupyter-widgets/base",
     "model_module_version": "1.2.0",
     "model_name": "LayoutModel",
     "state": {
      "_model_module": "@jupyter-widgets/base",
      "_model_module_version": "1.2.0",
      "_model_name": "LayoutModel",
      "_view_count": null,
      "_view_module": "@jupyter-widgets/base",
      "_view_module_version": "1.2.0",
      "_view_name": "LayoutView",
      "align_content": null,
      "align_items": null,
      "align_self": null,
      "border": null,
      "bottom": null,
      "display": null,
      "flex": null,
      "flex_flow": null,
      "grid_area": null,
      "grid_auto_columns": null,
      "grid_auto_flow": null,
      "grid_auto_rows": null,
      "grid_column": null,
      "grid_gap": null,
      "grid_row": null,
      "grid_template_areas": null,
      "grid_template_columns": null,
      "grid_template_rows": null,
      "height": null,
      "justify_content": null,
      "justify_items": null,
      "left": null,
      "margin": null,
      "max_height": null,
      "max_width": null,
      "min_height": null,
      "min_width": null,
      "object_fit": null,
      "object_position": null,
      "order": null,
      "overflow": null,
      "overflow_x": null,
      "overflow_y": null,
      "padding": null,
      "right": null,
      "top": null,
      "visibility": null,
      "width": null
     }
    },
    "bc7da5f412a64fa88fbaf819dc56a67e": {
     "model_module": "@jupyter-widgets/controls",
     "model_module_version": "1.5.0",
     "model_name": "FloatProgressModel",
     "state": {
      "_dom_classes": [],
      "_model_module": "@jupyter-widgets/controls",
      "_model_module_version": "1.5.0",
      "_model_name": "FloatProgressModel",
      "_view_count": null,
      "_view_module": "@jupyter-widgets/controls",
      "_view_module_version": "1.5.0",
      "_view_name": "ProgressView",
      "bar_style": "success",
      "description": "",
      "description_tooltip": null,
      "layout": "IPY_MODEL_5bcc6857dc8c4eb5b92e9f124ae14893",
      "max": 5622,
      "min": 0,
      "orientation": "horizontal",
      "style": "IPY_MODEL_892882e5c5a04a49919d0f40240e6370",
      "value": 5622
     }
    },
    "be9b1d20f602427fbbe829fc4e8ccc50": {
     "model_module": "@jupyter-widgets/controls",
     "model_module_version": "1.5.0",
     "model_name": "ProgressStyleModel",
     "state": {
      "_model_module": "@jupyter-widgets/controls",
      "_model_module_version": "1.5.0",
      "_model_name": "ProgressStyleModel",
      "_view_count": null,
      "_view_module": "@jupyter-widgets/base",
      "_view_module_version": "1.2.0",
      "_view_name": "StyleView",
      "bar_color": null,
      "description_width": ""
     }
    },
    "c0321514d7924bb4a5edb8f597b40296": {
     "model_module": "@jupyter-widgets/base",
     "model_module_version": "1.2.0",
     "model_name": "LayoutModel",
     "state": {
      "_model_module": "@jupyter-widgets/base",
      "_model_module_version": "1.2.0",
      "_model_name": "LayoutModel",
      "_view_count": null,
      "_view_module": "@jupyter-widgets/base",
      "_view_module_version": "1.2.0",
      "_view_name": "LayoutView",
      "align_content": null,
      "align_items": null,
      "align_self": null,
      "border": null,
      "bottom": null,
      "display": null,
      "flex": null,
      "flex_flow": null,
      "grid_area": null,
      "grid_auto_columns": null,
      "grid_auto_flow": null,
      "grid_auto_rows": null,
      "grid_column": null,
      "grid_gap": null,
      "grid_row": null,
      "grid_template_areas": null,
      "grid_template_columns": null,
      "grid_template_rows": null,
      "height": null,
      "justify_content": null,
      "justify_items": null,
      "left": null,
      "margin": null,
      "max_height": null,
      "max_width": null,
      "min_height": null,
      "min_width": null,
      "object_fit": null,
      "object_position": null,
      "order": null,
      "overflow": null,
      "overflow_x": null,
      "overflow_y": null,
      "padding": null,
      "right": null,
      "top": null,
      "visibility": null,
      "width": null
     }
    },
    "c067b4b3cf9c49108dc88695bdc7a4b9": {
     "model_module": "@jupyter-widgets/controls",
     "model_module_version": "1.5.0",
     "model_name": "ProgressStyleModel",
     "state": {
      "_model_module": "@jupyter-widgets/controls",
      "_model_module_version": "1.5.0",
      "_model_name": "ProgressStyleModel",
      "_view_count": null,
      "_view_module": "@jupyter-widgets/base",
      "_view_module_version": "1.2.0",
      "_view_name": "StyleView",
      "bar_color": null,
      "description_width": ""
     }
    },
    "c079f21c16c141bbab8f4ca093579f06": {
     "model_module": "@jupyter-widgets/controls",
     "model_module_version": "1.5.0",
     "model_name": "HTMLModel",
     "state": {
      "_dom_classes": [],
      "_model_module": "@jupyter-widgets/controls",
      "_model_module_version": "1.5.0",
      "_model_name": "HTMLModel",
      "_view_count": null,
      "_view_module": "@jupyter-widgets/controls",
      "_view_module_version": "1.5.0",
      "_view_name": "HTMLView",
      "description": "",
      "description_tooltip": null,
      "layout": "IPY_MODEL_b5b2e00cd8b44a718ff4adb18fa26f33",
      "placeholder": "​",
      "style": "IPY_MODEL_67fd78bf8d2b47238376319ded406300",
      "value": " 5622/5622 [00:00&lt;00:00, 6985.04 examples/s]"
     }
    },
    "c2d6a9d8f0654d0ba0bd5e2856f1fe54": {
     "model_module": "@jupyter-widgets/controls",
     "model_module_version": "1.5.0",
     "model_name": "HTMLModel",
     "state": {
      "_dom_classes": [],
      "_model_module": "@jupyter-widgets/controls",
      "_model_module_version": "1.5.0",
      "_model_name": "HTMLModel",
      "_view_count": null,
      "_view_module": "@jupyter-widgets/controls",
      "_view_module_version": "1.5.0",
      "_view_name": "HTMLView",
      "description": "",
      "description_tooltip": null,
      "layout": "IPY_MODEL_6683d2cc2a24447884bef40a398b4edb",
      "placeholder": "​",
      "style": "IPY_MODEL_3e9a768a83994dbc9d242bcc3690e9ef",
      "value": "test.src.cleaned: 100%"
     }
    },
    "c4c8c9396d364e379293de77262973a6": {
     "model_module": "@jupyter-widgets/controls",
     "model_module_version": "1.5.0",
     "model_name": "HTMLModel",
     "state": {
      "_dom_classes": [],
      "_model_module": "@jupyter-widgets/controls",
      "_model_module_version": "1.5.0",
      "_model_name": "HTMLModel",
      "_view_count": null,
      "_view_module": "@jupyter-widgets/controls",
      "_view_module_version": "1.5.0",
      "_view_name": "HTMLView",
      "description": "",
      "description_tooltip": null,
      "layout": "IPY_MODEL_1a2bf73b8d834d208a1cd6964b6bf5cf",
      "placeholder": "​",
      "style": "IPY_MODEL_3fbc6a34ae9649d5b094a8bf0afbdebe",
      "value": " 66.9M/66.9M [00:00&lt;00:00, 84.7MB/s]"
     }
    },
    "c5129dc470a4408c84228aec381a9a45": {
     "model_module": "@jupyter-widgets/base",
     "model_module_version": "1.2.0",
     "model_name": "LayoutModel",
     "state": {
      "_model_module": "@jupyter-widgets/base",
      "_model_module_version": "1.2.0",
      "_model_name": "LayoutModel",
      "_view_count": null,
      "_view_module": "@jupyter-widgets/base",
      "_view_module_version": "1.2.0",
      "_view_name": "LayoutView",
      "align_content": null,
      "align_items": null,
      "align_self": null,
      "border": null,
      "bottom": null,
      "display": null,
      "flex": null,
      "flex_flow": null,
      "grid_area": null,
      "grid_auto_columns": null,
      "grid_auto_flow": null,
      "grid_auto_rows": null,
      "grid_column": null,
      "grid_gap": null,
      "grid_row": null,
      "grid_template_areas": null,
      "grid_template_columns": null,
      "grid_template_rows": null,
      "height": null,
      "justify_content": null,
      "justify_items": null,
      "left": null,
      "margin": null,
      "max_height": null,
      "max_width": null,
      "min_height": null,
      "min_width": null,
      "object_fit": null,
      "object_position": null,
      "order": null,
      "overflow": null,
      "overflow_x": null,
      "overflow_y": null,
      "padding": null,
      "right": null,
      "top": null,
      "visibility": null,
      "width": null
     }
    },
    "c725322d59e646fcb4b88b4719260550": {
     "model_module": "@jupyter-widgets/base",
     "model_module_version": "1.2.0",
     "model_name": "LayoutModel",
     "state": {
      "_model_module": "@jupyter-widgets/base",
      "_model_module_version": "1.2.0",
      "_model_name": "LayoutModel",
      "_view_count": null,
      "_view_module": "@jupyter-widgets/base",
      "_view_module_version": "1.2.0",
      "_view_name": "LayoutView",
      "align_content": null,
      "align_items": null,
      "align_self": null,
      "border": null,
      "bottom": null,
      "display": null,
      "flex": null,
      "flex_flow": null,
      "grid_area": null,
      "grid_auto_columns": null,
      "grid_auto_flow": null,
      "grid_auto_rows": null,
      "grid_column": null,
      "grid_gap": null,
      "grid_row": null,
      "grid_template_areas": null,
      "grid_template_columns": null,
      "grid_template_rows": null,
      "height": null,
      "justify_content": null,
      "justify_items": null,
      "left": null,
      "margin": null,
      "max_height": null,
      "max_width": null,
      "min_height": null,
      "min_width": null,
      "object_fit": null,
      "object_position": null,
      "order": null,
      "overflow": null,
      "overflow_x": null,
      "overflow_y": null,
      "padding": null,
      "right": null,
      "top": null,
      "visibility": null,
      "width": null
     }
    },
    "ccce8cd148e6432eb0fa4e1a9752fa09": {
     "model_module": "@jupyter-widgets/controls",
     "model_module_version": "1.5.0",
     "model_name": "HBoxModel",
     "state": {
      "_dom_classes": [],
      "_model_module": "@jupyter-widgets/controls",
      "_model_module_version": "1.5.0",
      "_model_name": "HBoxModel",
      "_view_count": null,
      "_view_module": "@jupyter-widgets/controls",
      "_view_module_version": "1.5.0",
      "_view_name": "HBoxView",
      "box_style": "",
      "children": [
       "IPY_MODEL_87a3e8b0f962488bbc76e4776441c2bc",
       "IPY_MODEL_aff3c33dc8bc4c6f9d316a2b5ff0b899",
       "IPY_MODEL_7943b38f55054d6bbe02a6ba6bd780c9"
      ],
      "layout": "IPY_MODEL_f301176a016f435d9d606b03e83e720e"
     }
    },
    "d2f6427fd0194b4aaa05c9e637405deb": {
     "model_module": "@jupyter-widgets/controls",
     "model_module_version": "1.5.0",
     "model_name": "HTMLModel",
     "state": {
      "_dom_classes": [],
      "_model_module": "@jupyter-widgets/controls",
      "_model_module_version": "1.5.0",
      "_model_name": "HTMLModel",
      "_view_count": null,
      "_view_module": "@jupyter-widgets/controls",
      "_view_module_version": "1.5.0",
      "_view_name": "HTMLView",
      "description": "",
      "description_tooltip": null,
      "layout": "IPY_MODEL_0781d8a1257c4f9b99e45f3641c0a29b",
      "placeholder": "​",
      "style": "IPY_MODEL_4f38312327ef4b76896fae1b4cc36f63",
      "value": "test.tgt: 100%"
     }
    },
    "d4459ca8cec94a2c90e1fc46e8d11712": {
     "model_module": "@jupyter-widgets/base",
     "model_module_version": "1.2.0",
     "model_name": "LayoutModel",
     "state": {
      "_model_module": "@jupyter-widgets/base",
      "_model_module_version": "1.2.0",
      "_model_name": "LayoutModel",
      "_view_count": null,
      "_view_module": "@jupyter-widgets/base",
      "_view_module_version": "1.2.0",
      "_view_name": "LayoutView",
      "align_content": null,
      "align_items": null,
      "align_self": null,
      "border": null,
      "bottom": null,
      "display": null,
      "flex": null,
      "flex_flow": null,
      "grid_area": null,
      "grid_auto_columns": null,
      "grid_auto_flow": null,
      "grid_auto_rows": null,
      "grid_column": null,
      "grid_gap": null,
      "grid_row": null,
      "grid_template_areas": null,
      "grid_template_columns": null,
      "grid_template_rows": null,
      "height": null,
      "justify_content": null,
      "justify_items": null,
      "left": null,
      "margin": null,
      "max_height": null,
      "max_width": null,
      "min_height": null,
      "min_width": null,
      "object_fit": null,
      "object_position": null,
      "order": null,
      "overflow": null,
      "overflow_x": null,
      "overflow_y": null,
      "padding": null,
      "right": null,
      "top": null,
      "visibility": null,
      "width": null
     }
    },
    "d7879c85c16342bb998a8356f36495ea": {
     "model_module": "@jupyter-widgets/controls",
     "model_module_version": "1.5.0",
     "model_name": "FloatProgressModel",
     "state": {
      "_dom_classes": [],
      "_model_module": "@jupyter-widgets/controls",
      "_model_module_version": "1.5.0",
      "_model_name": "FloatProgressModel",
      "_view_count": null,
      "_view_module": "@jupyter-widgets/controls",
      "_view_module_version": "1.5.0",
      "_view_name": "ProgressView",
      "bar_style": "success",
      "description": "",
      "description_tooltip": null,
      "layout": "IPY_MODEL_594ab5ababa0442990b0d897d9099ff4",
      "max": 66875522,
      "min": 0,
      "orientation": "horizontal",
      "style": "IPY_MODEL_c067b4b3cf9c49108dc88695bdc7a4b9",
      "value": 66875522
     }
    },
    "d8392d57509742ff935454bf36f36f3d": {
     "model_module": "@jupyter-widgets/base",
     "model_module_version": "1.2.0",
     "model_name": "LayoutModel",
     "state": {
      "_model_module": "@jupyter-widgets/base",
      "_model_module_version": "1.2.0",
      "_model_name": "LayoutModel",
      "_view_count": null,
      "_view_module": "@jupyter-widgets/base",
      "_view_module_version": "1.2.0",
      "_view_name": "LayoutView",
      "align_content": null,
      "align_items": null,
      "align_self": null,
      "border": null,
      "bottom": null,
      "display": null,
      "flex": null,
      "flex_flow": null,
      "grid_area": null,
      "grid_auto_columns": null,
      "grid_auto_flow": null,
      "grid_auto_rows": null,
      "grid_column": null,
      "grid_gap": null,
      "grid_row": null,
      "grid_template_areas": null,
      "grid_template_columns": null,
      "grid_template_rows": null,
      "height": null,
      "justify_content": null,
      "justify_items": null,
      "left": null,
      "margin": null,
      "max_height": null,
      "max_width": null,
      "min_height": null,
      "min_width": null,
      "object_fit": null,
      "object_position": null,
      "order": null,
      "overflow": null,
      "overflow_x": null,
      "overflow_y": null,
      "padding": null,
      "right": null,
      "top": null,
      "visibility": null,
      "width": null
     }
    },
    "da361be6d2f44cccac7d7de53f54db8f": {
     "model_module": "@jupyter-widgets/base",
     "model_module_version": "1.2.0",
     "model_name": "LayoutModel",
     "state": {
      "_model_module": "@jupyter-widgets/base",
      "_model_module_version": "1.2.0",
      "_model_name": "LayoutModel",
      "_view_count": null,
      "_view_module": "@jupyter-widgets/base",
      "_view_module_version": "1.2.0",
      "_view_name": "LayoutView",
      "align_content": null,
      "align_items": null,
      "align_self": null,
      "border": null,
      "bottom": null,
      "display": null,
      "flex": null,
      "flex_flow": null,
      "grid_area": null,
      "grid_auto_columns": null,
      "grid_auto_flow": null,
      "grid_auto_rows": null,
      "grid_column": null,
      "grid_gap": null,
      "grid_row": null,
      "grid_template_areas": null,
      "grid_template_columns": null,
      "grid_template_rows": null,
      "height": null,
      "justify_content": null,
      "justify_items": null,
      "left": null,
      "margin": null,
      "max_height": null,
      "max_width": null,
      "min_height": null,
      "min_width": null,
      "object_fit": null,
      "object_position": null,
      "order": null,
      "overflow": null,
      "overflow_x": null,
      "overflow_y": null,
      "padding": null,
      "right": null,
      "top": null,
      "visibility": null,
      "width": null
     }
    },
    "da5f331912504f3ca27a0717b26ae717": {
     "model_module": "@jupyter-widgets/controls",
     "model_module_version": "1.5.0",
     "model_name": "ProgressStyleModel",
     "state": {
      "_model_module": "@jupyter-widgets/controls",
      "_model_module_version": "1.5.0",
      "_model_name": "ProgressStyleModel",
      "_view_count": null,
      "_view_module": "@jupyter-widgets/base",
      "_view_module_version": "1.2.0",
      "_view_name": "StyleView",
      "bar_color": null,
      "description_width": ""
     }
    },
    "dc35647304294b8e85b8b31630b1756e": {
     "model_module": "@jupyter-widgets/controls",
     "model_module_version": "1.5.0",
     "model_name": "DescriptionStyleModel",
     "state": {
      "_model_module": "@jupyter-widgets/controls",
      "_model_module_version": "1.5.0",
      "_model_name": "DescriptionStyleModel",
      "_view_count": null,
      "_view_module": "@jupyter-widgets/base",
      "_view_module_version": "1.2.0",
      "_view_name": "StyleView",
      "description_width": ""
     }
    },
    "dce6ae9035e3464ead03c48eb1d8c4cc": {
     "model_module": "@jupyter-widgets/base",
     "model_module_version": "1.2.0",
     "model_name": "LayoutModel",
     "state": {
      "_model_module": "@jupyter-widgets/base",
      "_model_module_version": "1.2.0",
      "_model_name": "LayoutModel",
      "_view_count": null,
      "_view_module": "@jupyter-widgets/base",
      "_view_module_version": "1.2.0",
      "_view_name": "LayoutView",
      "align_content": null,
      "align_items": null,
      "align_self": null,
      "border": null,
      "bottom": null,
      "display": null,
      "flex": null,
      "flex_flow": null,
      "grid_area": null,
      "grid_auto_columns": null,
      "grid_auto_flow": null,
      "grid_auto_rows": null,
      "grid_column": null,
      "grid_gap": null,
      "grid_row": null,
      "grid_template_areas": null,
      "grid_template_columns": null,
      "grid_template_rows": null,
      "height": null,
      "justify_content": null,
      "justify_items": null,
      "left": null,
      "margin": null,
      "max_height": null,
      "max_width": null,
      "min_height": null,
      "min_width": null,
      "object_fit": null,
      "object_position": null,
      "order": null,
      "overflow": null,
      "overflow_x": null,
      "overflow_y": null,
      "padding": null,
      "right": null,
      "top": null,
      "visibility": null,
      "width": null
     }
    },
    "ddef0bb7117a4de68c5decf2f26f72b6": {
     "model_module": "@jupyter-widgets/controls",
     "model_module_version": "1.5.0",
     "model_name": "DescriptionStyleModel",
     "state": {
      "_model_module": "@jupyter-widgets/controls",
      "_model_module_version": "1.5.0",
      "_model_name": "DescriptionStyleModel",
      "_view_count": null,
      "_view_module": "@jupyter-widgets/base",
      "_view_module_version": "1.2.0",
      "_view_name": "StyleView",
      "description_width": ""
     }
    },
    "e02aff084e3b40b99e62f79f56aa8d0e": {
     "model_module": "@jupyter-widgets/controls",
     "model_module_version": "1.5.0",
     "model_name": "HTMLModel",
     "state": {
      "_dom_classes": [],
      "_model_module": "@jupyter-widgets/controls",
      "_model_module_version": "1.5.0",
      "_model_name": "HTMLModel",
      "_view_count": null,
      "_view_module": "@jupyter-widgets/controls",
      "_view_module_version": "1.5.0",
      "_view_name": "HTMLView",
      "description": "",
      "description_tooltip": null,
      "layout": "IPY_MODEL_58ae164283274eb4b48d8dbb533a5b85",
      "placeholder": "​",
      "style": "IPY_MODEL_6913402c256946278d28f2fe94050f62",
      "value": " 548M/548M [00:08&lt;00:00, 82.8MB/s]"
     }
    },
    "e0444f23e02c47afb2c9023242be0022": {
     "model_module": "@jupyter-widgets/controls",
     "model_module_version": "1.5.0",
     "model_name": "HBoxModel",
     "state": {
      "_dom_classes": [],
      "_model_module": "@jupyter-widgets/controls",
      "_model_module_version": "1.5.0",
      "_model_name": "HBoxModel",
      "_view_count": null,
      "_view_module": "@jupyter-widgets/controls",
      "_view_module_version": "1.5.0",
      "_view_name": "HBoxView",
      "box_style": "",
      "children": [
       "IPY_MODEL_d2f6427fd0194b4aaa05c9e637405deb",
       "IPY_MODEL_7c5e79291b224dd594b4e298709b3bab",
       "IPY_MODEL_6fd390ed8d2142c292b2392454caa847"
      ],
      "layout": "IPY_MODEL_91eb351b4b2246beba78e0b95278a7d3"
     }
    },
    "e1a6c481d3af4e3d8048042bf771d22e": {
     "model_module": "@jupyter-widgets/controls",
     "model_module_version": "1.5.0",
     "model_name": "FloatProgressModel",
     "state": {
      "_dom_classes": [],
      "_model_module": "@jupyter-widgets/controls",
      "_model_module_version": "1.5.0",
      "_model_name": "FloatProgressModel",
      "_view_count": null,
      "_view_module": "@jupyter-widgets/controls",
      "_view_module_version": "1.5.0",
      "_view_name": "ProgressView",
      "bar_style": "success",
      "description": "",
      "description_tooltip": null,
      "layout": "IPY_MODEL_dce6ae9035e3464ead03c48eb1d8c4cc",
      "max": 3830,
      "min": 0,
      "orientation": "horizontal",
      "style": "IPY_MODEL_648b0c875ee64de7b2c1127cafbc0ada",
      "value": 3830
     }
    },
    "e4278d8f94ab45d598e8b0212307acb3": {
     "model_module": "@jupyter-widgets/controls",
     "model_module_version": "1.5.0",
     "model_name": "DescriptionStyleModel",
     "state": {
      "_model_module": "@jupyter-widgets/controls",
      "_model_module_version": "1.5.0",
      "_model_name": "DescriptionStyleModel",
      "_view_count": null,
      "_view_module": "@jupyter-widgets/base",
      "_view_module_version": "1.2.0",
      "_view_name": "StyleView",
      "description_width": ""
     }
    },
    "e5f2174988514398992507828799a9f0": {
     "model_module": "@jupyter-widgets/controls",
     "model_module_version": "1.5.0",
     "model_name": "FloatProgressModel",
     "state": {
      "_dom_classes": [],
      "_model_module": "@jupyter-widgets/controls",
      "_model_module_version": "1.5.0",
      "_model_name": "FloatProgressModel",
      "_view_count": null,
      "_view_module": "@jupyter-widgets/controls",
      "_view_module_version": "1.5.0",
      "_view_name": "ProgressView",
      "bar_style": "success",
      "description": "",
      "description_tooltip": null,
      "layout": "IPY_MODEL_631f18d436c74b9da2ecfa13ef332e90",
      "max": 44972,
      "min": 0,
      "orientation": "horizontal",
      "style": "IPY_MODEL_5a7ddb88e1404ddfb8780806aadca5e0",
      "value": 44972
     }
    },
    "e60e6fc2ffad462f87a0b715d54d0588": {
     "model_module": "@jupyter-widgets/controls",
     "model_module_version": "1.5.0",
     "model_name": "HBoxModel",
     "state": {
      "_dom_classes": [],
      "_model_module": "@jupyter-widgets/controls",
      "_model_module_version": "1.5.0",
      "_model_name": "HBoxModel",
      "_view_count": null,
      "_view_module": "@jupyter-widgets/controls",
      "_view_module_version": "1.5.0",
      "_view_name": "HBoxView",
      "box_style": "",
      "children": [
       "IPY_MODEL_fd00d3da998f4770ba292ed3e73f2108",
       "IPY_MODEL_d7879c85c16342bb998a8356f36495ea",
       "IPY_MODEL_c4c8c9396d364e379293de77262973a6"
      ],
      "layout": "IPY_MODEL_0eb75cf777b3439cbb1358a519d9544a"
     }
    },
    "e6186e5ee44d408c86fd0f176d031fa5": {
     "model_module": "@jupyter-widgets/controls",
     "model_module_version": "1.5.0",
     "model_name": "ProgressStyleModel",
     "state": {
      "_model_module": "@jupyter-widgets/controls",
      "_model_module_version": "1.5.0",
      "_model_name": "ProgressStyleModel",
      "_view_count": null,
      "_view_module": "@jupyter-widgets/base",
      "_view_module_version": "1.2.0",
      "_view_name": "StyleView",
      "bar_color": null,
      "description_width": ""
     }
    },
    "e9e1bc2ce9d84f2bae01803b35f84178": {
     "model_module": "@jupyter-widgets/base",
     "model_module_version": "1.2.0",
     "model_name": "LayoutModel",
     "state": {
      "_model_module": "@jupyter-widgets/base",
      "_model_module_version": "1.2.0",
      "_model_name": "LayoutModel",
      "_view_count": null,
      "_view_module": "@jupyter-widgets/base",
      "_view_module_version": "1.2.0",
      "_view_name": "LayoutView",
      "align_content": null,
      "align_items": null,
      "align_self": null,
      "border": null,
      "bottom": null,
      "display": null,
      "flex": null,
      "flex_flow": null,
      "grid_area": null,
      "grid_auto_columns": null,
      "grid_auto_flow": null,
      "grid_auto_rows": null,
      "grid_column": null,
      "grid_gap": null,
      "grid_row": null,
      "grid_template_areas": null,
      "grid_template_columns": null,
      "grid_template_rows": null,
      "height": null,
      "justify_content": null,
      "justify_items": null,
      "left": null,
      "margin": null,
      "max_height": null,
      "max_width": null,
      "min_height": null,
      "min_width": null,
      "object_fit": null,
      "object_position": null,
      "order": null,
      "overflow": null,
      "overflow_x": null,
      "overflow_y": null,
      "padding": null,
      "right": null,
      "top": null,
      "visibility": null,
      "width": null
     }
    },
    "eba4ba754c2b469fa8fec26bd4fb5604": {
     "model_module": "@jupyter-widgets/controls",
     "model_module_version": "1.5.0",
     "model_name": "DescriptionStyleModel",
     "state": {
      "_model_module": "@jupyter-widgets/controls",
      "_model_module_version": "1.5.0",
      "_model_name": "DescriptionStyleModel",
      "_view_count": null,
      "_view_module": "@jupyter-widgets/base",
      "_view_module_version": "1.2.0",
      "_view_name": "StyleView",
      "description_width": ""
     }
    },
    "ebec4cef45dd4092bbd50c78a2d53c14": {
     "model_module": "@jupyter-widgets/base",
     "model_module_version": "1.2.0",
     "model_name": "LayoutModel",
     "state": {
      "_model_module": "@jupyter-widgets/base",
      "_model_module_version": "1.2.0",
      "_model_name": "LayoutModel",
      "_view_count": null,
      "_view_module": "@jupyter-widgets/base",
      "_view_module_version": "1.2.0",
      "_view_name": "LayoutView",
      "align_content": null,
      "align_items": null,
      "align_self": null,
      "border": null,
      "bottom": null,
      "display": null,
      "flex": null,
      "flex_flow": null,
      "grid_area": null,
      "grid_auto_columns": null,
      "grid_auto_flow": null,
      "grid_auto_rows": null,
      "grid_column": null,
      "grid_gap": null,
      "grid_row": null,
      "grid_template_areas": null,
      "grid_template_columns": null,
      "grid_template_rows": null,
      "height": null,
      "justify_content": null,
      "justify_items": null,
      "left": null,
      "margin": null,
      "max_height": null,
      "max_width": null,
      "min_height": null,
      "min_width": null,
      "object_fit": null,
      "object_position": null,
      "order": null,
      "overflow": null,
      "overflow_x": null,
      "overflow_y": null,
      "padding": null,
      "right": null,
      "top": null,
      "visibility": null,
      "width": null
     }
    },
    "ede1bd2ff37c410790f91a4a8e9d2fa6": {
     "model_module": "@jupyter-widgets/base",
     "model_module_version": "1.2.0",
     "model_name": "LayoutModel",
     "state": {
      "_model_module": "@jupyter-widgets/base",
      "_model_module_version": "1.2.0",
      "_model_name": "LayoutModel",
      "_view_count": null,
      "_view_module": "@jupyter-widgets/base",
      "_view_module_version": "1.2.0",
      "_view_name": "LayoutView",
      "align_content": null,
      "align_items": null,
      "align_self": null,
      "border": null,
      "bottom": null,
      "display": null,
      "flex": null,
      "flex_flow": null,
      "grid_area": null,
      "grid_auto_columns": null,
      "grid_auto_flow": null,
      "grid_auto_rows": null,
      "grid_column": null,
      "grid_gap": null,
      "grid_row": null,
      "grid_template_areas": null,
      "grid_template_columns": null,
      "grid_template_rows": null,
      "height": null,
      "justify_content": null,
      "justify_items": null,
      "left": null,
      "margin": null,
      "max_height": null,
      "max_width": null,
      "min_height": null,
      "min_width": null,
      "object_fit": null,
      "object_position": null,
      "order": null,
      "overflow": null,
      "overflow_x": null,
      "overflow_y": null,
      "padding": null,
      "right": null,
      "top": null,
      "visibility": null,
      "width": null
     }
    },
    "ee83506b95c24c4a872e2476819a3d7d": {
     "model_module": "@jupyter-widgets/controls",
     "model_module_version": "1.5.0",
     "model_name": "HBoxModel",
     "state": {
      "_dom_classes": [],
      "_model_module": "@jupyter-widgets/controls",
      "_model_module_version": "1.5.0",
      "_model_name": "HBoxModel",
      "_view_count": null,
      "_view_module": "@jupyter-widgets/controls",
      "_view_module_version": "1.5.0",
      "_view_name": "HBoxView",
      "box_style": "",
      "children": [
       "IPY_MODEL_4bd9682fb888446087615652157ff643",
       "IPY_MODEL_02ce64b7df3e4c13b9da7688bcbe1ede",
       "IPY_MODEL_c079f21c16c141bbab8f4ca093579f06"
      ],
      "layout": "IPY_MODEL_d4459ca8cec94a2c90e1fc46e8d11712"
     }
    },
    "f301176a016f435d9d606b03e83e720e": {
     "model_module": "@jupyter-widgets/base",
     "model_module_version": "1.2.0",
     "model_name": "LayoutModel",
     "state": {
      "_model_module": "@jupyter-widgets/base",
      "_model_module_version": "1.2.0",
      "_model_name": "LayoutModel",
      "_view_count": null,
      "_view_module": "@jupyter-widgets/base",
      "_view_module_version": "1.2.0",
      "_view_name": "LayoutView",
      "align_content": null,
      "align_items": null,
      "align_self": null,
      "border": null,
      "bottom": null,
      "display": null,
      "flex": null,
      "flex_flow": null,
      "grid_area": null,
      "grid_auto_columns": null,
      "grid_auto_flow": null,
      "grid_auto_rows": null,
      "grid_column": null,
      "grid_gap": null,
      "grid_row": null,
      "grid_template_areas": null,
      "grid_template_columns": null,
      "grid_template_rows": null,
      "height": null,
      "justify_content": null,
      "justify_items": null,
      "left": null,
      "margin": null,
      "max_height": null,
      "max_width": null,
      "min_height": null,
      "min_width": null,
      "object_fit": null,
      "object_position": null,
      "order": null,
      "overflow": null,
      "overflow_x": null,
      "overflow_y": null,
      "padding": null,
      "right": null,
      "top": null,
      "visibility": null,
      "width": null
     }
    },
    "f599626eebc146b8a7df869e168e74cd": {
     "model_module": "@jupyter-widgets/controls",
     "model_module_version": "1.5.0",
     "model_name": "HTMLModel",
     "state": {
      "_dom_classes": [],
      "_model_module": "@jupyter-widgets/controls",
      "_model_module_version": "1.5.0",
      "_model_name": "HTMLModel",
      "_view_count": null,
      "_view_module": "@jupyter-widgets/controls",
      "_view_module_version": "1.5.0",
      "_view_name": "HTMLView",
      "description": "",
      "description_tooltip": null,
      "layout": "IPY_MODEL_184c0e6bbae44775ad9bacc0e6db3a37",
      "placeholder": "​",
      "style": "IPY_MODEL_4402a47162dd4613ace8549768f4e93c",
      "value": " 3.83k/3.83k [00:00&lt;00:00, 313kB/s]"
     }
    },
    "f626464b9e53466aa7efc4a567da0bd7": {
     "model_module": "@jupyter-widgets/controls",
     "model_module_version": "1.5.0",
     "model_name": "HBoxModel",
     "state": {
      "_dom_classes": [],
      "_model_module": "@jupyter-widgets/controls",
      "_model_module_version": "1.5.0",
      "_model_name": "HBoxModel",
      "_view_count": null,
      "_view_module": "@jupyter-widgets/controls",
      "_view_module_version": "1.5.0",
      "_view_name": "HBoxView",
      "box_style": "",
      "children": [
       "IPY_MODEL_c2d6a9d8f0654d0ba0bd5e2856f1fe54",
       "IPY_MODEL_f91361e7cb1a45f3bf77adee23995b15",
       "IPY_MODEL_19573ad2acf2491ea63734567bc75402"
      ],
      "layout": "IPY_MODEL_305f57eccdea4882a8c9602765030b77"
     }
    },
    "f6986cddeef94a5c925353013ab13d7d": {
     "model_module": "@jupyter-widgets/base",
     "model_module_version": "1.2.0",
     "model_name": "LayoutModel",
     "state": {
      "_model_module": "@jupyter-widgets/base",
      "_model_module_version": "1.2.0",
      "_model_name": "LayoutModel",
      "_view_count": null,
      "_view_module": "@jupyter-widgets/base",
      "_view_module_version": "1.2.0",
      "_view_name": "LayoutView",
      "align_content": null,
      "align_items": null,
      "align_self": null,
      "border": null,
      "bottom": null,
      "display": null,
      "flex": null,
      "flex_flow": null,
      "grid_area": null,
      "grid_auto_columns": null,
      "grid_auto_flow": null,
      "grid_auto_rows": null,
      "grid_column": null,
      "grid_gap": null,
      "grid_row": null,
      "grid_template_areas": null,
      "grid_template_columns": null,
      "grid_template_rows": null,
      "height": null,
      "justify_content": null,
      "justify_items": null,
      "left": null,
      "margin": null,
      "max_height": null,
      "max_width": null,
      "min_height": null,
      "min_width": null,
      "object_fit": null,
      "object_position": null,
      "order": null,
      "overflow": null,
      "overflow_x": null,
      "overflow_y": null,
      "padding": null,
      "right": null,
      "top": null,
      "visibility": null,
      "width": null
     }
    },
    "f82eb18680294dc1987fb069994f9df9": {
     "model_module": "@jupyter-widgets/base",
     "model_module_version": "1.2.0",
     "model_name": "LayoutModel",
     "state": {
      "_model_module": "@jupyter-widgets/base",
      "_model_module_version": "1.2.0",
      "_model_name": "LayoutModel",
      "_view_count": null,
      "_view_module": "@jupyter-widgets/base",
      "_view_module_version": "1.2.0",
      "_view_name": "LayoutView",
      "align_content": null,
      "align_items": null,
      "align_self": null,
      "border": null,
      "bottom": null,
      "display": null,
      "flex": null,
      "flex_flow": null,
      "grid_area": null,
      "grid_auto_columns": null,
      "grid_auto_flow": null,
      "grid_auto_rows": null,
      "grid_column": null,
      "grid_gap": null,
      "grid_row": null,
      "grid_template_areas": null,
      "grid_template_columns": null,
      "grid_template_rows": null,
      "height": null,
      "justify_content": null,
      "justify_items": null,
      "left": null,
      "margin": null,
      "max_height": null,
      "max_width": null,
      "min_height": null,
      "min_width": null,
      "object_fit": null,
      "object_position": null,
      "order": null,
      "overflow": null,
      "overflow_x": null,
      "overflow_y": null,
      "padding": null,
      "right": null,
      "top": null,
      "visibility": null,
      "width": null
     }
    },
    "f8d19de2a7d34848869e5623c4b8c691": {
     "model_module": "@jupyter-widgets/controls",
     "model_module_version": "1.5.0",
     "model_name": "HTMLModel",
     "state": {
      "_dom_classes": [],
      "_model_module": "@jupyter-widgets/controls",
      "_model_module_version": "1.5.0",
      "_model_name": "HTMLModel",
      "_view_count": null,
      "_view_module": "@jupyter-widgets/controls",
      "_view_module_version": "1.5.0",
      "_view_name": "HTMLView",
      "description": "",
      "description_tooltip": null,
      "layout": "IPY_MODEL_e9e1bc2ce9d84f2bae01803b35f84178",
      "placeholder": "​",
      "style": "IPY_MODEL_fb59ee5d4eb14f4db7a53a350cc4553d",
      "value": "Generating train split: 100%"
     }
    },
    "f91361e7cb1a45f3bf77adee23995b15": {
     "model_module": "@jupyter-widgets/controls",
     "model_module_version": "1.5.0",
     "model_name": "FloatProgressModel",
     "state": {
      "_dom_classes": [],
      "_model_module": "@jupyter-widgets/controls",
      "_model_module_version": "1.5.0",
      "_model_name": "FloatProgressModel",
      "_view_count": null,
      "_view_module": "@jupyter-widgets/controls",
      "_view_module_version": "1.5.0",
      "_view_name": "ProgressView",
      "bar_style": "success",
      "description": "",
      "description_tooltip": null,
      "layout": "IPY_MODEL_fb206001382e474187618025575f2735",
      "max": 68999509,
      "min": 0,
      "orientation": "horizontal",
      "style": "IPY_MODEL_da5f331912504f3ca27a0717b26ae717",
      "value": 68999509
     }
    },
    "fb206001382e474187618025575f2735": {
     "model_module": "@jupyter-widgets/base",
     "model_module_version": "1.2.0",
     "model_name": "LayoutModel",
     "state": {
      "_model_module": "@jupyter-widgets/base",
      "_model_module_version": "1.2.0",
      "_model_name": "LayoutModel",
      "_view_count": null,
      "_view_module": "@jupyter-widgets/base",
      "_view_module_version": "1.2.0",
      "_view_name": "LayoutView",
      "align_content": null,
      "align_items": null,
      "align_self": null,
      "border": null,
      "bottom": null,
      "display": null,
      "flex": null,
      "flex_flow": null,
      "grid_area": null,
      "grid_auto_columns": null,
      "grid_auto_flow": null,
      "grid_auto_rows": null,
      "grid_column": null,
      "grid_gap": null,
      "grid_row": null,
      "grid_template_areas": null,
      "grid_template_columns": null,
      "grid_template_rows": null,
      "height": null,
      "justify_content": null,
      "justify_items": null,
      "left": null,
      "margin": null,
      "max_height": null,
      "max_width": null,
      "min_height": null,
      "min_width": null,
      "object_fit": null,
      "object_position": null,
      "order": null,
      "overflow": null,
      "overflow_x": null,
      "overflow_y": null,
      "padding": null,
      "right": null,
      "top": null,
      "visibility": null,
      "width": null
     }
    },
    "fb59ee5d4eb14f4db7a53a350cc4553d": {
     "model_module": "@jupyter-widgets/controls",
     "model_module_version": "1.5.0",
     "model_name": "DescriptionStyleModel",
     "state": {
      "_model_module": "@jupyter-widgets/controls",
      "_model_module_version": "1.5.0",
      "_model_name": "DescriptionStyleModel",
      "_view_count": null,
      "_view_module": "@jupyter-widgets/base",
      "_view_module_version": "1.2.0",
      "_view_name": "StyleView",
      "description_width": ""
     }
    },
    "fca8c0cc18674074ba2131ddfada40af": {
     "model_module": "@jupyter-widgets/controls",
     "model_module_version": "1.5.0",
     "model_name": "HTMLModel",
     "state": {
      "_dom_classes": [],
      "_model_module": "@jupyter-widgets/controls",
      "_model_module_version": "1.5.0",
      "_model_name": "HTMLModel",
      "_view_count": null,
      "_view_module": "@jupyter-widgets/controls",
      "_view_module_version": "1.5.0",
      "_view_name": "HTMLView",
      "description": "",
      "description_tooltip": null,
      "layout": "IPY_MODEL_501d2a4cca0944a292323f200fd08c4c",
      "placeholder": "​",
      "style": "IPY_MODEL_dc35647304294b8e85b8b31630b1756e",
      "value": "Generating test split: 100%"
     }
    },
    "fd00d3da998f4770ba292ed3e73f2108": {
     "model_module": "@jupyter-widgets/controls",
     "model_module_version": "1.5.0",
     "model_name": "HTMLModel",
     "state": {
      "_dom_classes": [],
      "_model_module": "@jupyter-widgets/controls",
      "_model_module_version": "1.5.0",
      "_model_name": "HTMLModel",
      "_view_count": null,
      "_view_module": "@jupyter-widgets/controls",
      "_view_module_version": "1.5.0",
      "_view_name": "HTMLView",
      "description": "",
      "description_tooltip": null,
      "layout": "IPY_MODEL_13da2ed6245b43a9b1b636679bfe1e10",
      "placeholder": "​",
      "style": "IPY_MODEL_1c0ad74419fa45d2860e979fbac85f30",
      "value": "val.src.cleaned: 100%"
     }
    },
    "fd0e1138a0cf4817a26630da4773ee75": {
     "model_module": "@jupyter-widgets/controls",
     "model_module_version": "1.5.0",
     "model_name": "HBoxModel",
     "state": {
      "_dom_classes": [],
      "_model_module": "@jupyter-widgets/controls",
      "_model_module_version": "1.5.0",
      "_model_name": "HBoxModel",
      "_view_count": null,
      "_view_module": "@jupyter-widgets/controls",
      "_view_module_version": "1.5.0",
      "_view_name": "HBoxView",
      "box_style": "",
      "children": [
       "IPY_MODEL_671a3495644b4c2685ab9b7deca68952",
       "IPY_MODEL_e1a6c481d3af4e3d8048042bf771d22e",
       "IPY_MODEL_f599626eebc146b8a7df869e168e74cd"
      ],
      "layout": "IPY_MODEL_3efdac168881429f8d0282c994501084"
     }
    },
    "ffbc6c2e5dc74ac48967ff5a4f1125ce": {
     "model_module": "@jupyter-widgets/base",
     "model_module_version": "1.2.0",
     "model_name": "LayoutModel",
     "state": {
      "_model_module": "@jupyter-widgets/base",
      "_model_module_version": "1.2.0",
      "_model_name": "LayoutModel",
      "_view_count": null,
      "_view_module": "@jupyter-widgets/base",
      "_view_module_version": "1.2.0",
      "_view_name": "LayoutView",
      "align_content": null,
      "align_items": null,
      "align_self": null,
      "border": null,
      "bottom": null,
      "display": null,
      "flex": null,
      "flex_flow": null,
      "grid_area": null,
      "grid_auto_columns": null,
      "grid_auto_flow": null,
      "grid_auto_rows": null,
      "grid_column": null,
      "grid_gap": null,
      "grid_row": null,
      "grid_template_areas": null,
      "grid_template_columns": null,
      "grid_template_rows": null,
      "height": null,
      "justify_content": null,
      "justify_items": null,
      "left": null,
      "margin": null,
      "max_height": null,
      "max_width": null,
      "min_height": null,
      "min_width": null,
      "object_fit": null,
      "object_position": null,
      "order": null,
      "overflow": null,
      "overflow_x": null,
      "overflow_y": null,
      "padding": null,
      "right": null,
      "top": null,
      "visibility": null,
      "width": null
     }
    }
   }
  }
 },
 "nbformat": 4,
 "nbformat_minor": 4
}

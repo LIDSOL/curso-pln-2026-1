{
 "cells": [
  {
   "cell_type": "markdown",
   "id": "adf04ca3-daba-4b71-9a60-01c9c2c08166",
   "metadata": {
    "editable": true,
    "slideshow": {
     "slide_type": ""
    },
    "tags": []
   },
   "source": [
    "<p align=\"center\">\n",
    "    <a target=\"_blank\" href=\"https://colab.research.google.com/github/LIDSOL/curso-pln-2026-1/blob/main/3_preprocess.ipynb\">\n",
    "        <img src=\"https://colab.research.google.com/assets/colab-badge.svg\" alt=\"Open In Colab\"/>\n",
    "    </a>\n",
    "</p> "
   ]
  },
  {
   "cell_type": "markdown",
   "id": "bc9d7bae-0d8b-4e9a-a3e0-9790a3b5c39e",
   "metadata": {
    "id": "bc9d7bae-0d8b-4e9a-a3e0-9790a3b5c39e"
   },
   "source": [
    "# Preprocesamiento y Tokenización"
   ]
  },
  {
   "cell_type": "markdown",
   "id": "de9a9e41-d41b-4777-9f61-9474cd17c741",
   "metadata": {
    "id": "de9a9e41-d41b-4777-9f61-9474cd17c741"
   },
   "source": [
    "![](https://2.bp.blogspot.com/-oDvCIkIjwXw/VdWWxfvmq3I/AAAAAAAARUE/r0MrmbNzMz8/s1600/inputoutput.jpg)"
   ]
  },
  {
   "cell_type": "markdown",
   "id": "f8e85c44-87ac-4fb0-b4a6-95f9e12cd98e",
   "metadata": {
    "id": "f8e85c44-87ac-4fb0-b4a6-95f9e12cd98e"
   },
   "source": [
    "- Tecnicas de procesamiento del lenguaje depende de las palabras y las oraciones. Debemos identificar estos elementos para poder procesarlos\n",
    "- Este paso de identificación de palabras y oraciones se le llama segmentación de texto o **tokenización** (*tokenization*)\n",
    "- Además de la identificación de unidades aplicaremos transformaciones al texto"
   ]
  },
  {
   "cell_type": "markdown",
   "id": "66bf61a5-0e1a-4b8a-a4b2-16d381f007ba",
   "metadata": {
    "id": "66bf61a5-0e1a-4b8a-a4b2-16d381f007ba"
   },
   "source": [
    "## ¿Qué es una palabra?"
   ]
  },
  {
   "cell_type": "markdown",
   "id": "31415ec4-b845-43d4-9768-e185d993ac01",
   "metadata": {
    "id": "31415ec4-b845-43d4-9768-e185d993ac01"
   },
   "source": [
    "Aunque la definición de lo que es una palabra puede parecer obvia es tremendamente difícil."
   ]
  },
  {
   "cell_type": "markdown",
   "id": "77b7ac8a-f5f0-476d-827a-e44e26b2682d",
   "metadata": {
    "id": "77b7ac8a-f5f0-476d-827a-e44e26b2682d"
   },
   "source": [
    "- I'm\n",
    "- we'd\n",
    "- I've\n",
    "- Diego's Bicycle"
   ]
  },
  {
   "cell_type": "markdown",
   "id": "f18669fc-3c5a-4d91-86c7-c171d2b57b08",
   "metadata": {
    "id": "f18669fc-3c5a-4d91-86c7-c171d2b57b08"
   },
   "source": [
    "## Elementos del preprocesamiento"
   ]
  },
  {
   "cell_type": "markdown",
   "id": "af1bb17a-a46e-4a91-ab4e-dab771a46146",
   "metadata": {
    "id": "af1bb17a-a46e-4a91-ab4e-dab771a46146"
   },
   "source": [
    "- Limpiado\n",
    "    - Quitar stopwords\n",
    "    - Quitar elementos de marcado (HTML, XML)\n",
    "- Normalización\n",
    "- Tokenización"
   ]
  },
  {
   "cell_type": "markdown",
   "id": "16ba6a90-cf6d-4c4a-8a60-603b560272ed",
   "metadata": {
    "id": "16ba6a90-cf6d-4c4a-8a60-603b560272ed"
   },
   "source": [
    "### Stopwords"
   ]
  },
  {
   "cell_type": "code",
   "execution_count": null,
   "id": "c4794b97-7510-41df-afa8-5ecebd05904f",
   "metadata": {
    "id": "c4794b97-7510-41df-afa8-5ecebd05904f"
   },
   "outputs": [],
   "source": [
    "# Stopwords\n",
    "import nltk\n",
    "from nltk.corpus import stopwords"
   ]
  },
  {
   "cell_type": "code",
   "execution_count": null,
   "id": "fmp68qFmwaZ_",
   "metadata": {
    "colab": {
     "base_uri": "https://localhost:8080/"
    },
    "id": "fmp68qFmwaZ_",
    "outputId": "ff496a5c-4acd-46e0-ae59-4eea986602ee"
   },
   "outputs": [],
   "source": [
    "nltk.download('stopwords')"
   ]
  },
  {
   "cell_type": "code",
   "execution_count": null,
   "id": "656189ff-e72a-4320-a015-1d17d64ae7d6",
   "metadata": {
    "id": "656189ff-e72a-4320-a015-1d17d64ae7d6"
   },
   "outputs": [],
   "source": [
    "stopwords.words(\"spanish\")[-15:]"
   ]
  },
  {
   "cell_type": "markdown",
   "id": "48386915-018b-4ae0-86c6-17c35d05b260",
   "metadata": {
    "id": "48386915-018b-4ae0-86c6-17c35d05b260"
   },
   "source": [
    "### Normalización"
   ]
  },
  {
   "cell_type": "markdown",
   "id": "b1408f7a-7b41-4aa7-9e02-83f163215d5a",
   "metadata": {
    "id": "b1408f7a-7b41-4aa7-9e02-83f163215d5a"
   },
   "source": [
    "<center><img src=\"https://external-content.duckduckgo.com/iu/?u=http%3A%2F%2Fimg1.wikia.nocookie.net%2F__cb20140504152558%2Fspongebob%2Fimages%2Fe%2Fe3%2FThe_spongebob.jpg&f=1&nofb=1&ipt=28368023b54a7c84c9100025981b1042d0f4ca3ceaac53be42094cc1c3794348&ipo=images\" height=300 width=300></center>"
   ]
  },
  {
   "cell_type": "code",
   "execution_count": null,
   "id": "6a0d292c-0913-43fc-915e-3c471c3e6498",
   "metadata": {
    "id": "6a0d292c-0913-43fc-915e-3c471c3e6498"
   },
   "outputs": [],
   "source": [
    "import unicodedata\n",
    "\n",
    "def strip_accents(s: str) -> str:\n",
    "   return ''.join(\n",
    "       c for c in unicodedata.normalize('NFD', s)\n",
    "       if unicodedata.category(c) != 'Mn'\n",
    "   )"
   ]
  },
  {
   "cell_type": "code",
   "execution_count": null,
   "id": "24ebe82f-fc22-44f0-a8e1-850159088bcc",
   "metadata": {
    "id": "24ebe82f-fc22-44f0-a8e1-850159088bcc"
   },
   "outputs": [],
   "source": [
    "strip_accents(\"mamá hoy quería que me oigan en el olímpo\")"
   ]
  },
  {
   "cell_type": "markdown",
   "id": "56979837-f830-4485-a789-fb19f9a47fe8",
   "metadata": {
    "id": "56979837-f830-4485-a789-fb19f9a47fe8"
   },
   "source": [
    "- https://www.unicode.org/reports/tr44/#GC_Values_Table\n",
    "\n",
    "> And keep in mind, these manipulations may significantly alter the meaning of the text. Accents, Umlauts etc. are not \"decoration\".\n",
    "- [oefe](https://stackoverflow.com/users/49793/oefe) - [source](https://stackoverflow.com/questions/517923/what-is-the-best-way-to-remove-accents-normalize-in-a-python-unicode-string)"
   ]
  },
  {
   "cell_type": "code",
   "execution_count": null,
   "id": "633f0e32-c0c5-4406-9765-6233122afe26",
   "metadata": {
    "id": "633f0e32-c0c5-4406-9765-6233122afe26"
   },
   "outputs": [],
   "source": [
    "def normalize(words: list, regex=r\"\\w+\", lang=\"en\") -> list:\n",
    "    stop_lang = \"english\" if lang==\"en\" else \"spanish\"\n",
    "    lower_words = list(map(str.lower, words))\n",
    "    return [\n",
    "        word\n",
    "        for word in lower_words\n",
    "        if word not in stopwords.words(stop_lang)\n",
    "        and re.match(regex, word)\n",
    "    ]"
   ]
  },
  {
   "cell_type": "markdown",
   "id": "0ddc2aa7-ee08-49d6-965b-33689dc90ec5",
   "metadata": {
    "id": "0ddc2aa7-ee08-49d6-965b-33689dc90ec5"
   },
   "source": [
    "## Word-base tokenization"
   ]
  },
  {
   "cell_type": "code",
   "execution_count": null,
   "id": "f9b61fc1-db4b-4fe2-a5e8-208224511055",
   "metadata": {
    "id": "f9b61fc1-db4b-4fe2-a5e8-208224511055"
   },
   "outputs": [],
   "source": [
    "text = \"\"\"\n",
    "¡¡¡Mamá prendele a la grabadora!!!, ¿llamaste a las vecinas? Corre la voz porque, efectivamente, !estoy en la tele! 📺\n",
    "\"\"\""
   ]
  },
  {
   "cell_type": "code",
   "execution_count": null,
   "id": "99e04d8e-7a84-48da-9cce-ea13e2a49219",
   "metadata": {
    "id": "99e04d8e-7a84-48da-9cce-ea13e2a49219"
   },
   "outputs": [],
   "source": [
    "text.split()"
   ]
  },
  {
   "cell_type": "code",
   "execution_count": null,
   "id": "a3HZJOi0ykRR",
   "metadata": {
    "id": "a3HZJOi0ykRR"
   },
   "outputs": [],
   "source": [
    "import re"
   ]
  },
  {
   "cell_type": "code",
   "execution_count": null,
   "id": "391ff037-8b9a-4ce9-9033-a6f9af23a5cf",
   "metadata": {
    "colab": {
     "base_uri": "https://localhost:8080/",
     "height": 176
    },
    "id": "391ff037-8b9a-4ce9-9033-a6f9af23a5cf",
    "outputId": "34bb9ee0-d9c9-451d-daa9-8e9e457fea95"
   },
   "outputs": [],
   "source": [
    "# [a-zA-Z_]\n",
    "regex = r\"\\w+\"\n",
    "re.findall(regex, text)"
   ]
  },
  {
   "cell_type": "code",
   "execution_count": null,
   "id": "bf8294ee-8724-446f-8c02-ad152502ef34",
   "metadata": {
    "id": "bf8294ee-8724-446f-8c02-ad152502ef34"
   },
   "outputs": [],
   "source": [
    "re.findall(regex, \"El valor de PI es 3.14159\")"
   ]
  },
  {
   "cell_type": "markdown",
   "id": "f4f2d72d-fb80-4204-a739-167ab9063414",
   "metadata": {
    "id": "f4f2d72d-fb80-4204-a739-167ab9063414"
   },
   "source": [
    "![](http://images.wikia.com/battlebears/images/2/2c/Troll_Problem.jpg)"
   ]
  },
  {
   "cell_type": "markdown",
   "id": "8c5f8ae0-1626-4c15-9b9c-1381ef0d8508",
   "metadata": {
    "id": "8c5f8ae0-1626-4c15-9b9c-1381ef0d8508"
   },
   "source": [
    "- Vocabularios gigantescos difíciles de procesar\n",
    "- Generalmente, entre más grande es el vocabulario más pesado será nuestro modelo\n",
    "\n",
    "**Ejemplo:**\n",
    "- Si queremos representaciones vectoriales (*spoiler*) de nuestras palabras obtendríamos vectores distintos para palabras similares\n",
    "    - niño = `v1(39, 34, 5,...)`\n",
    "    - niños = `v2(9, 4, 0,...)`\n",
    "    - niña = `v3(2, 1, 1,...)`\n",
    "    - ...\n",
    "- Tendríamos tokens con bajísima frecuencia\n",
    "    - merequetengue = `vn(0,0,1,...)`"
   ]
  },
  {
   "cell_type": "markdown",
   "id": "8e1a0096-0a54-45af-823c-3f8a25cfa196",
   "metadata": {
    "id": "8e1a0096-0a54-45af-823c-3f8a25cfa196"
   },
   "source": [
    "### Una solución: Steaming/Lematización (AKA la vieja confiable)"
   ]
  },
  {
   "cell_type": "markdown",
   "id": "e38c6752-4b70-4b0d-9bbd-10bf16f3f5b6",
   "metadata": {
    "id": "e38c6752-4b70-4b0d-9bbd-10bf16f3f5b6"
   },
   "source": [
    "![](https://i.pinimg.com/736x/77/df/89/77df89e6ff57d332ba4e5d7bff723133--meme.jpg)"
   ]
  },
  {
   "cell_type": "code",
   "execution_count": null,
   "id": "e70c9d0e-2f78-404c-ab8b-6889982092c9",
   "metadata": {
    "id": "e70c9d0e-2f78-404c-ab8b-6889982092c9"
   },
   "outputs": [],
   "source": [
    "from nltk.corpus import brown\n",
    "nltk.download('brown')"
   ]
  },
  {
   "cell_type": "code",
   "execution_count": null,
   "id": "8fb7d008-0c35-48c2-9604-c235ed415e4f",
   "metadata": {
    "id": "8fb7d008-0c35-48c2-9604-c235ed415e4f"
   },
   "outputs": [],
   "source": [
    "from collections import Counter\n",
    "\n",
    "brown_corpus = [word.lower() for word in brown.words() if re.match(regex, word)]\n",
    "print(brown_corpus[0])\n",
    "print(\"Tokens:\", len(brown_corpus))\n",
    "print(\"Tipos:\", len(Counter(brown_corpus)))"
   ]
  },
  {
   "cell_type": "code",
   "execution_count": null,
   "id": "61f209ea-0d04-42c2-a5c4-afe93a9f4c7a",
   "metadata": {
    "id": "61f209ea-0d04-42c2-a5c4-afe93a9f4c7a"
   },
   "outputs": [],
   "source": [
    "brown_corpus[:10]"
   ]
  },
  {
   "cell_type": "code",
   "execution_count": null,
   "id": "c448b58d-095c-4a02-ac57-6c9d14dc4be8",
   "metadata": {},
   "outputs": [],
   "source": [
    "len(set(brown_corpus))"
   ]
  },
  {
   "cell_type": "markdown",
   "id": "510ffd6b-ec60-4900-9560-8049d1b0a904",
   "metadata": {
    "id": "510ffd6b-ec60-4900-9560-8049d1b0a904"
   },
   "source": [
    "### Steamming"
   ]
  },
  {
   "cell_type": "code",
   "execution_count": null,
   "id": "d7d03024-890c-48de-95f0-a890a1063d4f",
   "metadata": {
    "id": "d7d03024-890c-48de-95f0-a890a1063d4f"
   },
   "outputs": [],
   "source": [
    "from nltk.stem.snowball import SnowballStemmer\n",
    "\n",
    "stemmer = SnowballStemmer(\"english\")"
   ]
  },
  {
   "cell_type": "code",
   "execution_count": null,
   "id": "38efb116-8b9a-4500-b2f3-f623f13648d4",
   "metadata": {
    "id": "38efb116-8b9a-4500-b2f3-f623f13648d4"
   },
   "outputs": [],
   "source": [
    "stemmed_brown = [stemmer.stem(word) for word in brown_corpus]"
   ]
  },
  {
   "cell_type": "code",
   "execution_count": null,
   "id": "dd07ace5-623f-46ec-bdb9-d5b27b8dd4c3",
   "metadata": {},
   "outputs": [],
   "source": [
    "len(set(stemmed_brown))"
   ]
  },
  {
   "cell_type": "markdown",
   "id": "066de27f-2a9b-4acf-bd20-480535359d1f",
   "metadata": {
    "id": "066de27f-2a9b-4acf-bd20-480535359d1f"
   },
   "source": [
    "### Lematización"
   ]
  },
  {
   "cell_type": "code",
   "execution_count": null,
   "id": "bce370d9-3d7a-4877-b57c-6498ebf283b3",
   "metadata": {},
   "outputs": [],
   "source": [
    "nltk.download('averaged_perceptron_tagger_eng')"
   ]
  },
  {
   "cell_type": "code",
   "execution_count": null,
   "id": "60e870f4-c44c-4c36-8c95-1b425222d9c8",
   "metadata": {
    "id": "60e870f4-c44c-4c36-8c95-1b425222d9c8"
   },
   "outputs": [],
   "source": [
    "from nltk.tokenize import word_tokenize\n",
    "from nltk.stem import WordNetLemmatizer\n",
    "from nltk import pos_tag\n",
    "\n",
    "def get_wordnet_pos(tag):\n",
    "    if tag.startswith('J'):  \n",
    "        return 'a'\n",
    "    elif tag.startswith('V'):  \n",
    "        return 'v'\n",
    "    elif tag.startswith('N'):  \n",
    "        return 'n'\n",
    "    elif tag.startswith('R'):  \n",
    "        return 'r'\n",
    "    else:\n",
    "        return 'n'\n",
    "\n",
    "def lemmatize(words: list) -> list:\n",
    "    result = []\n",
    "    tagged_tokens = pos_tag(words)\n",
    "    lemmatizer = WordNetLemmatizer()\n",
    "    for word, tag in tagged_tokens:\n",
    "        if word.lower() == 'are' or word.lower() in ['is', 'am']:\n",
    "            result.append(word)\n",
    "        else:\n",
    "            result.append(lemmatizer.lemmatize(word, get_wordnet_pos(tag)))\n",
    "    \n",
    "    return result"
   ]
  },
  {
   "cell_type": "code",
   "execution_count": null,
   "id": "10bbcbe3-8e54-469c-bf29-1e9698ee0667",
   "metadata": {
    "id": "10bbcbe3-8e54-469c-bf29-1e9698ee0667"
   },
   "outputs": [],
   "source": [
    "lemmatized_brown = lemmatize(brown_corpus)"
   ]
  },
  {
   "cell_type": "code",
   "execution_count": null,
   "id": "8181b56e-2afe-425a-bd18-57f0d2670c90",
   "metadata": {},
   "outputs": [],
   "source": [
    "lemmatized_brown[:10]"
   ]
  },
  {
   "cell_type": "code",
   "execution_count": null,
   "id": "d97520de-ce55-4ad4-8c6a-7539089d30a8",
   "metadata": {
    "id": "d97520de-ce55-4ad4-8c6a-7539089d30a8"
   },
   "outputs": [],
   "source": [
    "print(\"Tipos (word-based):\", len(Counter(brown_corpus)))\n",
    "print(\"Tipos (Steamming):\", len(Counter(stemmed_brown)))\n",
    "print(\"Tipos (Lemmatized):\", len(Counter(lemmatized_brown)))"
   ]
  },
  {
   "cell_type": "markdown",
   "id": "fafef790-10c8-44ab-9793-6708085c8145",
   "metadata": {
    "id": "fafef790-10c8-44ab-9793-6708085c8145"
   },
   "source": [
    "### More problems?\n",
    "\n",
    "<img src=\"https://uploads.dailydot.com/2019/10/Untitled_Goose_Game_Honk.jpeg?auto=compress%2Cformat&ixlib=php-3.3.0\" width=\"250\" height=\"250\">"
   ]
  },
  {
   "cell_type": "markdown",
   "id": "8f2cc1f7-c2d8-430b-8197-78b6b784c987",
   "metadata": {
    "id": "8f2cc1f7-c2d8-430b-8197-78b6b784c987"
   },
   "source": [
    "- Métodos dependientes de las lenguas\n",
    "- Se pierde información\n",
    "- Ruled-based"
   ]
  },
  {
   "cell_type": "markdown",
   "id": "c1fb1d33-3005-4017-a58d-926702397c24",
   "metadata": {
    "id": "c1fb1d33-3005-4017-a58d-926702397c24"
   },
   "source": [
    "## Subword-tokenization salva el día 🦸🏼‍♀️"
   ]
  },
  {
   "cell_type": "markdown",
   "id": "012112e1-032a-4f2e-8aba-1f190292e79c",
   "metadata": {
    "id": "012112e1-032a-4f2e-8aba-1f190292e79c"
   },
   "source": [
    "![](https://gifdb.com/images/high/super-cow-and-chicken-daxvak1q16quwd9p.webp)"
   ]
  },
  {
   "cell_type": "markdown",
   "id": "3de78c10-c81b-4c21-812d-b2a56bca7a10",
   "metadata": {
    "id": "3de78c10-c81b-4c21-812d-b2a56bca7a10"
   },
   "source": [
    "- Segmentación de palabras en unidades más pequeñas (*sub-words*)\n",
    "- Obtenemos tipos menos variados pero con mayores frecuencias\n",
    "    - Esto le gusta modelos basados en métodos estadísticos\n",
    "- Palabras frecuentes no deberían separarse\n",
    "- Palabras largas y raras debería descomponerse en sub-palabras significativas\n",
    "- Hay métodos estadisticos que no requieren conocimiento a priori de las lenguas"
   ]
  },
  {
   "cell_type": "code",
   "execution_count": null,
   "id": "d7a81982-9f86-4ba9-90b1-f8f1d1885e2d",
   "metadata": {
    "id": "d7a81982-9f86-4ba9-90b1-f8f1d1885e2d"
   },
   "outputs": [],
   "source": [
    "text = \"Let's do tokenization!\"\n",
    "result = [\"Let's\", \"do\", \"token\", \"ization\", \"!\"]\n",
    "print(f\"Objetivo: {text} -> {result}\")"
   ]
  },
  {
   "cell_type": "markdown",
   "id": "4a799376-23f1-483e-9bce-9289ab0f819b",
   "metadata": {
    "id": "4a799376-23f1-483e-9bce-9289ab0f819b"
   },
   "source": [
    "### Algoritmos"
   ]
  },
  {
   "cell_type": "markdown",
   "id": "31a4ebfd-ca2d-4e5c-bdbe-1144f4900521",
   "metadata": {
    "id": "31a4ebfd-ca2d-4e5c-bdbe-1144f4900521"
   },
   "source": [
    "Existen varios algoritmos para hacer *subword-tokenization* como los que se listan a continuación:\n",
    "\n",
    "- Byte-Pair Encoding (BPE)\n",
    "- WordPiece\n",
    "- Unigram"
   ]
  },
  {
   "cell_type": "markdown",
   "id": "71325743-1e7f-41b3-b394-bda24d815c0c",
   "metadata": {
    "id": "71325743-1e7f-41b3-b394-bda24d815c0c"
   },
   "source": [
    "### BPE"
   ]
  },
  {
   "cell_type": "markdown",
   "id": "7be7b2d5-b07d-4e7f-863d-46e12344bc15",
   "metadata": {
    "id": "7be7b2d5-b07d-4e7f-863d-46e12344bc15"
   },
   "source": [
    "- Segmenmentación iterativa, comienza segmentando en secuencias de caracteres\n",
    "- Junta los pares más frecuentes (*merge operation*)\n",
    "- Termina cuando se llega al número de *merge operations* especificado o número de vocabulario deseado (*hyperparams*, depende de la implementación)\n",
    "- Introducido en el paper: [Neural Machine Translation of Rare Words with Subword Units, (Sennrich et al., 2015)](https://arxiv.org/abs/1508.07909)"
   ]
  },
  {
   "cell_type": "code",
   "execution_count": null,
   "id": "0b330906-1697-4c37-b100-2590aa2af43e",
   "metadata": {
    "id": "0b330906-1697-4c37-b100-2590aa2af43e"
   },
   "outputs": [],
   "source": [
    "%%HTML\n",
    "<iframe width=\"960\" height=\"515\" src=\"https://www.youtube.com/embed/HEikzVL-lZU\"></iframe>"
   ]
  },
  {
   "cell_type": "markdown",
   "id": "a6cbe5b6-52c1-4d9a-9499-8512b190fb0b",
   "metadata": {
    "editable": true,
    "id": "a6cbe5b6-52c1-4d9a-9499-8512b190fb0b",
    "tags": []
   },
   "source": [
    "#### Ejemplo"
   ]
  },
  {
   "cell_type": "code",
   "execution_count": null,
   "id": "2e6c110d-731a-42c2-b577-53e30ab110ca",
   "metadata": {
    "id": "2e6c110d-731a-42c2-b577-53e30ab110ca"
   },
   "outputs": [],
   "source": [
    "!pip install transformers"
   ]
  },
  {
   "cell_type": "code",
   "execution_count": null,
   "id": "aeeba1d3-4f9f-4b00-8a77-8a34be974189",
   "metadata": {
    "editable": true,
    "id": "aeeba1d3-4f9f-4b00-8a77-8a34be974189",
    "tags": []
   },
   "outputs": [],
   "source": [
    "SENTENCE = \"Let's do this tokenization to enable hypermodernization on my tokens tokenized 👁️👁️👁️!!!\""
   ]
  },
  {
   "cell_type": "code",
   "execution_count": null,
   "id": "bb2e0093-1039-4e6d-aade-d2758c482698",
   "metadata": {
    "editable": true,
    "id": "bb2e0093-1039-4e6d-aade-d2758c482698",
    "tags": []
   },
   "outputs": [],
   "source": [
    "from transformers import BertTokenizer \n",
    "\n",
    "bpe_tokenizer = BertTokenizer.from_pretrained(\"google-bert/bert-base-uncased\")\n",
    "print(bpe_tokenizer.tokenize(SENTENCE))"
   ]
  },
  {
   "cell_type": "code",
   "execution_count": null,
   "id": "2f3fb464-ee01-45ff-bdb5-1aab19934a33",
   "metadata": {
    "editable": true,
    "id": "2f3fb464-ee01-45ff-bdb5-1aab19934a33",
    "tags": []
   },
   "outputs": [],
   "source": [
    "encoded_tokens = bpe_tokenizer(SENTENCE)\n",
    "print(encoded_tokens[\"input_ids\"])"
   ]
  },
  {
   "cell_type": "code",
   "execution_count": null,
   "id": "0864645e-d3b4-47b2-a500-cccb81beb3fb",
   "metadata": {
    "editable": true,
    "id": "0864645e-d3b4-47b2-a500-cccb81beb3fb",
    "tags": []
   },
   "outputs": [],
   "source": [
    "bpe_tokenizer.decode(encoded_tokens[\"input_ids\"])"
   ]
  },
  {
   "cell_type": "markdown",
   "id": "83b76a7c-7e2a-45a8-b476-24ec118cd4d1",
   "metadata": {
    "editable": true,
    "id": "83b76a7c-7e2a-45a8-b476-24ec118cd4d1",
    "tags": []
   },
   "source": [
    "### Objetivo de los subword tokenizers\n"
   ]
  },
  {
   "cell_type": "markdown",
   "id": "8b7bc0fd-87ce-45a7-9506-e4d2c37acdb2",
   "metadata": {
    "editable": true,
    "id": "8b7bc0fd-87ce-45a7-9506-e4d2c37acdb2",
    "tags": []
   },
   "source": [
    "- Buscamos que modelos de redes neuronales tenga datos mas frecuentes\n",
    "- Esto ayuda a que en principio \"aprendan\" mejor\n",
    "- Reducir el numero de tipos (?)\n",
    "- Reducir el numero de OOV (?)"
   ]
  },
  {
   "cell_type": "markdown",
   "id": "20c87515-a421-4c3e-8e33-96b53fd46234",
   "metadata": {
    "editable": true,
    "id": "20c87515-a421-4c3e-8e33-96b53fd46234",
    "tags": []
   },
   "source": [
    "#### Vamos a tokenizar 🌈\n",
    "![](https://external-content.duckduckgo.com/iu/?u=https%3A%2F%2Fi.pinimg.com%2F736x%2F75%2F28%2Fe7%2F7528e71db75a37f0dcf5be8a54e0523f.jpg&f=1&nofb=1&ipt=d08ba1ed7fa9af9c3692703a667271740c22bb8e8f5b9f5f7acb44715e7d47d8&ipo=images)"
   ]
  },
  {
   "cell_type": "code",
   "execution_count": null,
   "id": "2a5c1f09-efb5-497b-b695-2df079afb1ff",
   "metadata": {
    "editable": true,
    "id": "2a5c1f09-efb5-497b-b695-2df079afb1ff",
    "tags": []
   },
   "outputs": [],
   "source": [
    "def normalize_sent(sent: list[str]) -> list[str]:\n",
    "    return [\n",
    "        word.lower()\n",
    "        for word in sent\n",
    "        if re.match(r\"\\w\", word) and word.lower() \n",
    "    ]"
   ]
  },
  {
   "cell_type": "markdown",
   "id": "cb1e486a-4bdf-4dc0-9adf-9e75b76054fe",
   "metadata": {
    "editable": true,
    "id": "cb1e486a-4bdf-4dc0-9adf-9e75b76054fe",
    "tags": []
   },
   "source": [
    "### Corpus Inglés: Gutenberg"
   ]
  },
  {
   "cell_type": "code",
   "execution_count": null,
   "id": "b50e4bee-b892-434b-888b-2783161559c3",
   "metadata": {
    "editable": true,
    "id": "b50e4bee-b892-434b-888b-2783161559c3",
    "tags": []
   },
   "outputs": [],
   "source": [
    "nltk.download('gutenberg')\n",
    "nltk.download('punkt_tab')"
   ]
  },
  {
   "cell_type": "code",
   "execution_count": null,
   "id": "6e9f65bd-9d07-41e6-8bbb-96982ac09af7",
   "metadata": {
    "editable": true,
    "id": "6e9f65bd-9d07-41e6-8bbb-96982ac09af7",
    "tags": []
   },
   "outputs": [],
   "source": [
    "from nltk.corpus import gutenberg"
   ]
  },
  {
   "cell_type": "code",
   "execution_count": null,
   "id": "oTvHkdrE8Qp9",
   "metadata": {
    "id": "oTvHkdrE8Qp9"
   },
   "outputs": [],
   "source": [
    "gutenberg.fileids()"
   ]
  },
  {
   "cell_type": "code",
   "execution_count": null,
   "id": "749d94d0-b0d7-4cff-85c4-69102baa9d7d",
   "metadata": {
    "editable": true,
    "id": "749d94d0-b0d7-4cff-85c4-69102baa9d7d",
    "tags": []
   },
   "outputs": [],
   "source": [
    "gutenberg_sents = gutenberg.sents()"
   ]
  },
  {
   "cell_type": "code",
   "execution_count": null,
   "id": "d667c645-9e58-4f0b-91cc-2044057d2dc5",
   "metadata": {
    "editable": true,
    "id": "d667c645-9e58-4f0b-91cc-2044057d2dc5",
    "tags": []
   },
   "outputs": [],
   "source": [
    "len(gutenberg_sents)"
   ]
  },
  {
   "cell_type": "code",
   "execution_count": null,
   "id": "a6608a0c-c822-43e0-a5a3-4c73f68b08e5",
   "metadata": {
    "editable": true,
    "id": "a6608a0c-c822-43e0-a5a3-4c73f68b08e5",
    "tags": []
   },
   "outputs": [],
   "source": [
    "\" \".join(gutenberg_sents[0])"
   ]
  },
  {
   "cell_type": "code",
   "execution_count": null,
   "id": "0da75829-a555-4f5b-b12b-39190361b98d",
   "metadata": {
    "editable": true,
    "id": "0da75829-a555-4f5b-b12b-39190361b98d",
    "tags": []
   },
   "outputs": [],
   "source": [
    "%%time\n",
    "gutenberg_plain_text = \"\\n\".join([\" \".join(normalize_sent(sent)) for sent in gutenberg_sents])\n",
    "\n",
    "print(gutenberg_plain_text[:100])"
   ]
  },
  {
   "cell_type": "code",
   "execution_count": null,
   "id": "1e1855ba-d79a-42ea-8364-0e0e7f817e1f",
   "metadata": {
    "editable": true,
    "id": "1e1855ba-d79a-42ea-8364-0e0e7f817e1f",
    "tags": []
   },
   "outputs": [],
   "source": [
    "gutenberg_words = gutenberg_plain_text.split()"
   ]
  },
  {
   "cell_type": "code",
   "execution_count": null,
   "id": "4e25103a-773a-418b-b6b5-6c50f82f28bc",
   "metadata": {
    "editable": true,
    "id": "4e25103a-773a-418b-b6b5-6c50f82f28bc",
    "tags": []
   },
   "outputs": [],
   "source": [
    "gutenberg_words[:10]"
   ]
  },
  {
   "cell_type": "code",
   "execution_count": null,
   "id": "8c563bf5-29bb-43a3-97f2-303c9b844ce3",
   "metadata": {
    "editable": true,
    "id": "8c563bf5-29bb-43a3-97f2-303c9b844ce3",
    "tags": []
   },
   "outputs": [],
   "source": [
    "len(gutenberg_words)"
   ]
  },
  {
   "cell_type": "code",
   "execution_count": null,
   "id": "7497d4a3-4135-43b5-b6ac-86aa67b9eba3",
   "metadata": {
    "editable": true,
    "id": "7497d4a3-4135-43b5-b6ac-86aa67b9eba3",
    "tags": []
   },
   "outputs": [],
   "source": [
    "len(gutenberg_plain_text)"
   ]
  },
  {
   "cell_type": "code",
   "execution_count": null,
   "id": "3c71810f-8355-49c2-9ef8-19113c7f7aa8",
   "metadata": {
    "editable": true,
    "id": "3c71810f-8355-49c2-9ef8-19113c7f7aa8",
    "slideshow": {
     "slide_type": ""
    },
    "tags": []
   },
   "outputs": [],
   "source": [
    "with open(\"gutenberg_plain.txt\", \"w\") as f:\n",
    "    f.write(gutenberg_plain_text)"
   ]
  },
  {
   "cell_type": "markdown",
   "id": "2e60bc07-9aae-4617-b2d3-a25371cb6b6c",
   "metadata": {
    "editable": true,
    "id": "2e60bc07-9aae-4617-b2d3-a25371cb6b6c",
    "tags": []
   },
   "source": [
    "### Tokenizando"
   ]
  },
  {
   "cell_type": "code",
   "execution_count": null,
   "id": "1e1ca4d7-1e0d-472d-b9c5-3270785077cb",
   "metadata": {
    "editable": true,
    "id": "1e1ca4d7-1e0d-472d-b9c5-3270785077cb",
    "tags": []
   },
   "outputs": [],
   "source": [
    "gutenberg_types = Counter(gutenberg_words)\n",
    "len(gutenberg_types)"
   ]
  },
  {
   "cell_type": "code",
   "execution_count": null,
   "id": "a1c23472-c63d-4f35-8836-313b131b100f",
   "metadata": {
    "editable": true,
    "id": "a1c23472-c63d-4f35-8836-313b131b100f",
    "slideshow": {
     "slide_type": ""
    },
    "tags": []
   },
   "outputs": [],
   "source": [
    "gutenberg_tokenized = bpe_tokenizer.tokenize(gutenberg_plain_text)\n",
    "gutenberg_tokenized_types = Counter(gutenberg_tokenized)\n",
    "len(gutenberg_tokenized_types)"
   ]
  },
  {
   "cell_type": "code",
   "execution_count": null,
   "id": "1b445bdd-c70f-46d9-87bd-70d9cae8ba68",
   "metadata": {},
   "outputs": [],
   "source": [
    "gutenberg_tokenized[:10]"
   ]
  },
  {
   "cell_type": "code",
   "execution_count": null,
   "id": "76dd4dce-7695-4d65-9f2a-709c9ba9af6f",
   "metadata": {},
   "outputs": [],
   "source": [
    "gutenberg_types.most_common(10)"
   ]
  },
  {
   "cell_type": "code",
   "execution_count": null,
   "id": "dd6a3d13-1f14-4258-9083-44e5d23f44e2",
   "metadata": {},
   "outputs": [],
   "source": [
    "gutenberg_tokenized_types.most_common(10)"
   ]
  },
  {
   "cell_type": "code",
   "execution_count": null,
   "id": "10dc99cd-2ea6-4bb8-ab89-6314425d2064",
   "metadata": {
    "editable": true,
    "id": "10dc99cd-2ea6-4bb8-ab89-6314425d2064",
    "tags": []
   },
   "outputs": [],
   "source": [
    "gutenberg_lemmatized_types = Counter(lemmatize(gutenberg_words))\n",
    "len(gutenberg_lemmatized_types)"
   ]
  },
  {
   "cell_type": "code",
   "execution_count": null,
   "id": "7f23b06e-921d-47d6-b8e4-93561c9d869e",
   "metadata": {
    "editable": true,
    "id": "7f23b06e-921d-47d6-b8e4-93561c9d869e",
    "tags": []
   },
   "outputs": [],
   "source": [
    "gutenberg_lemmatized_types.most_common(10)"
   ]
  },
  {
   "cell_type": "markdown",
   "id": "0998a085-207a-4b3a-a599-c293148fcd31",
   "metadata": {
    "editable": true,
    "id": "0998a085-207a-4b3a-a599-c293148fcd31",
    "tags": []
   },
   "source": [
    "### OOV: out of vocabulary"
   ]
  },
  {
   "cell_type": "markdown",
   "id": "f7386727-2f03-4380-8360-5b5e432da369",
   "metadata": {
    "editable": true,
    "id": "f7386727-2f03-4380-8360-5b5e432da369",
    "tags": []
   },
   "source": [
    "Palabras que se vieron en el entrenamiento pero no estan en el test"
   ]
  },
  {
   "cell_type": "code",
   "execution_count": null,
   "id": "81d73729-94fb-4e64-a352-a19d7244c9fa",
   "metadata": {
    "editable": true,
    "id": "81d73729-94fb-4e64-a352-a19d7244c9fa",
    "slideshow": {
     "slide_type": ""
    },
    "tags": []
   },
   "outputs": [],
   "source": [
    "from sklearn.model_selection import train_test_split\n",
    "\n",
    "train_data, test_data = train_test_split(\n",
    "    gutenberg_words, test_size=0.3, random_state=42\n",
    ")\n",
    "print(len(train_data), len(test_data))"
   ]
  },
  {
   "cell_type": "code",
   "execution_count": null,
   "id": "6f4b5253-59df-48f2-bd63-4850324da2c0",
   "metadata": {
    "editable": true,
    "id": "6f4b5253-59df-48f2-bd63-4850324da2c0",
    "tags": []
   },
   "outputs": [],
   "source": [
    "s_1 = {\"a\", \"b\", \"c\", \"d\", \"e\"}\n",
    "s_2 = {\"a\", \"x\", \"y\", \"d\"}\n",
    "print(s_1 - s_2)\n",
    "print(s_2 - s_1)"
   ]
  },
  {
   "cell_type": "code",
   "execution_count": null,
   "id": "9ea5d2a4-28fa-40b1-9df4-6b371045b693",
   "metadata": {
    "editable": true,
    "id": "9ea5d2a4-28fa-40b1-9df4-6b371045b693",
    "tags": []
   },
   "outputs": [],
   "source": [
    "oov_test = set(test_data) - set(train_data)\n",
    "len(oov_test)"
   ]
  },
  {
   "cell_type": "code",
   "execution_count": null,
   "id": "343542aa-d80c-4e42-9e79-1218734b4602",
   "metadata": {
    "editable": true,
    "id": "343542aa-d80c-4e42-9e79-1218734b4602",
    "tags": []
   },
   "outputs": [],
   "source": [
    "for word in list(oov_test)[:3]:\n",
    "    print(f\"{word} in train: {word in set(train_data)}\")"
   ]
  },
  {
   "cell_type": "code",
   "execution_count": null,
   "id": "e423b7b4-d96e-4fd0-9f32-49395141bbca",
   "metadata": {
    "editable": true,
    "id": "e423b7b4-d96e-4fd0-9f32-49395141bbca",
    "tags": []
   },
   "outputs": [],
   "source": [
    "train_tokenized, test_tokenized = train_test_split(gutenberg_tokenized, test_size=0.3, random_state=42)\n",
    "print(len(train_tokenized), len(test_tokenized))"
   ]
  },
  {
   "cell_type": "code",
   "execution_count": null,
   "id": "f2531192-7ba1-4138-94e8-33b846fe055a",
   "metadata": {
    "editable": true,
    "id": "f2531192-7ba1-4138-94e8-33b846fe055a",
    "tags": []
   },
   "outputs": [],
   "source": [
    "oov_tokenized_test = set(test_tokenized) - set(train_tokenized)\n",
    "len(oov_tokenized_test)"
   ]
  },
  {
   "cell_type": "markdown",
   "id": "ac2b7c42-c224-4e2a-a950-59f47af204b4",
   "metadata": {
    "editable": true,
    "id": "ac2b7c42-c224-4e2a-a950-59f47af204b4",
    "tags": []
   },
   "source": [
    "## Entrenando nuestro modelo con BPE\n",
    "![](https://external-content.duckduckgo.com/iu/?u=https%3A%2F%2Fmedia1.tenor.com%2Fimages%2Fd565618bb1217a7c435579d9172270d0%2Ftenor.gif%3Fitemid%3D3379322&f=1&nofb=1&ipt=9719714edb643995ce9d978c8bab77f5310204960093070e37e183d5372096d9&ipo=images)"
   ]
  },
  {
   "cell_type": "markdown",
   "id": "FfxMsDik90PU",
   "metadata": {
    "id": "FfxMsDik90PU"
   },
   "source": [
    "#### https://github.com/rsennrich/subword-nmt"
   ]
  },
  {
   "cell_type": "code",
   "execution_count": null,
   "id": "4a447886-84dc-41fc-8c49-9f20183c8d1d",
   "metadata": {
    "editable": true,
    "id": "4a447886-84dc-41fc-8c49-9f20183c8d1d",
    "tags": []
   },
   "outputs": [],
   "source": [
    "!pip install subword-nmt"
   ]
  },
  {
   "cell_type": "code",
   "execution_count": null,
   "id": "cc25d820-b194-4039-8f4c-492bd3fe6cfc",
   "metadata": {
    "editable": true,
    "id": "cc25d820-b194-4039-8f4c-492bd3fe6cfc",
    "tags": []
   },
   "outputs": [],
   "source": [
    "!ls"
   ]
  },
  {
   "cell_type": "code",
   "execution_count": null,
   "id": "e29168e7-eac3-4cd4-b782-e907a456b50a",
   "metadata": {
    "editable": true,
    "id": "e29168e7-eac3-4cd4-b782-e907a456b50a",
    "slideshow": {
     "slide_type": ""
    },
    "tags": []
   },
   "outputs": [],
   "source": [
    "!head gutenberg_plain.txt"
   ]
  },
  {
   "cell_type": "code",
   "execution_count": null,
   "id": "b872095b-aa1e-47c8-ab92-aa12c2b6c29b",
   "metadata": {
    "editable": true,
    "id": "b872095b-aa1e-47c8-ab92-aa12c2b6c29b",
    "tags": []
   },
   "outputs": [],
   "source": [
    "!subword-nmt learn-bpe -s 300 < gutenberg_plain.txt > gutenberg_low.model"
   ]
  },
  {
   "cell_type": "code",
   "execution_count": null,
   "id": "8474fc05-4292-417d-875c-456a18fc784b",
   "metadata": {
    "editable": true,
    "id": "8474fc05-4292-417d-875c-456a18fc784b",
    "tags": []
   },
   "outputs": [],
   "source": [
    "!echo \"I need to process this sentence because tokenization can be useful\" | subword-nmt apply-bpe -c gutenberg_low.model"
   ]
  },
  {
   "cell_type": "code",
   "execution_count": null,
   "id": "dac21bf2-1ae9-4b36-b7b8-f6c308f574cf",
   "metadata": {
    "editable": true,
    "id": "dac21bf2-1ae9-4b36-b7b8-f6c308f574cf",
    "slideshow": {
     "slide_type": ""
    },
    "tags": []
   },
   "outputs": [],
   "source": [
    "!subword-nmt learn-bpe -s 2500 < gutenberg_plain.txt > gutenberg_high.model"
   ]
  },
  {
   "cell_type": "code",
   "execution_count": null,
   "id": "a785a9a8-d02c-417d-8f97-21eab3d565d5",
   "metadata": {
    "editable": true,
    "id": "a785a9a8-d02c-417d-8f97-21eab3d565d5",
    "tags": []
   },
   "outputs": [],
   "source": [
    "!echo \"I need to process this sentence because tokenization can be useful\" | subword-nmt apply-bpe -c gutenberg_high.model"
   ]
  },
  {
   "cell_type": "markdown",
   "id": "838e5444-2685-4f6f-a7bd-9a5bfd0da8d8",
   "metadata": {
    "editable": true,
    "id": "838e5444-2685-4f6f-a7bd-9a5bfd0da8d8",
    "tags": []
   },
   "source": [
    "## Ejercicio: Aplicar nuestro modelo a otros corpus: La biblia 📖🇻🇦"
   ]
  },
  {
   "cell_type": "code",
   "execution_count": null,
   "id": "9bc0ba00-4e7a-44af-9f1f-2ccf7e708bee",
   "metadata": {
    "editable": true,
    "id": "9bc0ba00-4e7a-44af-9f1f-2ccf7e708bee",
    "tags": []
   },
   "outputs": [],
   "source": [
    "BIBLE_FILE_NAMES = {\"spa\": \"spa-x-bible-reinavaleracontemporanea\", \"eng\": \"eng-x-bible-kingjames\"}\n",
    "CORPORA_PATH = \"\""
   ]
  },
  {
   "cell_type": "code",
   "execution_count": null,
   "id": "695de68a-2d12-4aa9-a75e-640ba36bebc4",
   "metadata": {
    "editable": true,
    "id": "695de68a-2d12-4aa9-a75e-640ba36bebc4",
    "tags": []
   },
   "outputs": [],
   "source": [
    "import requests\n",
    "\n",
    "\n",
    "def get_bible_corpus(lang: str) -> str:\n",
    "    file_name = BIBLE_FILE_NAMES[lang]\n",
    "    r = requests.get(\n",
    "        f\"https://raw.githubusercontent.com/ximenina/theturningpoint/main/Detailed/corpora/corpusPBC/{file_name}.txt.clean.txt\"\n",
    "    )\n",
    "    return r.text\n",
    "\n",
    "\n",
    "def write_plain_text_corpus(raw_text: str, file_name: str) -> None:\n",
    "    with open(f\"{file_name}.txt\", \"w\") as f:\n",
    "        f.write(raw_text)"
   ]
  },
  {
   "cell_type": "markdown",
   "id": "bf3503cf-cbe8-4773-957e-be32667e062a",
   "metadata": {
    "editable": true,
    "id": "bf3503cf-cbe8-4773-957e-be32667e062a",
    "tags": []
   },
   "source": [
    "### 1. Aplicalo a la biblia en Inglés"
   ]
  },
  {
   "cell_type": "code",
   "execution_count": null,
   "id": "75c40a78-735b-42a7-abfe-d1667fcc4d49",
   "metadata": {
    "editable": true,
    "id": "75c40a78-735b-42a7-abfe-d1667fcc4d49",
    "tags": []
   },
   "outputs": [],
   "source": [
    "eng_bible_plain_text = get_bible_corpus(\"eng\")\n",
    "eng_bible_words = eng_bible_plain_text.lower().replace(\"\\n\", \" \").split()\n",
    "\n",
    "eng_bible_types = Counter(eng_bible_words)\n",
    "len(eng_bible_types)"
   ]
  },
  {
   "cell_type": "code",
   "execution_count": null,
   "id": "6IlobRBFAFKg",
   "metadata": {
    "id": "6IlobRBFAFKg"
   },
   "outputs": [],
   "source": [
    "eng_bible_lemmas_types = Counter(lemmatize(eng_bible_words))\n",
    "len(eng_bible_lemmas_types)"
   ]
  },
  {
   "cell_type": "code",
   "execution_count": null,
   "id": "rZbhdlpAAIfT",
   "metadata": {
    "id": "rZbhdlpAAIfT"
   },
   "outputs": [],
   "source": [
    "write_plain_text_corpus(eng_bible_plain_text, \"eng-bible\")"
   ]
  },
  {
   "cell_type": "code",
   "execution_count": null,
   "id": "flWfbYReAR5H",
   "metadata": {
    "id": "flWfbYReAR5H"
   },
   "outputs": [],
   "source": [
    "!subword-nmt apply-bpe -c gutenberg_high.model < eng-bible.txt > eng-bible-tokenized.txt"
   ]
  },
  {
   "cell_type": "code",
   "execution_count": null,
   "id": "j31DDsJuAds7",
   "metadata": {
    "id": "j31DDsJuAds7"
   },
   "outputs": [],
   "source": [
    "with open(\"eng-bible-tokenized.txt\", 'r') as f:\n",
    "    tokenized_data = f.read()\n",
    "eng_bible_tokenized = tokenized_data.split()"
   ]
  },
  {
   "cell_type": "code",
   "execution_count": null,
   "id": "FeaU7FyHAnSi",
   "metadata": {
    "id": "FeaU7FyHAnSi"
   },
   "outputs": [],
   "source": [
    "eng_bible_tokenized_types = Counter(eng_bible_tokenized)\n",
    "len(eng_bible_tokenized_types)"
   ]
  },
  {
   "cell_type": "code",
   "execution_count": null,
   "id": "ctfR8hBKApoC",
   "metadata": {
    "id": "ctfR8hBKApoC"
   },
   "outputs": [],
   "source": [
    "eng_bible_tokenized_types.most_common(30)"
   ]
  },
  {
   "cell_type": "markdown",
   "id": "3711bb32-3c0b-4f8e-a695-c4ac3da72fb4",
   "metadata": {
    "editable": true,
    "id": "3711bb32-3c0b-4f8e-a695-c4ac3da72fb4",
    "tags": []
   },
   "source": [
    "### 2. Aplicalo a la biblia en Español\n",
    "\n",
    "**¿Qué pasa si aplicamos el modelo aprendido con Gutenberg a otras lenguas?**"
   ]
  },
  {
   "cell_type": "code",
   "execution_count": null,
   "id": "c3b0829b-db58-4946-b18b-d4a26682233e",
   "metadata": {
    "editable": true,
    "id": "c3b0829b-db58-4946-b18b-d4a26682233e",
    "tags": []
   },
   "outputs": [],
   "source": [
    "spa_bible_plain_text = get_bible_corpus('spa')\n",
    "spa_bible_words = spa_bible_plain_text.replace(\"\\n\", \" \").lower().split()"
   ]
  },
  {
   "cell_type": "code",
   "execution_count": null,
   "id": "_u1_PDx_Auo3",
   "metadata": {
    "id": "_u1_PDx_Auo3"
   },
   "outputs": [],
   "source": [
    "spa_bible_types = Counter(spa_bible_words)\n",
    "len(spa_bible_types)"
   ]
  },
  {
   "cell_type": "code",
   "execution_count": null,
   "id": "Z48OJYypAzaf",
   "metadata": {
    "id": "Z48OJYypAzaf"
   },
   "outputs": [],
   "source": [
    "spa_bible_lemmas_types = Counter(lemmatize(spa_bible_words))\n",
    "len(spa_bible_lemmas_types)"
   ]
  },
  {
   "cell_type": "code",
   "execution_count": null,
   "id": "ffaupmbJA0_h",
   "metadata": {
    "id": "ffaupmbJA0_h"
   },
   "outputs": [],
   "source": [
    "write_plain_text_corpus(spa_bible_plain_text, \"spa-bible\")"
   ]
  },
  {
   "cell_type": "code",
   "execution_count": null,
   "id": "ZVxVsTXmA3Mx",
   "metadata": {
    "id": "ZVxVsTXmA3Mx"
   },
   "outputs": [],
   "source": [
    "!subword-nmt apply-bpe -c gutenberg_high.model < spa-bible.txt > spa-bible-tokenized.txt"
   ]
  },
  {
   "cell_type": "code",
   "execution_count": null,
   "id": "WcTvtSQAA7l3",
   "metadata": {
    "id": "WcTvtSQAA7l3"
   },
   "outputs": [],
   "source": [
    "with open(\"spa-bible-tokenized.txt\", \"r\") as f:\n",
    "    tokenized_text = f.read()\n",
    "spa_bible_tokenized = tokenized_text.split()"
   ]
  },
  {
   "cell_type": "code",
   "execution_count": null,
   "id": "6kb0VNLWA-nv",
   "metadata": {
    "id": "6kb0VNLWA-nv"
   },
   "outputs": [],
   "source": [
    "spa_bible_tokenized_types = Counter(spa_bible_tokenized)\n",
    "len(spa_bible_tokenized_types)"
   ]
  },
  {
   "cell_type": "markdown",
   "id": "f01fdcec-248f-4c3d-b6db-ccd821ac35ad",
   "metadata": {
    "editable": true,
    "id": "f01fdcec-248f-4c3d-b6db-ccd821ac35ad",
    "tags": []
   },
   "source": [
    "### Type-token Ratio (TTR)\n",
    "\n",
    "- Una forma de medir la variazión del vocabulario en un corpus\n",
    "- Este se calcula como $TTR = \\frac{len(types)}{len(tokens)}$\n",
    "- Puede ser útil para monitorear la variación lexica de un texto"
   ]
  },
  {
   "cell_type": "code",
   "execution_count": null,
   "id": "f3b49f4d-33eb-4754-9af3-6ed987ef240c",
   "metadata": {
    "editable": true,
    "id": "f3b49f4d-33eb-4754-9af3-6ed987ef240c",
    "tags": []
   },
   "outputs": [],
   "source": [
    "print(\"Información de la biblia en Inglés\")\n",
    "print(\"Tokens:\", len(eng_bible_words))\n",
    "print(\"Types (word-base):\", len(eng_bible_types))\n",
    "print(\"Types (lemmatized)\", len(eng_bible_lemmas_types))\n",
    "print(\"Types (BPE):\", len(eng_bible_tokenized_types))\n",
    "print(\"TTR (word-base):\", len(eng_bible_types)/len(eng_bible_words))\n",
    "print(\"TTR (BPE):\", len(eng_bible_tokenized_types)/len(eng_bible_tokenized))"
   ]
  },
  {
   "cell_type": "code",
   "execution_count": null,
   "id": "0FlPZU6gBMKz",
   "metadata": {
    "id": "0FlPZU6gBMKz"
   },
   "outputs": [],
   "source": [
    "print(\"Bible Spanish Information\")\n",
    "print(\"Tokens:\", len(spa_bible_words))\n",
    "print(\"Types (word-base):\", len(spa_bible_types))\n",
    "print(\"Types (lemmatized)\", len(spa_bible_lemmas_types))\n",
    "print(\"Types (BPE):\", len(spa_bible_tokenized_types))\n",
    "print(\"TTR (word-base):\", len(spa_bible_types)/len(spa_bible_words))\n",
    "print(\"TTR (BPE):\", len(spa_bible_tokenized_types)/len(spa_bible_tokenized))"
   ]
  },
  {
   "cell_type": "markdown",
   "id": "zawcDvwrxALo",
   "metadata": {
    "id": "zawcDvwrxALo"
   },
   "source": [
    "### Pasos para previos a realizar subword tokenization\n",
    "\n",
    "1. Normalización\n",
    "2. Pre-tokenización (aka separar por palabras)\n"
   ]
  },
  {
   "cell_type": "markdown",
   "id": "95fa8672-fdc9-4e7d-9d3c-4dc1ee91b716",
   "metadata": {
    "editable": true,
    "id": "95fa8672-fdc9-4e7d-9d3c-4dc1ee91b716",
    "tags": []
   },
   "source": [
    "## Normalización"
   ]
  },
  {
   "cell_type": "markdown",
   "id": "660f3eef-ca0d-4298-8052-a3401e99dca8",
   "metadata": {
    "editable": true,
    "id": "660f3eef-ca0d-4298-8052-a3401e99dca8",
    "tags": []
   },
   "source": [
    "<center><img src=\"https://articles-img.sftcdn.net/t_articles/auto-mapping-folder/sites/3/2023/04/Fotolog-1280x960-1-1024x768.jpg\" width=700 height=700></center>"
   ]
  },
  {
   "cell_type": "code",
   "execution_count": null,
   "id": "00085584-7cdb-4f09-baad-f8829dd9522f",
   "metadata": {
    "id": "00085584-7cdb-4f09-baad-f8829dd9522f",
    "tags": []
   },
   "outputs": [],
   "source": [
    "METROFLOG_SENTENCE = \"lEt'$ dó tHis béttëŕ :)\""
   ]
  },
  {
   "cell_type": "code",
   "execution_count": null,
   "id": "888eceee-0685-462c-a1db-fd892e988910",
   "metadata": {
    "colab": {
     "base_uri": "https://localhost:8080/"
    },
    "id": "888eceee-0685-462c-a1db-fd892e988910",
    "outputId": "3840d79b-72ca-4fad-a67f-5933402e8438"
   },
   "outputs": [],
   "source": [
    "normalize(METROFLOG_SENTENCE)"
   ]
  },
  {
   "cell_type": "code",
   "execution_count": null,
   "id": "ba64c9b5-239a-49e9-8b89-abd53df6589e",
   "metadata": {
    "colab": {
     "base_uri": "https://localhost:8080/",
     "height": 587,
     "referenced_widgets": [
      "0c5cb1d747224832af1fe1846e717b24",
      "45f92f5c56db459b8d06aa20ff3d0a2b",
      "691156cf824243bcbcddab6d9ee48353",
      "7ae90ee531864843ba2f4b8f65ebcf74",
      "9052ba243c5e43bfa67e87548623b8bf",
      "2687c04ac3cc4264a2baad3e38dd5e10",
      "bfd8054c02f742f788fdee60e9bb3348",
      "2da5d77ab2a548e598172b5d757b242c",
      "535aaa8952254dcd830b57d87539a64d",
      "dcdb184d4f1347c2b1f687fafcb464bf",
      "68d3bd4c42f34c748ea535a80866fa32",
      "5f05042774a04a1f8817a32c75550995",
      "0609821cb48b471187d1e188bb9c1474",
      "e543389c5e904aebbfe2e264a535e338",
      "42443538e96e4327b20e2f74407969f3",
      "e0ce25de49c54082b76161ac77183830",
      "89b84cd5059b4aa3bffef5e51ccb32e3",
      "d4803bc643b24be29424817304d2a23e",
      "4a4d80ab91db44cca51f1186b179967c",
      "0fb6778785b84f8589e1b92d63dc4e80",
      "59ba5fcae3ae441895b3ab5da189afec",
      "ba49a958eec0497d87379f4877fb9597"
     ]
    },
    "editable": true,
    "id": "ba64c9b5-239a-49e9-8b89-abd53df6589e",
    "outputId": "e30933ff-3417-46be-d54e-149fed3ccc27",
    "tags": []
   },
   "outputs": [],
   "source": [
    "from transformers import AutoTokenizer\n",
    "\n",
    "tokenizer = AutoTokenizer.from_pretrained(\"huggingface-course/albert-tokenizer-without-normalizer\")\n",
    "tokenizer.convert_ids_to_tokens(tokenizer.encode(METROFLOG_SENTENCE))"
   ]
  },
  {
   "cell_type": "code",
   "execution_count": null,
   "id": "2f2f144f-1c5a-48d2-ae8d-2fa4a3c37077",
   "metadata": {
    "colab": {
     "base_uri": "https://localhost:8080/",
     "height": 162,
     "referenced_widgets": [
      "5ed8f1c346b3413991cf032af6967ccd",
      "989a6946234c4be7954cdc49646e25a7",
      "33f0dc9c6554465dbc265c576989c4c4",
      "ee3c10b83913453a962b2bf901f160dd",
      "c289a0271b6e43f0b7039f4515abe347",
      "412b8f65f5584fea92440a22d40a410a",
      "26152031ae7848a1882fa1294b3de1ed",
      "f45132aa4c184b48848497073493a9b7",
      "ff99a4b7d11d4135a138a9e7e8a329d3",
      "1f51e5f92692472390f06fcef575a6c8",
      "cd4e95059f07413b9722c5ce60a39828",
      "6701c5be24d442ac85b3b99a6ff74471",
      "087ef25705204d428c55f07e670a720b",
      "6524d22448bb4906a094839d6e028dfd",
      "06d73b6a8ea14d45a51ad43df5682507",
      "551aa9f8859a4d01b2b128be7a77c3d8",
      "07d2fb5b1b6341a8b894eb3f92ea901d",
      "348fec9e3c6c4b18a0544ada5b2cb5e4",
      "fe643d14c0b343fc903f47ec175c2ba5",
      "b1478a98ddb049aebaa56a065915f3ea",
      "fb24e2249970401e80c9681de7b3da10",
      "08a412330a444824b9ffd73ee10c31bb",
      "f7d122eb3c924180ac7ff834470ba6f6",
      "1304b5aa36554ecca285e77584cc7388",
      "c0ab363c57814411b3e2d18263019d0c",
      "2ae228b3eb194e53931cc5621230cf61",
      "cb48dee6e9274f43a6d5ca3f4ebf6bfa",
      "4b97c17c58734f2d814b7931bf171d80",
      "6b349362fc024b49b2e7a5953a2e1d25",
      "0afa7aec1a7a495995f5751a2e27b372",
      "6401ab52a3054d9c981e1a46ef592792",
      "9e3638015a4b419ca785a25efa01cd74",
      "6733b62a015a457ab6872ecabf59327e",
      "df61648dc26a4799a4cfd79d6fb00829",
      "c456a64d2f38474fbf9e8277b05b0fc3",
      "bd8bad0b45c043febf18ffe1bd782746",
      "fd4ce803912f4e8390ea587a5c32155e",
      "b7914208c78f4ad39e271b9ab99468d2",
      "441b6b11bc8d4a7a839c10cf3e0812ec",
      "0d5fa36b8d3b4a79beacab02f02f97e6",
      "f3785090d2774051a61c4a2335f00977",
      "0fe807289342443fbaa5722604545549",
      "aae8e826a44a4de6a3143a8185ce24ee",
      "71dfdf1f403f4c1498efbb82c293c940"
     ]
    },
    "editable": true,
    "id": "2f2f144f-1c5a-48d2-ae8d-2fa4a3c37077",
    "outputId": "62d48128-302a-489e-eea2-a50eb38d3b16",
    "tags": []
   },
   "outputs": [],
   "source": [
    "tokenizer = AutoTokenizer.from_pretrained(\"albert-large-v2\")\n",
    "tokenizer.convert_ids_to_tokens(tokenizer.encode(METROFLOG_SENTENCE))"
   ]
  },
  {
   "cell_type": "markdown",
   "id": "6641f1f5-5cc8-42dd-9778-900cb60c2e5f",
   "metadata": {
    "editable": true,
    "id": "6641f1f5-5cc8-42dd-9778-900cb60c2e5f",
    "tags": []
   },
   "source": [
    "#### Y para lenguas de bajos recursos digitales?"
   ]
  },
  {
   "cell_type": "markdown",
   "id": "a896f967-b330-41dd-a8e5-af46f226965b",
   "metadata": {
    "editable": true,
    "id": "a896f967-b330-41dd-a8e5-af46f226965b",
    "tags": []
   },
   "source": [
    "- No hay muchos recursos :(\n",
    "- Pero para el nahuatl esta `pyelotl` :)"
   ]
  },
  {
   "cell_type": "markdown",
   "id": "2e58c9f3-df06-4ea1-ba90-f2652152f83f",
   "metadata": {
    "editable": true,
    "id": "2e58c9f3-df06-4ea1-ba90-f2652152f83f",
    "tags": []
   },
   "source": [
    "#### Normalizando el Nahuatl"
   ]
  },
  {
   "cell_type": "code",
   "execution_count": null,
   "id": "Ia5RWbWozWa2",
   "metadata": {
    "colab": {
     "base_uri": "https://localhost:8080/"
    },
    "id": "Ia5RWbWozWa2",
    "outputId": "8452cf04-2e93-4103-901d-1a43883824f7"
   },
   "outputs": [],
   "source": [
    "!pip install elotl"
   ]
  },
  {
   "cell_type": "code",
   "execution_count": null,
   "id": "rBYmp0qq0ANT",
   "metadata": {
    "id": "rBYmp0qq0ANT"
   },
   "outputs": [],
   "source": [
    "import elotl.corpus\n",
    "axolotl = elotl.corpus.load(\"axolotl\")"
   ]
  },
  {
   "cell_type": "code",
   "execution_count": null,
   "id": "54d97174-ee74-46ec-aeed-20aab0116564",
   "metadata": {
    "editable": true,
    "id": "54d97174-ee74-46ec-aeed-20aab0116564",
    "tags": []
   },
   "outputs": [],
   "source": [
    "import elotl.nahuatl.orthography"
   ]
  },
  {
   "cell_type": "code",
   "execution_count": null,
   "id": "517451f8-10f3-410d-85ec-67b9abbc82c9",
   "metadata": {
    "editable": true,
    "id": "517451f8-10f3-410d-85ec-67b9abbc82c9",
    "tags": []
   },
   "outputs": [],
   "source": [
    "# Tres posibles normalizadores: sep, inali, ack\n",
    "# Sauce: https://pypi.org/project/elotl/\n",
    "\n",
    "nahuatl_normalizer = elotl.nahuatl.orthography.Normalizer(\"sep\")"
   ]
  },
  {
   "cell_type": "code",
   "execution_count": null,
   "id": "795d4f25-10ee-4c16-aaee-c670cc1152e2",
   "metadata": {
    "colab": {
     "base_uri": "https://localhost:8080/",
     "height": 52
    },
    "editable": true,
    "id": "795d4f25-10ee-4c16-aaee-c670cc1152e2",
    "outputId": "ed6c7fce-de59-44a8-8054-e0b81c90264d",
    "tags": []
   },
   "outputs": [],
   "source": [
    "axolotl[1][1]"
   ]
  },
  {
   "cell_type": "code",
   "execution_count": null,
   "id": "22834266-400e-4262-95d2-ee2c8caa20c8",
   "metadata": {
    "colab": {
     "base_uri": "https://localhost:8080/",
     "height": 52
    },
    "editable": true,
    "id": "22834266-400e-4262-95d2-ee2c8caa20c8",
    "outputId": "7537a42b-34b0-406a-f863-841399fedcbb",
    "tags": []
   },
   "outputs": [],
   "source": [
    "nahuatl_normalizer.normalize(axolotl[1][1])"
   ]
  },
  {
   "cell_type": "code",
   "execution_count": null,
   "id": "b0468743-6add-453e-b9e7-6e4b959b02e6",
   "metadata": {
    "colab": {
     "base_uri": "https://localhost:8080/",
     "height": 52
    },
    "editable": true,
    "id": "b0468743-6add-453e-b9e7-6e4b959b02e6",
    "outputId": "2b28d02b-d8a9-41c3-8b60-0b1fa912ce0f",
    "tags": []
   },
   "outputs": [],
   "source": [
    "nahuatl_normalizer.to_phones(axolotl[1][1])"
   ]
  },
  {
   "cell_type": "markdown",
   "id": "c44ec691-eed8-4697-bcda-083421b9d3a3",
   "metadata": {
    "editable": true,
    "id": "c44ec691-eed8-4697-bcda-083421b9d3a3",
    "tags": []
   },
   "source": [
    "## Entrenando BPE con corpus en Nahuatl"
   ]
  },
  {
   "cell_type": "code",
   "execution_count": null,
   "id": "aec13650-b1c4-4e2e-8531-06bd7905b91c",
   "metadata": {
    "colab": {
     "base_uri": "https://localhost:8080/"
    },
    "editable": true,
    "id": "aec13650-b1c4-4e2e-8531-06bd7905b91c",
    "outputId": "96ee8142-6e8d-48a9-a2a9-8f556cc24b0d",
    "tags": []
   },
   "outputs": [],
   "source": [
    "len(axolotl)"
   ]
  },
  {
   "cell_type": "code",
   "execution_count": null,
   "id": "4f00de54-d494-4726-bac1-35b41fa7f034",
   "metadata": {
    "editable": true,
    "id": "4f00de54-d494-4726-bac1-35b41fa7f034",
    "tags": []
   },
   "outputs": [],
   "source": [
    "train_rows_count = len(axolotl) - round(len(axolotl)*.30)"
   ]
  },
  {
   "cell_type": "code",
   "execution_count": null,
   "id": "8359bfd9-06b4-4e6c-90b2-72dbc69f0526",
   "metadata": {
    "editable": true,
    "id": "8359bfd9-06b4-4e6c-90b2-72dbc69f0526",
    "tags": []
   },
   "outputs": [],
   "source": [
    "axolotl_train = axolotl[:train_rows_count]\n",
    "axolotl_test = axolotl[train_rows_count:]"
   ]
  },
  {
   "cell_type": "code",
   "execution_count": null,
   "id": "df79f716-60a2-47fc-b8e1-2780994c135f",
   "metadata": {
    "colab": {
     "base_uri": "https://localhost:8080/"
    },
    "id": "df79f716-60a2-47fc-b8e1-2780994c135f",
    "outputId": "c2903496-6421-473b-e0ca-c714f7a95658"
   },
   "outputs": [],
   "source": [
    "axolotl_train[0]"
   ]
  },
  {
   "cell_type": "code",
   "execution_count": null,
   "id": "860c8edf-8ece-42f2-8a80-00adbd2b47a2",
   "metadata": {
    "colab": {
     "base_uri": "https://localhost:8080/"
    },
    "editable": true,
    "id": "860c8edf-8ece-42f2-8a80-00adbd2b47a2",
    "outputId": "0da19cf5-42f6-4f62-c1fc-eeb349242a34",
    "tags": []
   },
   "outputs": [],
   "source": [
    "print(\"Axolotl train len:\", len(axolotl_train))\n",
    "print(\"Axolotl test len:\", len(axolotl_test))\n",
    "print(\"Total:\", len(axolotl_test) + len(axolotl_train))"
   ]
  },
  {
   "cell_type": "code",
   "execution_count": null,
   "id": "29b755c4-e17e-443d-98b8-b4e5e30167cd",
   "metadata": {
    "colab": {
     "base_uri": "https://localhost:8080/"
    },
    "editable": true,
    "id": "29b755c4-e17e-443d-98b8-b4e5e30167cd",
    "outputId": "4e79181f-6912-4c2b-841b-0684658762c0",
    "tags": []
   },
   "outputs": [],
   "source": [
    "axolotl_train[:3]"
   ]
  },
  {
   "cell_type": "code",
   "execution_count": null,
   "id": "73cc6ee8-5aeb-4813-828e-38b22f09b7c2",
   "metadata": {
    "colab": {
     "base_uri": "https://localhost:8080/"
    },
    "editable": true,
    "id": "73cc6ee8-5aeb-4813-828e-38b22f09b7c2",
    "outputId": "e17bccf3-0ad4-4fb9-f7d9-fadf5c702204",
    "tags": []
   },
   "outputs": [],
   "source": [
    "axolotl_words_train = [word for row in axolotl_train for word in row[1].lower().split()]\n",
    "len(axolotl_words_train)"
   ]
  },
  {
   "cell_type": "code",
   "execution_count": null,
   "id": "38c647d6-5571-41f7-ad00-aa228cd9d276",
   "metadata": {
    "colab": {
     "base_uri": "https://localhost:8080/"
    },
    "editable": true,
    "id": "38c647d6-5571-41f7-ad00-aa228cd9d276",
    "outputId": "8bdb31fc-7efc-4117-dfb1-85f4402e2c03",
    "tags": []
   },
   "outputs": [],
   "source": [
    "print(axolotl_words_train[:10])"
   ]
  },
  {
   "cell_type": "code",
   "execution_count": null,
   "id": "7e6fd5f9-202f-454d-8028-d2498a75387b",
   "metadata": {
    "editable": true,
    "id": "7e6fd5f9-202f-454d-8028-d2498a75387b",
    "tags": []
   },
   "outputs": [],
   "source": [
    "write_plain_text_corpus(\" \".join(axolotl_words_train), \"axolotl_plain\")"
   ]
  },
  {
   "cell_type": "code",
   "execution_count": null,
   "id": "fe6fbc24-3bc9-4f93-8369-94f8a7333f93",
   "metadata": {
    "colab": {
     "base_uri": "https://localhost:8080/"
    },
    "editable": true,
    "id": "fe6fbc24-3bc9-4f93-8369-94f8a7333f93",
    "outputId": "a2318c00-ff5d-4074-ddc1-e3e5927bfdd4",
    "tags": []
   },
   "outputs": [],
   "source": [
    "!subword-nmt learn-bpe -s 500 < axolotl_plain.txt > axolotl.model"
   ]
  },
  {
   "cell_type": "code",
   "execution_count": null,
   "id": "34ef4c1e-7c9e-4c55-b34a-ae285d87c177",
   "metadata": {
    "editable": true,
    "id": "34ef4c1e-7c9e-4c55-b34a-ae285d87c177",
    "tags": []
   },
   "outputs": [],
   "source": [
    "from collections import Counter\n",
    "\n",
    "axolotl_test_words = [word for row in axolotl_test for word in row[1].lower().split()]\n",
    "axolotl_test_types = Counter(axolotl_test_words)"
   ]
  },
  {
   "cell_type": "code",
   "execution_count": null,
   "id": "7a6e9bd5-054a-45b4-bb09-2adcc618062e",
   "metadata": {
    "colab": {
     "base_uri": "https://localhost:8080/"
    },
    "editable": true,
    "id": "7a6e9bd5-054a-45b4-bb09-2adcc618062e",
    "outputId": "fd0b6323-1454-43c8-c615-41fc24089ccb",
    "tags": []
   },
   "outputs": [],
   "source": [
    "print(axolotl_test_types.most_common(10))"
   ]
  },
  {
   "cell_type": "code",
   "execution_count": null,
   "id": "858f8c40-f587-4ddd-95bd-8b2f8bd7f218",
   "metadata": {
    "editable": true,
    "id": "858f8c40-f587-4ddd-95bd-8b2f8bd7f218",
    "tags": []
   },
   "outputs": [],
   "source": [
    "axolotl_singletons = [singleton for singleton in axolotl_test_types.items() if singleton[1] == 1]"
   ]
  },
  {
   "cell_type": "code",
   "execution_count": null,
   "id": "faNbKA0b4iFo",
   "metadata": {
    "colab": {
     "base_uri": "https://localhost:8080/"
    },
    "id": "faNbKA0b4iFo",
    "outputId": "4e178bf5-2fd1-4c3d-d6b9-ce2bc9d7b695"
   },
   "outputs": [],
   "source": [
    "axolotl_singletons"
   ]
  },
  {
   "cell_type": "code",
   "execution_count": null,
   "id": "bf651159-3a91-4510-a9a9-15d6b3b2b493",
   "metadata": {
    "colab": {
     "base_uri": "https://localhost:8080/"
    },
    "editable": true,
    "id": "bf651159-3a91-4510-a9a9-15d6b3b2b493",
    "outputId": "65657b14-f174-4bbe-b556-b030c2d9e996",
    "tags": []
   },
   "outputs": [],
   "source": [
    "len(axolotl_test_types), len(axolotl_singletons)"
   ]
  },
  {
   "cell_type": "code",
   "execution_count": null,
   "id": "b563c7e3-ea5a-4a89-ace6-8c7b5bcde3db",
   "metadata": {
    "editable": true,
    "id": "b563c7e3-ea5a-4a89-ace6-8c7b5bcde3db",
    "tags": []
   },
   "outputs": [],
   "source": [
    "write_plain_text_corpus(\" \".join(axolotl_test_words), \"axolotl_plain_test\")"
   ]
  },
  {
   "cell_type": "code",
   "execution_count": null,
   "id": "5c93e2c5-e19a-49c8-8899-471a82def51e",
   "metadata": {
    "editable": true,
    "id": "5c93e2c5-e19a-49c8-8899-471a82def51e",
    "tags": []
   },
   "outputs": [],
   "source": [
    "!subword-nmt apply-bpe -c axolotl.model < axolotl_plain_test.txt > axolotl_tokenized.txt"
   ]
  },
  {
   "cell_type": "code",
   "execution_count": null,
   "id": "f5b011fe-9cd1-4ba3-ad68-182edcaac266",
   "metadata": {
    "editable": true,
    "id": "f5b011fe-9cd1-4ba3-ad68-182edcaac266",
    "tags": []
   },
   "outputs": [],
   "source": [
    "with open(\"axolotl_tokenized.txt\") as f:\n",
    "    axolotl_test_tokenized = f.read().split()"
   ]
  },
  {
   "cell_type": "code",
   "execution_count": null,
   "id": "73af365a-353e-4bd0-b5f8-d17f4b5805e4",
   "metadata": {
    "colab": {
     "base_uri": "https://localhost:8080/"
    },
    "editable": true,
    "id": "73af365a-353e-4bd0-b5f8-d17f4b5805e4",
    "outputId": "976a3a0f-5c1b-4c76-e84b-50e04c23b258",
    "tags": []
   },
   "outputs": [],
   "source": [
    "len(axolotl_test_tokenized)"
   ]
  },
  {
   "cell_type": "code",
   "execution_count": null,
   "id": "12d4735c-4dab-403a-a484-5dbb77376678",
   "metadata": {
    "colab": {
     "base_uri": "https://localhost:8080/"
    },
    "editable": true,
    "id": "12d4735c-4dab-403a-a484-5dbb77376678",
    "outputId": "2d7f0a44-e9a3-40e5-c736-39355ee2a9f3",
    "tags": []
   },
   "outputs": [],
   "source": [
    "print(axolotl_test_tokenized[:10])"
   ]
  },
  {
   "cell_type": "code",
   "execution_count": null,
   "id": "5cca7b6c-b15d-4b02-97a7-a31d1c0dabd4",
   "metadata": {
    "editable": true,
    "id": "5cca7b6c-b15d-4b02-97a7-a31d1c0dabd4",
    "tags": []
   },
   "outputs": [],
   "source": [
    "axolotl_test_tokenized_types = Counter(axolotl_test_tokenized)"
   ]
  },
  {
   "cell_type": "code",
   "execution_count": null,
   "id": "271543f1-5360-4d09-a1ad-6975760ace3a",
   "metadata": {
    "colab": {
     "base_uri": "https://localhost:8080/"
    },
    "editable": true,
    "id": "271543f1-5360-4d09-a1ad-6975760ace3a",
    "outputId": "fcb4d062-97ba-460f-96fc-1ce44da279f1",
    "tags": []
   },
   "outputs": [],
   "source": [
    "axolotl_test_tokenized_types.most_common(20)"
   ]
  },
  {
   "cell_type": "code",
   "execution_count": null,
   "id": "0d95a09f-3eaf-4ada-b26d-42da44e309e7",
   "metadata": {
    "colab": {
     "base_uri": "https://localhost:8080/"
    },
    "editable": true,
    "id": "0d95a09f-3eaf-4ada-b26d-42da44e309e7",
    "outputId": "f12250f1-1ef1-47b5-96d3-2fe0c6a4ebc5",
    "tags": []
   },
   "outputs": [],
   "source": [
    "print(\"Axolotl Information\")\n",
    "print(\"Tokens:\", len(axolotl_test_words))\n",
    "print(\"Types (word-base):\", len(axolotl_test_types))\n",
    "print(\"Types (native BPE):\", len(axolotl_test_tokenized_types))\n",
    "print(\"TTR (word-base):\", len(axolotl_test_types)/len(axolotl_test_words))\n",
    "print(\"TTR (BPE):\", len(axolotl_test_tokenized_types)/len(axolotl_test_tokenized))"
   ]
  }
 ],
 "metadata": {
  "colab": {
   "collapsed_sections": [
    "0998a085-207a-4b3a-a599-c293148fcd31"
   ],
   "provenance": []
  },
  "kernelspec": {
   "display_name": "Python 3 (ipykernel)",
   "language": "python",
   "name": "python3"
  },
  "language_info": {
   "codemirror_mode": {
    "name": "ipython",
    "version": 3
   },
   "file_extension": ".py",
   "mimetype": "text/x-python",
   "name": "python",
   "nbconvert_exporter": "python",
   "pygments_lexer": "ipython3",
   "version": "3.12.11"
  },
  "widgets": {
   "application/vnd.jupyter.widget-state+json": {
    "0609821cb48b471187d1e188bb9c1474": {
     "model_module": "@jupyter-widgets/controls",
     "model_module_version": "1.5.0",
     "model_name": "HTMLModel",
     "state": {
      "_dom_classes": [],
      "_model_module": "@jupyter-widgets/controls",
      "_model_module_version": "1.5.0",
      "_model_name": "HTMLModel",
      "_view_count": null,
      "_view_module": "@jupyter-widgets/controls",
      "_view_module_version": "1.5.0",
      "_view_name": "HTMLView",
      "description": "",
      "description_tooltip": null,
      "layout": "IPY_MODEL_89b84cd5059b4aa3bffef5e51ccb32e3",
      "placeholder": "​",
      "style": "IPY_MODEL_d4803bc643b24be29424817304d2a23e",
      "value": "tokenizer.json: 100%"
     }
    },
    "06d73b6a8ea14d45a51ad43df5682507": {
     "model_module": "@jupyter-widgets/controls",
     "model_module_version": "1.5.0",
     "model_name": "HTMLModel",
     "state": {
      "_dom_classes": [],
      "_model_module": "@jupyter-widgets/controls",
      "_model_module_version": "1.5.0",
      "_model_name": "HTMLModel",
      "_view_count": null,
      "_view_module": "@jupyter-widgets/controls",
      "_view_module_version": "1.5.0",
      "_view_name": "HTMLView",
      "description": "",
      "description_tooltip": null,
      "layout": "IPY_MODEL_fb24e2249970401e80c9681de7b3da10",
      "placeholder": "​",
      "style": "IPY_MODEL_08a412330a444824b9ffd73ee10c31bb",
      "value": " 685/685 [00:00&lt;00:00, 46.5kB/s]"
     }
    },
    "07d2fb5b1b6341a8b894eb3f92ea901d": {
     "model_module": "@jupyter-widgets/base",
     "model_module_version": "1.2.0",
     "model_name": "LayoutModel",
     "state": {
      "_model_module": "@jupyter-widgets/base",
      "_model_module_version": "1.2.0",
      "_model_name": "LayoutModel",
      "_view_count": null,
      "_view_module": "@jupyter-widgets/base",
      "_view_module_version": "1.2.0",
      "_view_name": "LayoutView",
      "align_content": null,
      "align_items": null,
      "align_self": null,
      "border": null,
      "bottom": null,
      "display": null,
      "flex": null,
      "flex_flow": null,
      "grid_area": null,
      "grid_auto_columns": null,
      "grid_auto_flow": null,
      "grid_auto_rows": null,
      "grid_column": null,
      "grid_gap": null,
      "grid_row": null,
      "grid_template_areas": null,
      "grid_template_columns": null,
      "grid_template_rows": null,
      "height": null,
      "justify_content": null,
      "justify_items": null,
      "left": null,
      "margin": null,
      "max_height": null,
      "max_width": null,
      "min_height": null,
      "min_width": null,
      "object_fit": null,
      "object_position": null,
      "order": null,
      "overflow": null,
      "overflow_x": null,
      "overflow_y": null,
      "padding": null,
      "right": null,
      "top": null,
      "visibility": null,
      "width": null
     }
    },
    "087ef25705204d428c55f07e670a720b": {
     "model_module": "@jupyter-widgets/controls",
     "model_module_version": "1.5.0",
     "model_name": "HTMLModel",
     "state": {
      "_dom_classes": [],
      "_model_module": "@jupyter-widgets/controls",
      "_model_module_version": "1.5.0",
      "_model_name": "HTMLModel",
      "_view_count": null,
      "_view_module": "@jupyter-widgets/controls",
      "_view_module_version": "1.5.0",
      "_view_name": "HTMLView",
      "description": "",
      "description_tooltip": null,
      "layout": "IPY_MODEL_07d2fb5b1b6341a8b894eb3f92ea901d",
      "placeholder": "​",
      "style": "IPY_MODEL_348fec9e3c6c4b18a0544ada5b2cb5e4",
      "value": "config.json: 100%"
     }
    },
    "08a412330a444824b9ffd73ee10c31bb": {
     "model_module": "@jupyter-widgets/controls",
     "model_module_version": "1.5.0",
     "model_name": "DescriptionStyleModel",
     "state": {
      "_model_module": "@jupyter-widgets/controls",
      "_model_module_version": "1.5.0",
      "_model_name": "DescriptionStyleModel",
      "_view_count": null,
      "_view_module": "@jupyter-widgets/base",
      "_view_module_version": "1.2.0",
      "_view_name": "StyleView",
      "description_width": ""
     }
    },
    "0afa7aec1a7a495995f5751a2e27b372": {
     "model_module": "@jupyter-widgets/base",
     "model_module_version": "1.2.0",
     "model_name": "LayoutModel",
     "state": {
      "_model_module": "@jupyter-widgets/base",
      "_model_module_version": "1.2.0",
      "_model_name": "LayoutModel",
      "_view_count": null,
      "_view_module": "@jupyter-widgets/base",
      "_view_module_version": "1.2.0",
      "_view_name": "LayoutView",
      "align_content": null,
      "align_items": null,
      "align_self": null,
      "border": null,
      "bottom": null,
      "display": null,
      "flex": null,
      "flex_flow": null,
      "grid_area": null,
      "grid_auto_columns": null,
      "grid_auto_flow": null,
      "grid_auto_rows": null,
      "grid_column": null,
      "grid_gap": null,
      "grid_row": null,
      "grid_template_areas": null,
      "grid_template_columns": null,
      "grid_template_rows": null,
      "height": null,
      "justify_content": null,
      "justify_items": null,
      "left": null,
      "margin": null,
      "max_height": null,
      "max_width": null,
      "min_height": null,
      "min_width": null,
      "object_fit": null,
      "object_position": null,
      "order": null,
      "overflow": null,
      "overflow_x": null,
      "overflow_y": null,
      "padding": null,
      "right": null,
      "top": null,
      "visibility": null,
      "width": null
     }
    },
    "0c5cb1d747224832af1fe1846e717b24": {
     "model_module": "@jupyter-widgets/controls",
     "model_module_version": "1.5.0",
     "model_name": "HBoxModel",
     "state": {
      "_dom_classes": [],
      "_model_module": "@jupyter-widgets/controls",
      "_model_module_version": "1.5.0",
      "_model_name": "HBoxModel",
      "_view_count": null,
      "_view_module": "@jupyter-widgets/controls",
      "_view_module_version": "1.5.0",
      "_view_name": "HBoxView",
      "box_style": "",
      "children": [
       "IPY_MODEL_45f92f5c56db459b8d06aa20ff3d0a2b",
       "IPY_MODEL_691156cf824243bcbcddab6d9ee48353",
       "IPY_MODEL_7ae90ee531864843ba2f4b8f65ebcf74"
      ],
      "layout": "IPY_MODEL_9052ba243c5e43bfa67e87548623b8bf"
     }
    },
    "0d5fa36b8d3b4a79beacab02f02f97e6": {
     "model_module": "@jupyter-widgets/controls",
     "model_module_version": "1.5.0",
     "model_name": "DescriptionStyleModel",
     "state": {
      "_model_module": "@jupyter-widgets/controls",
      "_model_module_version": "1.5.0",
      "_model_name": "DescriptionStyleModel",
      "_view_count": null,
      "_view_module": "@jupyter-widgets/base",
      "_view_module_version": "1.2.0",
      "_view_name": "StyleView",
      "description_width": ""
     }
    },
    "0fb6778785b84f8589e1b92d63dc4e80": {
     "model_module": "@jupyter-widgets/controls",
     "model_module_version": "1.5.0",
     "model_name": "ProgressStyleModel",
     "state": {
      "_model_module": "@jupyter-widgets/controls",
      "_model_module_version": "1.5.0",
      "_model_name": "ProgressStyleModel",
      "_view_count": null,
      "_view_module": "@jupyter-widgets/base",
      "_view_module_version": "1.2.0",
      "_view_name": "StyleView",
      "bar_color": null,
      "description_width": ""
     }
    },
    "0fe807289342443fbaa5722604545549": {
     "model_module": "@jupyter-widgets/controls",
     "model_module_version": "1.5.0",
     "model_name": "ProgressStyleModel",
     "state": {
      "_model_module": "@jupyter-widgets/controls",
      "_model_module_version": "1.5.0",
      "_model_name": "ProgressStyleModel",
      "_view_count": null,
      "_view_module": "@jupyter-widgets/base",
      "_view_module_version": "1.2.0",
      "_view_name": "StyleView",
      "bar_color": null,
      "description_width": ""
     }
    },
    "1304b5aa36554ecca285e77584cc7388": {
     "model_module": "@jupyter-widgets/controls",
     "model_module_version": "1.5.0",
     "model_name": "HTMLModel",
     "state": {
      "_dom_classes": [],
      "_model_module": "@jupyter-widgets/controls",
      "_model_module_version": "1.5.0",
      "_model_name": "HTMLModel",
      "_view_count": null,
      "_view_module": "@jupyter-widgets/controls",
      "_view_module_version": "1.5.0",
      "_view_name": "HTMLView",
      "description": "",
      "description_tooltip": null,
      "layout": "IPY_MODEL_4b97c17c58734f2d814b7931bf171d80",
      "placeholder": "​",
      "style": "IPY_MODEL_6b349362fc024b49b2e7a5953a2e1d25",
      "value": "spiece.model: 100%"
     }
    },
    "1f51e5f92692472390f06fcef575a6c8": {
     "model_module": "@jupyter-widgets/base",
     "model_module_version": "1.2.0",
     "model_name": "LayoutModel",
     "state": {
      "_model_module": "@jupyter-widgets/base",
      "_model_module_version": "1.2.0",
      "_model_name": "LayoutModel",
      "_view_count": null,
      "_view_module": "@jupyter-widgets/base",
      "_view_module_version": "1.2.0",
      "_view_name": "LayoutView",
      "align_content": null,
      "align_items": null,
      "align_self": null,
      "border": null,
      "bottom": null,
      "display": null,
      "flex": null,
      "flex_flow": null,
      "grid_area": null,
      "grid_auto_columns": null,
      "grid_auto_flow": null,
      "grid_auto_rows": null,
      "grid_column": null,
      "grid_gap": null,
      "grid_row": null,
      "grid_template_areas": null,
      "grid_template_columns": null,
      "grid_template_rows": null,
      "height": null,
      "justify_content": null,
      "justify_items": null,
      "left": null,
      "margin": null,
      "max_height": null,
      "max_width": null,
      "min_height": null,
      "min_width": null,
      "object_fit": null,
      "object_position": null,
      "order": null,
      "overflow": null,
      "overflow_x": null,
      "overflow_y": null,
      "padding": null,
      "right": null,
      "top": null,
      "visibility": null,
      "width": null
     }
    },
    "26152031ae7848a1882fa1294b3de1ed": {
     "model_module": "@jupyter-widgets/controls",
     "model_module_version": "1.5.0",
     "model_name": "DescriptionStyleModel",
     "state": {
      "_model_module": "@jupyter-widgets/controls",
      "_model_module_version": "1.5.0",
      "_model_name": "DescriptionStyleModel",
      "_view_count": null,
      "_view_module": "@jupyter-widgets/base",
      "_view_module_version": "1.2.0",
      "_view_name": "StyleView",
      "description_width": ""
     }
    },
    "2687c04ac3cc4264a2baad3e38dd5e10": {
     "model_module": "@jupyter-widgets/base",
     "model_module_version": "1.2.0",
     "model_name": "LayoutModel",
     "state": {
      "_model_module": "@jupyter-widgets/base",
      "_model_module_version": "1.2.0",
      "_model_name": "LayoutModel",
      "_view_count": null,
      "_view_module": "@jupyter-widgets/base",
      "_view_module_version": "1.2.0",
      "_view_name": "LayoutView",
      "align_content": null,
      "align_items": null,
      "align_self": null,
      "border": null,
      "bottom": null,
      "display": null,
      "flex": null,
      "flex_flow": null,
      "grid_area": null,
      "grid_auto_columns": null,
      "grid_auto_flow": null,
      "grid_auto_rows": null,
      "grid_column": null,
      "grid_gap": null,
      "grid_row": null,
      "grid_template_areas": null,
      "grid_template_columns": null,
      "grid_template_rows": null,
      "height": null,
      "justify_content": null,
      "justify_items": null,
      "left": null,
      "margin": null,
      "max_height": null,
      "max_width": null,
      "min_height": null,
      "min_width": null,
      "object_fit": null,
      "object_position": null,
      "order": null,
      "overflow": null,
      "overflow_x": null,
      "overflow_y": null,
      "padding": null,
      "right": null,
      "top": null,
      "visibility": null,
      "width": null
     }
    },
    "2ae228b3eb194e53931cc5621230cf61": {
     "model_module": "@jupyter-widgets/controls",
     "model_module_version": "1.5.0",
     "model_name": "HTMLModel",
     "state": {
      "_dom_classes": [],
      "_model_module": "@jupyter-widgets/controls",
      "_model_module_version": "1.5.0",
      "_model_name": "HTMLModel",
      "_view_count": null,
      "_view_module": "@jupyter-widgets/controls",
      "_view_module_version": "1.5.0",
      "_view_name": "HTMLView",
      "description": "",
      "description_tooltip": null,
      "layout": "IPY_MODEL_9e3638015a4b419ca785a25efa01cd74",
      "placeholder": "​",
      "style": "IPY_MODEL_6733b62a015a457ab6872ecabf59327e",
      "value": " 760k/760k [00:00&lt;00:00, 9.59MB/s]"
     }
    },
    "2da5d77ab2a548e598172b5d757b242c": {
     "model_module": "@jupyter-widgets/base",
     "model_module_version": "1.2.0",
     "model_name": "LayoutModel",
     "state": {
      "_model_module": "@jupyter-widgets/base",
      "_model_module_version": "1.2.0",
      "_model_name": "LayoutModel",
      "_view_count": null,
      "_view_module": "@jupyter-widgets/base",
      "_view_module_version": "1.2.0",
      "_view_name": "LayoutView",
      "align_content": null,
      "align_items": null,
      "align_self": null,
      "border": null,
      "bottom": null,
      "display": null,
      "flex": null,
      "flex_flow": null,
      "grid_area": null,
      "grid_auto_columns": null,
      "grid_auto_flow": null,
      "grid_auto_rows": null,
      "grid_column": null,
      "grid_gap": null,
      "grid_row": null,
      "grid_template_areas": null,
      "grid_template_columns": null,
      "grid_template_rows": null,
      "height": null,
      "justify_content": null,
      "justify_items": null,
      "left": null,
      "margin": null,
      "max_height": null,
      "max_width": null,
      "min_height": null,
      "min_width": null,
      "object_fit": null,
      "object_position": null,
      "order": null,
      "overflow": null,
      "overflow_x": null,
      "overflow_y": null,
      "padding": null,
      "right": null,
      "top": null,
      "visibility": null,
      "width": null
     }
    },
    "33f0dc9c6554465dbc265c576989c4c4": {
     "model_module": "@jupyter-widgets/controls",
     "model_module_version": "1.5.0",
     "model_name": "FloatProgressModel",
     "state": {
      "_dom_classes": [],
      "_model_module": "@jupyter-widgets/controls",
      "_model_module_version": "1.5.0",
      "_model_name": "FloatProgressModel",
      "_view_count": null,
      "_view_module": "@jupyter-widgets/controls",
      "_view_module_version": "1.5.0",
      "_view_name": "ProgressView",
      "bar_style": "success",
      "description": "",
      "description_tooltip": null,
      "layout": "IPY_MODEL_f45132aa4c184b48848497073493a9b7",
      "max": 25,
      "min": 0,
      "orientation": "horizontal",
      "style": "IPY_MODEL_ff99a4b7d11d4135a138a9e7e8a329d3",
      "value": 25
     }
    },
    "348fec9e3c6c4b18a0544ada5b2cb5e4": {
     "model_module": "@jupyter-widgets/controls",
     "model_module_version": "1.5.0",
     "model_name": "DescriptionStyleModel",
     "state": {
      "_model_module": "@jupyter-widgets/controls",
      "_model_module_version": "1.5.0",
      "_model_name": "DescriptionStyleModel",
      "_view_count": null,
      "_view_module": "@jupyter-widgets/base",
      "_view_module_version": "1.2.0",
      "_view_name": "StyleView",
      "description_width": ""
     }
    },
    "412b8f65f5584fea92440a22d40a410a": {
     "model_module": "@jupyter-widgets/base",
     "model_module_version": "1.2.0",
     "model_name": "LayoutModel",
     "state": {
      "_model_module": "@jupyter-widgets/base",
      "_model_module_version": "1.2.0",
      "_model_name": "LayoutModel",
      "_view_count": null,
      "_view_module": "@jupyter-widgets/base",
      "_view_module_version": "1.2.0",
      "_view_name": "LayoutView",
      "align_content": null,
      "align_items": null,
      "align_self": null,
      "border": null,
      "bottom": null,
      "display": null,
      "flex": null,
      "flex_flow": null,
      "grid_area": null,
      "grid_auto_columns": null,
      "grid_auto_flow": null,
      "grid_auto_rows": null,
      "grid_column": null,
      "grid_gap": null,
      "grid_row": null,
      "grid_template_areas": null,
      "grid_template_columns": null,
      "grid_template_rows": null,
      "height": null,
      "justify_content": null,
      "justify_items": null,
      "left": null,
      "margin": null,
      "max_height": null,
      "max_width": null,
      "min_height": null,
      "min_width": null,
      "object_fit": null,
      "object_position": null,
      "order": null,
      "overflow": null,
      "overflow_x": null,
      "overflow_y": null,
      "padding": null,
      "right": null,
      "top": null,
      "visibility": null,
      "width": null
     }
    },
    "42443538e96e4327b20e2f74407969f3": {
     "model_module": "@jupyter-widgets/controls",
     "model_module_version": "1.5.0",
     "model_name": "HTMLModel",
     "state": {
      "_dom_classes": [],
      "_model_module": "@jupyter-widgets/controls",
      "_model_module_version": "1.5.0",
      "_model_name": "HTMLModel",
      "_view_count": null,
      "_view_module": "@jupyter-widgets/controls",
      "_view_module_version": "1.5.0",
      "_view_name": "HTMLView",
      "description": "",
      "description_tooltip": null,
      "layout": "IPY_MODEL_59ba5fcae3ae441895b3ab5da189afec",
      "placeholder": "​",
      "style": "IPY_MODEL_ba49a958eec0497d87379f4877fb9597",
      "value": " 1.42M/1.42M [00:00&lt;00:00, 12.3MB/s]"
     }
    },
    "441b6b11bc8d4a7a839c10cf3e0812ec": {
     "model_module": "@jupyter-widgets/base",
     "model_module_version": "1.2.0",
     "model_name": "LayoutModel",
     "state": {
      "_model_module": "@jupyter-widgets/base",
      "_model_module_version": "1.2.0",
      "_model_name": "LayoutModel",
      "_view_count": null,
      "_view_module": "@jupyter-widgets/base",
      "_view_module_version": "1.2.0",
      "_view_name": "LayoutView",
      "align_content": null,
      "align_items": null,
      "align_self": null,
      "border": null,
      "bottom": null,
      "display": null,
      "flex": null,
      "flex_flow": null,
      "grid_area": null,
      "grid_auto_columns": null,
      "grid_auto_flow": null,
      "grid_auto_rows": null,
      "grid_column": null,
      "grid_gap": null,
      "grid_row": null,
      "grid_template_areas": null,
      "grid_template_columns": null,
      "grid_template_rows": null,
      "height": null,
      "justify_content": null,
      "justify_items": null,
      "left": null,
      "margin": null,
      "max_height": null,
      "max_width": null,
      "min_height": null,
      "min_width": null,
      "object_fit": null,
      "object_position": null,
      "order": null,
      "overflow": null,
      "overflow_x": null,
      "overflow_y": null,
      "padding": null,
      "right": null,
      "top": null,
      "visibility": null,
      "width": null
     }
    },
    "45f92f5c56db459b8d06aa20ff3d0a2b": {
     "model_module": "@jupyter-widgets/controls",
     "model_module_version": "1.5.0",
     "model_name": "HTMLModel",
     "state": {
      "_dom_classes": [],
      "_model_module": "@jupyter-widgets/controls",
      "_model_module_version": "1.5.0",
      "_model_name": "HTMLModel",
      "_view_count": null,
      "_view_module": "@jupyter-widgets/controls",
      "_view_module_version": "1.5.0",
      "_view_name": "HTMLView",
      "description": "",
      "description_tooltip": null,
      "layout": "IPY_MODEL_2687c04ac3cc4264a2baad3e38dd5e10",
      "placeholder": "​",
      "style": "IPY_MODEL_bfd8054c02f742f788fdee60e9bb3348",
      "value": "tokenizer_config.json: 100%"
     }
    },
    "4a4d80ab91db44cca51f1186b179967c": {
     "model_module": "@jupyter-widgets/base",
     "model_module_version": "1.2.0",
     "model_name": "LayoutModel",
     "state": {
      "_model_module": "@jupyter-widgets/base",
      "_model_module_version": "1.2.0",
      "_model_name": "LayoutModel",
      "_view_count": null,
      "_view_module": "@jupyter-widgets/base",
      "_view_module_version": "1.2.0",
      "_view_name": "LayoutView",
      "align_content": null,
      "align_items": null,
      "align_self": null,
      "border": null,
      "bottom": null,
      "display": null,
      "flex": null,
      "flex_flow": null,
      "grid_area": null,
      "grid_auto_columns": null,
      "grid_auto_flow": null,
      "grid_auto_rows": null,
      "grid_column": null,
      "grid_gap": null,
      "grid_row": null,
      "grid_template_areas": null,
      "grid_template_columns": null,
      "grid_template_rows": null,
      "height": null,
      "justify_content": null,
      "justify_items": null,
      "left": null,
      "margin": null,
      "max_height": null,
      "max_width": null,
      "min_height": null,
      "min_width": null,
      "object_fit": null,
      "object_position": null,
      "order": null,
      "overflow": null,
      "overflow_x": null,
      "overflow_y": null,
      "padding": null,
      "right": null,
      "top": null,
      "visibility": null,
      "width": null
     }
    },
    "4b97c17c58734f2d814b7931bf171d80": {
     "model_module": "@jupyter-widgets/base",
     "model_module_version": "1.2.0",
     "model_name": "LayoutModel",
     "state": {
      "_model_module": "@jupyter-widgets/base",
      "_model_module_version": "1.2.0",
      "_model_name": "LayoutModel",
      "_view_count": null,
      "_view_module": "@jupyter-widgets/base",
      "_view_module_version": "1.2.0",
      "_view_name": "LayoutView",
      "align_content": null,
      "align_items": null,
      "align_self": null,
      "border": null,
      "bottom": null,
      "display": null,
      "flex": null,
      "flex_flow": null,
      "grid_area": null,
      "grid_auto_columns": null,
      "grid_auto_flow": null,
      "grid_auto_rows": null,
      "grid_column": null,
      "grid_gap": null,
      "grid_row": null,
      "grid_template_areas": null,
      "grid_template_columns": null,
      "grid_template_rows": null,
      "height": null,
      "justify_content": null,
      "justify_items": null,
      "left": null,
      "margin": null,
      "max_height": null,
      "max_width": null,
      "min_height": null,
      "min_width": null,
      "object_fit": null,
      "object_position": null,
      "order": null,
      "overflow": null,
      "overflow_x": null,
      "overflow_y": null,
      "padding": null,
      "right": null,
      "top": null,
      "visibility": null,
      "width": null
     }
    },
    "535aaa8952254dcd830b57d87539a64d": {
     "model_module": "@jupyter-widgets/controls",
     "model_module_version": "1.5.0",
     "model_name": "ProgressStyleModel",
     "state": {
      "_model_module": "@jupyter-widgets/controls",
      "_model_module_version": "1.5.0",
      "_model_name": "ProgressStyleModel",
      "_view_count": null,
      "_view_module": "@jupyter-widgets/base",
      "_view_module_version": "1.2.0",
      "_view_name": "StyleView",
      "bar_color": null,
      "description_width": ""
     }
    },
    "551aa9f8859a4d01b2b128be7a77c3d8": {
     "model_module": "@jupyter-widgets/base",
     "model_module_version": "1.2.0",
     "model_name": "LayoutModel",
     "state": {
      "_model_module": "@jupyter-widgets/base",
      "_model_module_version": "1.2.0",
      "_model_name": "LayoutModel",
      "_view_count": null,
      "_view_module": "@jupyter-widgets/base",
      "_view_module_version": "1.2.0",
      "_view_name": "LayoutView",
      "align_content": null,
      "align_items": null,
      "align_self": null,
      "border": null,
      "bottom": null,
      "display": null,
      "flex": null,
      "flex_flow": null,
      "grid_area": null,
      "grid_auto_columns": null,
      "grid_auto_flow": null,
      "grid_auto_rows": null,
      "grid_column": null,
      "grid_gap": null,
      "grid_row": null,
      "grid_template_areas": null,
      "grid_template_columns": null,
      "grid_template_rows": null,
      "height": null,
      "justify_content": null,
      "justify_items": null,
      "left": null,
      "margin": null,
      "max_height": null,
      "max_width": null,
      "min_height": null,
      "min_width": null,
      "object_fit": null,
      "object_position": null,
      "order": null,
      "overflow": null,
      "overflow_x": null,
      "overflow_y": null,
      "padding": null,
      "right": null,
      "top": null,
      "visibility": null,
      "width": null
     }
    },
    "59ba5fcae3ae441895b3ab5da189afec": {
     "model_module": "@jupyter-widgets/base",
     "model_module_version": "1.2.0",
     "model_name": "LayoutModel",
     "state": {
      "_model_module": "@jupyter-widgets/base",
      "_model_module_version": "1.2.0",
      "_model_name": "LayoutModel",
      "_view_count": null,
      "_view_module": "@jupyter-widgets/base",
      "_view_module_version": "1.2.0",
      "_view_name": "LayoutView",
      "align_content": null,
      "align_items": null,
      "align_self": null,
      "border": null,
      "bottom": null,
      "display": null,
      "flex": null,
      "flex_flow": null,
      "grid_area": null,
      "grid_auto_columns": null,
      "grid_auto_flow": null,
      "grid_auto_rows": null,
      "grid_column": null,
      "grid_gap": null,
      "grid_row": null,
      "grid_template_areas": null,
      "grid_template_columns": null,
      "grid_template_rows": null,
      "height": null,
      "justify_content": null,
      "justify_items": null,
      "left": null,
      "margin": null,
      "max_height": null,
      "max_width": null,
      "min_height": null,
      "min_width": null,
      "object_fit": null,
      "object_position": null,
      "order": null,
      "overflow": null,
      "overflow_x": null,
      "overflow_y": null,
      "padding": null,
      "right": null,
      "top": null,
      "visibility": null,
      "width": null
     }
    },
    "5ed8f1c346b3413991cf032af6967ccd": {
     "model_module": "@jupyter-widgets/controls",
     "model_module_version": "1.5.0",
     "model_name": "HBoxModel",
     "state": {
      "_dom_classes": [],
      "_model_module": "@jupyter-widgets/controls",
      "_model_module_version": "1.5.0",
      "_model_name": "HBoxModel",
      "_view_count": null,
      "_view_module": "@jupyter-widgets/controls",
      "_view_module_version": "1.5.0",
      "_view_name": "HBoxView",
      "box_style": "",
      "children": [
       "IPY_MODEL_989a6946234c4be7954cdc49646e25a7",
       "IPY_MODEL_33f0dc9c6554465dbc265c576989c4c4",
       "IPY_MODEL_ee3c10b83913453a962b2bf901f160dd"
      ],
      "layout": "IPY_MODEL_c289a0271b6e43f0b7039f4515abe347"
     }
    },
    "5f05042774a04a1f8817a32c75550995": {
     "model_module": "@jupyter-widgets/controls",
     "model_module_version": "1.5.0",
     "model_name": "HBoxModel",
     "state": {
      "_dom_classes": [],
      "_model_module": "@jupyter-widgets/controls",
      "_model_module_version": "1.5.0",
      "_model_name": "HBoxModel",
      "_view_count": null,
      "_view_module": "@jupyter-widgets/controls",
      "_view_module_version": "1.5.0",
      "_view_name": "HBoxView",
      "box_style": "",
      "children": [
       "IPY_MODEL_0609821cb48b471187d1e188bb9c1474",
       "IPY_MODEL_e543389c5e904aebbfe2e264a535e338",
       "IPY_MODEL_42443538e96e4327b20e2f74407969f3"
      ],
      "layout": "IPY_MODEL_e0ce25de49c54082b76161ac77183830"
     }
    },
    "6401ab52a3054d9c981e1a46ef592792": {
     "model_module": "@jupyter-widgets/controls",
     "model_module_version": "1.5.0",
     "model_name": "ProgressStyleModel",
     "state": {
      "_model_module": "@jupyter-widgets/controls",
      "_model_module_version": "1.5.0",
      "_model_name": "ProgressStyleModel",
      "_view_count": null,
      "_view_module": "@jupyter-widgets/base",
      "_view_module_version": "1.2.0",
      "_view_name": "StyleView",
      "bar_color": null,
      "description_width": ""
     }
    },
    "6524d22448bb4906a094839d6e028dfd": {
     "model_module": "@jupyter-widgets/controls",
     "model_module_version": "1.5.0",
     "model_name": "FloatProgressModel",
     "state": {
      "_dom_classes": [],
      "_model_module": "@jupyter-widgets/controls",
      "_model_module_version": "1.5.0",
      "_model_name": "FloatProgressModel",
      "_view_count": null,
      "_view_module": "@jupyter-widgets/controls",
      "_view_module_version": "1.5.0",
      "_view_name": "ProgressView",
      "bar_style": "success",
      "description": "",
      "description_tooltip": null,
      "layout": "IPY_MODEL_fe643d14c0b343fc903f47ec175c2ba5",
      "max": 685,
      "min": 0,
      "orientation": "horizontal",
      "style": "IPY_MODEL_b1478a98ddb049aebaa56a065915f3ea",
      "value": 685
     }
    },
    "6701c5be24d442ac85b3b99a6ff74471": {
     "model_module": "@jupyter-widgets/controls",
     "model_module_version": "1.5.0",
     "model_name": "HBoxModel",
     "state": {
      "_dom_classes": [],
      "_model_module": "@jupyter-widgets/controls",
      "_model_module_version": "1.5.0",
      "_model_name": "HBoxModel",
      "_view_count": null,
      "_view_module": "@jupyter-widgets/controls",
      "_view_module_version": "1.5.0",
      "_view_name": "HBoxView",
      "box_style": "",
      "children": [
       "IPY_MODEL_087ef25705204d428c55f07e670a720b",
       "IPY_MODEL_6524d22448bb4906a094839d6e028dfd",
       "IPY_MODEL_06d73b6a8ea14d45a51ad43df5682507"
      ],
      "layout": "IPY_MODEL_551aa9f8859a4d01b2b128be7a77c3d8"
     }
    },
    "6733b62a015a457ab6872ecabf59327e": {
     "model_module": "@jupyter-widgets/controls",
     "model_module_version": "1.5.0",
     "model_name": "DescriptionStyleModel",
     "state": {
      "_model_module": "@jupyter-widgets/controls",
      "_model_module_version": "1.5.0",
      "_model_name": "DescriptionStyleModel",
      "_view_count": null,
      "_view_module": "@jupyter-widgets/base",
      "_view_module_version": "1.2.0",
      "_view_name": "StyleView",
      "description_width": ""
     }
    },
    "68d3bd4c42f34c748ea535a80866fa32": {
     "model_module": "@jupyter-widgets/controls",
     "model_module_version": "1.5.0",
     "model_name": "DescriptionStyleModel",
     "state": {
      "_model_module": "@jupyter-widgets/controls",
      "_model_module_version": "1.5.0",
      "_model_name": "DescriptionStyleModel",
      "_view_count": null,
      "_view_module": "@jupyter-widgets/base",
      "_view_module_version": "1.2.0",
      "_view_name": "StyleView",
      "description_width": ""
     }
    },
    "691156cf824243bcbcddab6d9ee48353": {
     "model_module": "@jupyter-widgets/controls",
     "model_module_version": "1.5.0",
     "model_name": "FloatProgressModel",
     "state": {
      "_dom_classes": [],
      "_model_module": "@jupyter-widgets/controls",
      "_model_module_version": "1.5.0",
      "_model_name": "FloatProgressModel",
      "_view_count": null,
      "_view_module": "@jupyter-widgets/controls",
      "_view_module_version": "1.5.0",
      "_view_name": "ProgressView",
      "bar_style": "success",
      "description": "",
      "description_tooltip": null,
      "layout": "IPY_MODEL_2da5d77ab2a548e598172b5d757b242c",
      "max": 43,
      "min": 0,
      "orientation": "horizontal",
      "style": "IPY_MODEL_535aaa8952254dcd830b57d87539a64d",
      "value": 43
     }
    },
    "6b349362fc024b49b2e7a5953a2e1d25": {
     "model_module": "@jupyter-widgets/controls",
     "model_module_version": "1.5.0",
     "model_name": "DescriptionStyleModel",
     "state": {
      "_model_module": "@jupyter-widgets/controls",
      "_model_module_version": "1.5.0",
      "_model_name": "DescriptionStyleModel",
      "_view_count": null,
      "_view_module": "@jupyter-widgets/base",
      "_view_module_version": "1.2.0",
      "_view_name": "StyleView",
      "description_width": ""
     }
    },
    "71dfdf1f403f4c1498efbb82c293c940": {
     "model_module": "@jupyter-widgets/controls",
     "model_module_version": "1.5.0",
     "model_name": "DescriptionStyleModel",
     "state": {
      "_model_module": "@jupyter-widgets/controls",
      "_model_module_version": "1.5.0",
      "_model_name": "DescriptionStyleModel",
      "_view_count": null,
      "_view_module": "@jupyter-widgets/base",
      "_view_module_version": "1.2.0",
      "_view_name": "StyleView",
      "description_width": ""
     }
    },
    "7ae90ee531864843ba2f4b8f65ebcf74": {
     "model_module": "@jupyter-widgets/controls",
     "model_module_version": "1.5.0",
     "model_name": "HTMLModel",
     "state": {
      "_dom_classes": [],
      "_model_module": "@jupyter-widgets/controls",
      "_model_module_version": "1.5.0",
      "_model_name": "HTMLModel",
      "_view_count": null,
      "_view_module": "@jupyter-widgets/controls",
      "_view_module_version": "1.5.0",
      "_view_name": "HTMLView",
      "description": "",
      "description_tooltip": null,
      "layout": "IPY_MODEL_dcdb184d4f1347c2b1f687fafcb464bf",
      "placeholder": "​",
      "style": "IPY_MODEL_68d3bd4c42f34c748ea535a80866fa32",
      "value": " 43.0/43.0 [00:00&lt;00:00, 1.57kB/s]"
     }
    },
    "89b84cd5059b4aa3bffef5e51ccb32e3": {
     "model_module": "@jupyter-widgets/base",
     "model_module_version": "1.2.0",
     "model_name": "LayoutModel",
     "state": {
      "_model_module": "@jupyter-widgets/base",
      "_model_module_version": "1.2.0",
      "_model_name": "LayoutModel",
      "_view_count": null,
      "_view_module": "@jupyter-widgets/base",
      "_view_module_version": "1.2.0",
      "_view_name": "LayoutView",
      "align_content": null,
      "align_items": null,
      "align_self": null,
      "border": null,
      "bottom": null,
      "display": null,
      "flex": null,
      "flex_flow": null,
      "grid_area": null,
      "grid_auto_columns": null,
      "grid_auto_flow": null,
      "grid_auto_rows": null,
      "grid_column": null,
      "grid_gap": null,
      "grid_row": null,
      "grid_template_areas": null,
      "grid_template_columns": null,
      "grid_template_rows": null,
      "height": null,
      "justify_content": null,
      "justify_items": null,
      "left": null,
      "margin": null,
      "max_height": null,
      "max_width": null,
      "min_height": null,
      "min_width": null,
      "object_fit": null,
      "object_position": null,
      "order": null,
      "overflow": null,
      "overflow_x": null,
      "overflow_y": null,
      "padding": null,
      "right": null,
      "top": null,
      "visibility": null,
      "width": null
     }
    },
    "9052ba243c5e43bfa67e87548623b8bf": {
     "model_module": "@jupyter-widgets/base",
     "model_module_version": "1.2.0",
     "model_name": "LayoutModel",
     "state": {
      "_model_module": "@jupyter-widgets/base",
      "_model_module_version": "1.2.0",
      "_model_name": "LayoutModel",
      "_view_count": null,
      "_view_module": "@jupyter-widgets/base",
      "_view_module_version": "1.2.0",
      "_view_name": "LayoutView",
      "align_content": null,
      "align_items": null,
      "align_self": null,
      "border": null,
      "bottom": null,
      "display": null,
      "flex": null,
      "flex_flow": null,
      "grid_area": null,
      "grid_auto_columns": null,
      "grid_auto_flow": null,
      "grid_auto_rows": null,
      "grid_column": null,
      "grid_gap": null,
      "grid_row": null,
      "grid_template_areas": null,
      "grid_template_columns": null,
      "grid_template_rows": null,
      "height": null,
      "justify_content": null,
      "justify_items": null,
      "left": null,
      "margin": null,
      "max_height": null,
      "max_width": null,
      "min_height": null,
      "min_width": null,
      "object_fit": null,
      "object_position": null,
      "order": null,
      "overflow": null,
      "overflow_x": null,
      "overflow_y": null,
      "padding": null,
      "right": null,
      "top": null,
      "visibility": null,
      "width": null
     }
    },
    "989a6946234c4be7954cdc49646e25a7": {
     "model_module": "@jupyter-widgets/controls",
     "model_module_version": "1.5.0",
     "model_name": "HTMLModel",
     "state": {
      "_dom_classes": [],
      "_model_module": "@jupyter-widgets/controls",
      "_model_module_version": "1.5.0",
      "_model_name": "HTMLModel",
      "_view_count": null,
      "_view_module": "@jupyter-widgets/controls",
      "_view_module_version": "1.5.0",
      "_view_name": "HTMLView",
      "description": "",
      "description_tooltip": null,
      "layout": "IPY_MODEL_412b8f65f5584fea92440a22d40a410a",
      "placeholder": "​",
      "style": "IPY_MODEL_26152031ae7848a1882fa1294b3de1ed",
      "value": "tokenizer_config.json: 100%"
     }
    },
    "9e3638015a4b419ca785a25efa01cd74": {
     "model_module": "@jupyter-widgets/base",
     "model_module_version": "1.2.0",
     "model_name": "LayoutModel",
     "state": {
      "_model_module": "@jupyter-widgets/base",
      "_model_module_version": "1.2.0",
      "_model_name": "LayoutModel",
      "_view_count": null,
      "_view_module": "@jupyter-widgets/base",
      "_view_module_version": "1.2.0",
      "_view_name": "LayoutView",
      "align_content": null,
      "align_items": null,
      "align_self": null,
      "border": null,
      "bottom": null,
      "display": null,
      "flex": null,
      "flex_flow": null,
      "grid_area": null,
      "grid_auto_columns": null,
      "grid_auto_flow": null,
      "grid_auto_rows": null,
      "grid_column": null,
      "grid_gap": null,
      "grid_row": null,
      "grid_template_areas": null,
      "grid_template_columns": null,
      "grid_template_rows": null,
      "height": null,
      "justify_content": null,
      "justify_items": null,
      "left": null,
      "margin": null,
      "max_height": null,
      "max_width": null,
      "min_height": null,
      "min_width": null,
      "object_fit": null,
      "object_position": null,
      "order": null,
      "overflow": null,
      "overflow_x": null,
      "overflow_y": null,
      "padding": null,
      "right": null,
      "top": null,
      "visibility": null,
      "width": null
     }
    },
    "aae8e826a44a4de6a3143a8185ce24ee": {
     "model_module": "@jupyter-widgets/base",
     "model_module_version": "1.2.0",
     "model_name": "LayoutModel",
     "state": {
      "_model_module": "@jupyter-widgets/base",
      "_model_module_version": "1.2.0",
      "_model_name": "LayoutModel",
      "_view_count": null,
      "_view_module": "@jupyter-widgets/base",
      "_view_module_version": "1.2.0",
      "_view_name": "LayoutView",
      "align_content": null,
      "align_items": null,
      "align_self": null,
      "border": null,
      "bottom": null,
      "display": null,
      "flex": null,
      "flex_flow": null,
      "grid_area": null,
      "grid_auto_columns": null,
      "grid_auto_flow": null,
      "grid_auto_rows": null,
      "grid_column": null,
      "grid_gap": null,
      "grid_row": null,
      "grid_template_areas": null,
      "grid_template_columns": null,
      "grid_template_rows": null,
      "height": null,
      "justify_content": null,
      "justify_items": null,
      "left": null,
      "margin": null,
      "max_height": null,
      "max_width": null,
      "min_height": null,
      "min_width": null,
      "object_fit": null,
      "object_position": null,
      "order": null,
      "overflow": null,
      "overflow_x": null,
      "overflow_y": null,
      "padding": null,
      "right": null,
      "top": null,
      "visibility": null,
      "width": null
     }
    },
    "b1478a98ddb049aebaa56a065915f3ea": {
     "model_module": "@jupyter-widgets/controls",
     "model_module_version": "1.5.0",
     "model_name": "ProgressStyleModel",
     "state": {
      "_model_module": "@jupyter-widgets/controls",
      "_model_module_version": "1.5.0",
      "_model_name": "ProgressStyleModel",
      "_view_count": null,
      "_view_module": "@jupyter-widgets/base",
      "_view_module_version": "1.2.0",
      "_view_name": "StyleView",
      "bar_color": null,
      "description_width": ""
     }
    },
    "b7914208c78f4ad39e271b9ab99468d2": {
     "model_module": "@jupyter-widgets/base",
     "model_module_version": "1.2.0",
     "model_name": "LayoutModel",
     "state": {
      "_model_module": "@jupyter-widgets/base",
      "_model_module_version": "1.2.0",
      "_model_name": "LayoutModel",
      "_view_count": null,
      "_view_module": "@jupyter-widgets/base",
      "_view_module_version": "1.2.0",
      "_view_name": "LayoutView",
      "align_content": null,
      "align_items": null,
      "align_self": null,
      "border": null,
      "bottom": null,
      "display": null,
      "flex": null,
      "flex_flow": null,
      "grid_area": null,
      "grid_auto_columns": null,
      "grid_auto_flow": null,
      "grid_auto_rows": null,
      "grid_column": null,
      "grid_gap": null,
      "grid_row": null,
      "grid_template_areas": null,
      "grid_template_columns": null,
      "grid_template_rows": null,
      "height": null,
      "justify_content": null,
      "justify_items": null,
      "left": null,
      "margin": null,
      "max_height": null,
      "max_width": null,
      "min_height": null,
      "min_width": null,
      "object_fit": null,
      "object_position": null,
      "order": null,
      "overflow": null,
      "overflow_x": null,
      "overflow_y": null,
      "padding": null,
      "right": null,
      "top": null,
      "visibility": null,
      "width": null
     }
    },
    "ba49a958eec0497d87379f4877fb9597": {
     "model_module": "@jupyter-widgets/controls",
     "model_module_version": "1.5.0",
     "model_name": "DescriptionStyleModel",
     "state": {
      "_model_module": "@jupyter-widgets/controls",
      "_model_module_version": "1.5.0",
      "_model_name": "DescriptionStyleModel",
      "_view_count": null,
      "_view_module": "@jupyter-widgets/base",
      "_view_module_version": "1.2.0",
      "_view_name": "StyleView",
      "description_width": ""
     }
    },
    "bd8bad0b45c043febf18ffe1bd782746": {
     "model_module": "@jupyter-widgets/controls",
     "model_module_version": "1.5.0",
     "model_name": "FloatProgressModel",
     "state": {
      "_dom_classes": [],
      "_model_module": "@jupyter-widgets/controls",
      "_model_module_version": "1.5.0",
      "_model_name": "FloatProgressModel",
      "_view_count": null,
      "_view_module": "@jupyter-widgets/controls",
      "_view_module_version": "1.5.0",
      "_view_name": "ProgressView",
      "bar_style": "success",
      "description": "",
      "description_tooltip": null,
      "layout": "IPY_MODEL_f3785090d2774051a61c4a2335f00977",
      "max": 1312669,
      "min": 0,
      "orientation": "horizontal",
      "style": "IPY_MODEL_0fe807289342443fbaa5722604545549",
      "value": 1312669
     }
    },
    "bfd8054c02f742f788fdee60e9bb3348": {
     "model_module": "@jupyter-widgets/controls",
     "model_module_version": "1.5.0",
     "model_name": "DescriptionStyleModel",
     "state": {
      "_model_module": "@jupyter-widgets/controls",
      "_model_module_version": "1.5.0",
      "_model_name": "DescriptionStyleModel",
      "_view_count": null,
      "_view_module": "@jupyter-widgets/base",
      "_view_module_version": "1.2.0",
      "_view_name": "StyleView",
      "description_width": ""
     }
    },
    "c0ab363c57814411b3e2d18263019d0c": {
     "model_module": "@jupyter-widgets/controls",
     "model_module_version": "1.5.0",
     "model_name": "FloatProgressModel",
     "state": {
      "_dom_classes": [],
      "_model_module": "@jupyter-widgets/controls",
      "_model_module_version": "1.5.0",
      "_model_name": "FloatProgressModel",
      "_view_count": null,
      "_view_module": "@jupyter-widgets/controls",
      "_view_module_version": "1.5.0",
      "_view_name": "ProgressView",
      "bar_style": "success",
      "description": "",
      "description_tooltip": null,
      "layout": "IPY_MODEL_0afa7aec1a7a495995f5751a2e27b372",
      "max": 760289,
      "min": 0,
      "orientation": "horizontal",
      "style": "IPY_MODEL_6401ab52a3054d9c981e1a46ef592792",
      "value": 760289
     }
    },
    "c289a0271b6e43f0b7039f4515abe347": {
     "model_module": "@jupyter-widgets/base",
     "model_module_version": "1.2.0",
     "model_name": "LayoutModel",
     "state": {
      "_model_module": "@jupyter-widgets/base",
      "_model_module_version": "1.2.0",
      "_model_name": "LayoutModel",
      "_view_count": null,
      "_view_module": "@jupyter-widgets/base",
      "_view_module_version": "1.2.0",
      "_view_name": "LayoutView",
      "align_content": null,
      "align_items": null,
      "align_self": null,
      "border": null,
      "bottom": null,
      "display": null,
      "flex": null,
      "flex_flow": null,
      "grid_area": null,
      "grid_auto_columns": null,
      "grid_auto_flow": null,
      "grid_auto_rows": null,
      "grid_column": null,
      "grid_gap": null,
      "grid_row": null,
      "grid_template_areas": null,
      "grid_template_columns": null,
      "grid_template_rows": null,
      "height": null,
      "justify_content": null,
      "justify_items": null,
      "left": null,
      "margin": null,
      "max_height": null,
      "max_width": null,
      "min_height": null,
      "min_width": null,
      "object_fit": null,
      "object_position": null,
      "order": null,
      "overflow": null,
      "overflow_x": null,
      "overflow_y": null,
      "padding": null,
      "right": null,
      "top": null,
      "visibility": null,
      "width": null
     }
    },
    "c456a64d2f38474fbf9e8277b05b0fc3": {
     "model_module": "@jupyter-widgets/controls",
     "model_module_version": "1.5.0",
     "model_name": "HTMLModel",
     "state": {
      "_dom_classes": [],
      "_model_module": "@jupyter-widgets/controls",
      "_model_module_version": "1.5.0",
      "_model_name": "HTMLModel",
      "_view_count": null,
      "_view_module": "@jupyter-widgets/controls",
      "_view_module_version": "1.5.0",
      "_view_name": "HTMLView",
      "description": "",
      "description_tooltip": null,
      "layout": "IPY_MODEL_441b6b11bc8d4a7a839c10cf3e0812ec",
      "placeholder": "​",
      "style": "IPY_MODEL_0d5fa36b8d3b4a79beacab02f02f97e6",
      "value": "tokenizer.json: 100%"
     }
    },
    "cb48dee6e9274f43a6d5ca3f4ebf6bfa": {
     "model_module": "@jupyter-widgets/base",
     "model_module_version": "1.2.0",
     "model_name": "LayoutModel",
     "state": {
      "_model_module": "@jupyter-widgets/base",
      "_model_module_version": "1.2.0",
      "_model_name": "LayoutModel",
      "_view_count": null,
      "_view_module": "@jupyter-widgets/base",
      "_view_module_version": "1.2.0",
      "_view_name": "LayoutView",
      "align_content": null,
      "align_items": null,
      "align_self": null,
      "border": null,
      "bottom": null,
      "display": null,
      "flex": null,
      "flex_flow": null,
      "grid_area": null,
      "grid_auto_columns": null,
      "grid_auto_flow": null,
      "grid_auto_rows": null,
      "grid_column": null,
      "grid_gap": null,
      "grid_row": null,
      "grid_template_areas": null,
      "grid_template_columns": null,
      "grid_template_rows": null,
      "height": null,
      "justify_content": null,
      "justify_items": null,
      "left": null,
      "margin": null,
      "max_height": null,
      "max_width": null,
      "min_height": null,
      "min_width": null,
      "object_fit": null,
      "object_position": null,
      "order": null,
      "overflow": null,
      "overflow_x": null,
      "overflow_y": null,
      "padding": null,
      "right": null,
      "top": null,
      "visibility": null,
      "width": null
     }
    },
    "cd4e95059f07413b9722c5ce60a39828": {
     "model_module": "@jupyter-widgets/controls",
     "model_module_version": "1.5.0",
     "model_name": "DescriptionStyleModel",
     "state": {
      "_model_module": "@jupyter-widgets/controls",
      "_model_module_version": "1.5.0",
      "_model_name": "DescriptionStyleModel",
      "_view_count": null,
      "_view_module": "@jupyter-widgets/base",
      "_view_module_version": "1.2.0",
      "_view_name": "StyleView",
      "description_width": ""
     }
    },
    "d4803bc643b24be29424817304d2a23e": {
     "model_module": "@jupyter-widgets/controls",
     "model_module_version": "1.5.0",
     "model_name": "DescriptionStyleModel",
     "state": {
      "_model_module": "@jupyter-widgets/controls",
      "_model_module_version": "1.5.0",
      "_model_name": "DescriptionStyleModel",
      "_view_count": null,
      "_view_module": "@jupyter-widgets/base",
      "_view_module_version": "1.2.0",
      "_view_name": "StyleView",
      "description_width": ""
     }
    },
    "dcdb184d4f1347c2b1f687fafcb464bf": {
     "model_module": "@jupyter-widgets/base",
     "model_module_version": "1.2.0",
     "model_name": "LayoutModel",
     "state": {
      "_model_module": "@jupyter-widgets/base",
      "_model_module_version": "1.2.0",
      "_model_name": "LayoutModel",
      "_view_count": null,
      "_view_module": "@jupyter-widgets/base",
      "_view_module_version": "1.2.0",
      "_view_name": "LayoutView",
      "align_content": null,
      "align_items": null,
      "align_self": null,
      "border": null,
      "bottom": null,
      "display": null,
      "flex": null,
      "flex_flow": null,
      "grid_area": null,
      "grid_auto_columns": null,
      "grid_auto_flow": null,
      "grid_auto_rows": null,
      "grid_column": null,
      "grid_gap": null,
      "grid_row": null,
      "grid_template_areas": null,
      "grid_template_columns": null,
      "grid_template_rows": null,
      "height": null,
      "justify_content": null,
      "justify_items": null,
      "left": null,
      "margin": null,
      "max_height": null,
      "max_width": null,
      "min_height": null,
      "min_width": null,
      "object_fit": null,
      "object_position": null,
      "order": null,
      "overflow": null,
      "overflow_x": null,
      "overflow_y": null,
      "padding": null,
      "right": null,
      "top": null,
      "visibility": null,
      "width": null
     }
    },
    "df61648dc26a4799a4cfd79d6fb00829": {
     "model_module": "@jupyter-widgets/controls",
     "model_module_version": "1.5.0",
     "model_name": "HBoxModel",
     "state": {
      "_dom_classes": [],
      "_model_module": "@jupyter-widgets/controls",
      "_model_module_version": "1.5.0",
      "_model_name": "HBoxModel",
      "_view_count": null,
      "_view_module": "@jupyter-widgets/controls",
      "_view_module_version": "1.5.0",
      "_view_name": "HBoxView",
      "box_style": "",
      "children": [
       "IPY_MODEL_c456a64d2f38474fbf9e8277b05b0fc3",
       "IPY_MODEL_bd8bad0b45c043febf18ffe1bd782746",
       "IPY_MODEL_fd4ce803912f4e8390ea587a5c32155e"
      ],
      "layout": "IPY_MODEL_b7914208c78f4ad39e271b9ab99468d2"
     }
    },
    "e0ce25de49c54082b76161ac77183830": {
     "model_module": "@jupyter-widgets/base",
     "model_module_version": "1.2.0",
     "model_name": "LayoutModel",
     "state": {
      "_model_module": "@jupyter-widgets/base",
      "_model_module_version": "1.2.0",
      "_model_name": "LayoutModel",
      "_view_count": null,
      "_view_module": "@jupyter-widgets/base",
      "_view_module_version": "1.2.0",
      "_view_name": "LayoutView",
      "align_content": null,
      "align_items": null,
      "align_self": null,
      "border": null,
      "bottom": null,
      "display": null,
      "flex": null,
      "flex_flow": null,
      "grid_area": null,
      "grid_auto_columns": null,
      "grid_auto_flow": null,
      "grid_auto_rows": null,
      "grid_column": null,
      "grid_gap": null,
      "grid_row": null,
      "grid_template_areas": null,
      "grid_template_columns": null,
      "grid_template_rows": null,
      "height": null,
      "justify_content": null,
      "justify_items": null,
      "left": null,
      "margin": null,
      "max_height": null,
      "max_width": null,
      "min_height": null,
      "min_width": null,
      "object_fit": null,
      "object_position": null,
      "order": null,
      "overflow": null,
      "overflow_x": null,
      "overflow_y": null,
      "padding": null,
      "right": null,
      "top": null,
      "visibility": null,
      "width": null
     }
    },
    "e543389c5e904aebbfe2e264a535e338": {
     "model_module": "@jupyter-widgets/controls",
     "model_module_version": "1.5.0",
     "model_name": "FloatProgressModel",
     "state": {
      "_dom_classes": [],
      "_model_module": "@jupyter-widgets/controls",
      "_model_module_version": "1.5.0",
      "_model_name": "FloatProgressModel",
      "_view_count": null,
      "_view_module": "@jupyter-widgets/controls",
      "_view_module_version": "1.5.0",
      "_view_name": "ProgressView",
      "bar_style": "success",
      "description": "",
      "description_tooltip": null,
      "layout": "IPY_MODEL_4a4d80ab91db44cca51f1186b179967c",
      "max": 1416762,
      "min": 0,
      "orientation": "horizontal",
      "style": "IPY_MODEL_0fb6778785b84f8589e1b92d63dc4e80",
      "value": 1416762
     }
    },
    "ee3c10b83913453a962b2bf901f160dd": {
     "model_module": "@jupyter-widgets/controls",
     "model_module_version": "1.5.0",
     "model_name": "HTMLModel",
     "state": {
      "_dom_classes": [],
      "_model_module": "@jupyter-widgets/controls",
      "_model_module_version": "1.5.0",
      "_model_name": "HTMLModel",
      "_view_count": null,
      "_view_module": "@jupyter-widgets/controls",
      "_view_module_version": "1.5.0",
      "_view_name": "HTMLView",
      "description": "",
      "description_tooltip": null,
      "layout": "IPY_MODEL_1f51e5f92692472390f06fcef575a6c8",
      "placeholder": "​",
      "style": "IPY_MODEL_cd4e95059f07413b9722c5ce60a39828",
      "value": " 25.0/25.0 [00:00&lt;00:00, 1.67kB/s]"
     }
    },
    "f3785090d2774051a61c4a2335f00977": {
     "model_module": "@jupyter-widgets/base",
     "model_module_version": "1.2.0",
     "model_name": "LayoutModel",
     "state": {
      "_model_module": "@jupyter-widgets/base",
      "_model_module_version": "1.2.0",
      "_model_name": "LayoutModel",
      "_view_count": null,
      "_view_module": "@jupyter-widgets/base",
      "_view_module_version": "1.2.0",
      "_view_name": "LayoutView",
      "align_content": null,
      "align_items": null,
      "align_self": null,
      "border": null,
      "bottom": null,
      "display": null,
      "flex": null,
      "flex_flow": null,
      "grid_area": null,
      "grid_auto_columns": null,
      "grid_auto_flow": null,
      "grid_auto_rows": null,
      "grid_column": null,
      "grid_gap": null,
      "grid_row": null,
      "grid_template_areas": null,
      "grid_template_columns": null,
      "grid_template_rows": null,
      "height": null,
      "justify_content": null,
      "justify_items": null,
      "left": null,
      "margin": null,
      "max_height": null,
      "max_width": null,
      "min_height": null,
      "min_width": null,
      "object_fit": null,
      "object_position": null,
      "order": null,
      "overflow": null,
      "overflow_x": null,
      "overflow_y": null,
      "padding": null,
      "right": null,
      "top": null,
      "visibility": null,
      "width": null
     }
    },
    "f45132aa4c184b48848497073493a9b7": {
     "model_module": "@jupyter-widgets/base",
     "model_module_version": "1.2.0",
     "model_name": "LayoutModel",
     "state": {
      "_model_module": "@jupyter-widgets/base",
      "_model_module_version": "1.2.0",
      "_model_name": "LayoutModel",
      "_view_count": null,
      "_view_module": "@jupyter-widgets/base",
      "_view_module_version": "1.2.0",
      "_view_name": "LayoutView",
      "align_content": null,
      "align_items": null,
      "align_self": null,
      "border": null,
      "bottom": null,
      "display": null,
      "flex": null,
      "flex_flow": null,
      "grid_area": null,
      "grid_auto_columns": null,
      "grid_auto_flow": null,
      "grid_auto_rows": null,
      "grid_column": null,
      "grid_gap": null,
      "grid_row": null,
      "grid_template_areas": null,
      "grid_template_columns": null,
      "grid_template_rows": null,
      "height": null,
      "justify_content": null,
      "justify_items": null,
      "left": null,
      "margin": null,
      "max_height": null,
      "max_width": null,
      "min_height": null,
      "min_width": null,
      "object_fit": null,
      "object_position": null,
      "order": null,
      "overflow": null,
      "overflow_x": null,
      "overflow_y": null,
      "padding": null,
      "right": null,
      "top": null,
      "visibility": null,
      "width": null
     }
    },
    "f7d122eb3c924180ac7ff834470ba6f6": {
     "model_module": "@jupyter-widgets/controls",
     "model_module_version": "1.5.0",
     "model_name": "HBoxModel",
     "state": {
      "_dom_classes": [],
      "_model_module": "@jupyter-widgets/controls",
      "_model_module_version": "1.5.0",
      "_model_name": "HBoxModel",
      "_view_count": null,
      "_view_module": "@jupyter-widgets/controls",
      "_view_module_version": "1.5.0",
      "_view_name": "HBoxView",
      "box_style": "",
      "children": [
       "IPY_MODEL_1304b5aa36554ecca285e77584cc7388",
       "IPY_MODEL_c0ab363c57814411b3e2d18263019d0c",
       "IPY_MODEL_2ae228b3eb194e53931cc5621230cf61"
      ],
      "layout": "IPY_MODEL_cb48dee6e9274f43a6d5ca3f4ebf6bfa"
     }
    },
    "fb24e2249970401e80c9681de7b3da10": {
     "model_module": "@jupyter-widgets/base",
     "model_module_version": "1.2.0",
     "model_name": "LayoutModel",
     "state": {
      "_model_module": "@jupyter-widgets/base",
      "_model_module_version": "1.2.0",
      "_model_name": "LayoutModel",
      "_view_count": null,
      "_view_module": "@jupyter-widgets/base",
      "_view_module_version": "1.2.0",
      "_view_name": "LayoutView",
      "align_content": null,
      "align_items": null,
      "align_self": null,
      "border": null,
      "bottom": null,
      "display": null,
      "flex": null,
      "flex_flow": null,
      "grid_area": null,
      "grid_auto_columns": null,
      "grid_auto_flow": null,
      "grid_auto_rows": null,
      "grid_column": null,
      "grid_gap": null,
      "grid_row": null,
      "grid_template_areas": null,
      "grid_template_columns": null,
      "grid_template_rows": null,
      "height": null,
      "justify_content": null,
      "justify_items": null,
      "left": null,
      "margin": null,
      "max_height": null,
      "max_width": null,
      "min_height": null,
      "min_width": null,
      "object_fit": null,
      "object_position": null,
      "order": null,
      "overflow": null,
      "overflow_x": null,
      "overflow_y": null,
      "padding": null,
      "right": null,
      "top": null,
      "visibility": null,
      "width": null
     }
    },
    "fd4ce803912f4e8390ea587a5c32155e": {
     "model_module": "@jupyter-widgets/controls",
     "model_module_version": "1.5.0",
     "model_name": "HTMLModel",
     "state": {
      "_dom_classes": [],
      "_model_module": "@jupyter-widgets/controls",
      "_model_module_version": "1.5.0",
      "_model_name": "HTMLModel",
      "_view_count": null,
      "_view_module": "@jupyter-widgets/controls",
      "_view_module_version": "1.5.0",
      "_view_name": "HTMLView",
      "description": "",
      "description_tooltip": null,
      "layout": "IPY_MODEL_aae8e826a44a4de6a3143a8185ce24ee",
      "placeholder": "​",
      "style": "IPY_MODEL_71dfdf1f403f4c1498efbb82c293c940",
      "value": " 1.31M/1.31M [00:00&lt;00:00, 23.4MB/s]"
     }
    },
    "fe643d14c0b343fc903f47ec175c2ba5": {
     "model_module": "@jupyter-widgets/base",
     "model_module_version": "1.2.0",
     "model_name": "LayoutModel",
     "state": {
      "_model_module": "@jupyter-widgets/base",
      "_model_module_version": "1.2.0",
      "_model_name": "LayoutModel",
      "_view_count": null,
      "_view_module": "@jupyter-widgets/base",
      "_view_module_version": "1.2.0",
      "_view_name": "LayoutView",
      "align_content": null,
      "align_items": null,
      "align_self": null,
      "border": null,
      "bottom": null,
      "display": null,
      "flex": null,
      "flex_flow": null,
      "grid_area": null,
      "grid_auto_columns": null,
      "grid_auto_flow": null,
      "grid_auto_rows": null,
      "grid_column": null,
      "grid_gap": null,
      "grid_row": null,
      "grid_template_areas": null,
      "grid_template_columns": null,
      "grid_template_rows": null,
      "height": null,
      "justify_content": null,
      "justify_items": null,
      "left": null,
      "margin": null,
      "max_height": null,
      "max_width": null,
      "min_height": null,
      "min_width": null,
      "object_fit": null,
      "object_position": null,
      "order": null,
      "overflow": null,
      "overflow_x": null,
      "overflow_y": null,
      "padding": null,
      "right": null,
      "top": null,
      "visibility": null,
      "width": null
     }
    },
    "ff99a4b7d11d4135a138a9e7e8a329d3": {
     "model_module": "@jupyter-widgets/controls",
     "model_module_version": "1.5.0",
     "model_name": "ProgressStyleModel",
     "state": {
      "_model_module": "@jupyter-widgets/controls",
      "_model_module_version": "1.5.0",
      "_model_name": "ProgressStyleModel",
      "_view_count": null,
      "_view_module": "@jupyter-widgets/base",
      "_view_module_version": "1.2.0",
      "_view_name": "StyleView",
      "bar_color": null,
      "description_width": ""
     }
    }
   }
  }
 },
 "nbformat": 4,
 "nbformat_minor": 5
}

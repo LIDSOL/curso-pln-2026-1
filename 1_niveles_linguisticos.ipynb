{
 "cells": [
  {
   "cell_type": "markdown",
   "id": "209bf2e2-c1ef-4265-8a80-b75121eae7b7",
   "metadata": {},
   "source": [
    "<p align=\"center\">\n",
    "    <a target=\"_blank\" href=\"https://colab.research.google.com/github/LIDSOL/curso-pln-2026-1/blob/main/1_niveles_linguisticos.ipynb\">\n",
    "        <img src=\"https://colab.research.google.com/assets/colab-badge.svg\" alt=\"Open In Colab\"/>\n",
    "    </a>\n",
    "</p> "
   ]
  },
  {
   "cell_type": "markdown",
   "id": "76b3a996-772a-4be8-a8eb-f1e9ae67d03e",
   "metadata": {
    "editable": true,
    "id": "76b3a996-772a-4be8-a8eb-f1e9ae67d03e",
    "slideshow": {
     "slide_type": ""
    },
    "tags": []
   },
   "source": [
    "# 1. Niveles Lingüísticos"
   ]
  },
  {
   "cell_type": "markdown",
   "id": "615a09ab-2b52-440a-a4dc-fd8982c3c0e7",
   "metadata": {
    "editable": true,
    "id": "615a09ab-2b52-440a-a4dc-fd8982c3c0e7",
    "slideshow": {
     "slide_type": ""
    },
    "tags": []
   },
   "source": [
    "## Objetivos"
   ]
  },
  {
   "cell_type": "markdown",
   "id": "f034458c-9cb0-4966-a203-3145074c3fca",
   "metadata": {
    "id": "f034458c-9cb0-4966-a203-3145074c3fca"
   },
   "source": [
    "- Trabajar tareas a diferentes niveles lingüísticos (Fonético, Morfólogico, Sintáctico)\n",
    "- Manipularan y recuperará información de datasets disponibles en Github para resolver tareas de NLP\n",
    "- Comparar enfoques basados en reglas y estadísticos para el análisis morfológico"
   ]
  },
  {
   "cell_type": "markdown",
   "id": "3c169487-91d2-4afb-a12a-849c26a5be86",
   "metadata": {
    "id": "3c169487-91d2-4afb-a12a-849c26a5be86"
   },
   "source": [
    "## Fonética y Fonología"
   ]
  },
  {
   "cell_type": "markdown",
   "id": "d0647e1e-a8c5-418f-81c7-31d2e86c88a4",
   "metadata": {
    "editable": true,
    "id": "d0647e1e-a8c5-418f-81c7-31d2e86c88a4",
    "slideshow": {
     "slide_type": ""
    },
    "tags": []
   },
   "source": [
    "<center><img src=\"https://upload.wikimedia.org/wikipedia/commons/thumb/8/8f/IPA_chart_2020.svg/660px-IPA_chart_2020.svg.png\"></center"
   ]
  },
  {
   "cell_type": "code",
   "execution_count": null,
   "id": "ecb34504-4988-4fca-82f1-824ba96a0909",
   "metadata": {
    "colab": {
     "base_uri": "https://localhost:8080/",
     "height": 623
    },
    "id": "ecb34504-4988-4fca-82f1-824ba96a0909",
    "outputId": "faff1ea5-3eff-4ec5-fb77-3a2e1dc01815"
   },
   "outputs": [],
   "source": [
    "%%HTML\n",
    "<center><iframe width='901' height='600' src='https://www.youtube.com/embed/DcNMCB-Gsn8?controls=1'></iframe></center"
   ]
  },
  {
   "cell_type": "code",
   "execution_count": null,
   "id": "1HPZ7Xpt9kgF",
   "metadata": {
    "colab": {
     "base_uri": "https://localhost:8080/",
     "height": 623
    },
    "id": "1HPZ7Xpt9kgF",
    "outputId": "f9a1f3f7-a00e-4778-f18d-f3938ebe2289"
   },
   "outputs": [],
   "source": [
    "%%HTML\n",
    "<center><iframe width='900' height='600' src='https://www.youtube.com/embed/74nnLh0Vdcc?controls=1'></iframe></center>"
   ]
  },
  {
   "cell_type": "markdown",
   "id": "aa915e8e-038e-4de6-8956-f6221b1d8490",
   "metadata": {
    "id": "aa915e8e-038e-4de6-8956-f6221b1d8490"
   },
   "source": [
    "### International Phonetic Alphabet (IPA)"
   ]
  },
  {
   "cell_type": "markdown",
   "id": "09b4f076-b23b-46a8-9101-e37d79d374c8",
   "metadata": {
    "id": "09b4f076-b23b-46a8-9101-e37d79d374c8"
   },
   "source": [
    "- Las lenguas naturales tienen muchos sonidos diferentes por lo que necesitamos una forma de describirlos independientemente de las lenguas\n",
    "- IPA es una representación escrita de los [sonidos](https://www.ipachart.com/) del [habla](http://ipa-reader.xyz/)"
   ]
  },
  {
   "cell_type": "markdown",
   "id": "19eee353-6fd4-474a-86ca-8382ad51bf0f",
   "metadata": {
    "id": "19eee353-6fd4-474a-86ca-8382ad51bf0f"
   },
   "source": [
    "### Dataset: [IPA-dict](https://github.com/open-dict-data/ipa-dict) de open-dict"
   ]
  },
  {
   "cell_type": "markdown",
   "id": "18f45a54-5f64-408e-98f3-fc31114dc84a",
   "metadata": {
    "id": "18f45a54-5f64-408e-98f3-fc31114dc84a"
   },
   "source": [
    "- Diccionario de palabras para varios idiomas con su representación fonética\n",
    "- Representación simple, una palabra por renglon con el formato:\n",
    "\n",
    "```\n",
    "[PALABRA][TAB][IPA]\n",
    "\n",
    "Ejemplos\n",
    "mariguana\t/maɾiɣwana/\n",
    "zyuganov's   /ˈzjuɡɑnɑvz/, /ˈzuɡɑnɑvz/\n",
    "```"
   ]
  },
  {
   "cell_type": "markdown",
   "id": "7cb52e47-d493-4b30-a991-ba5c4458d047",
   "metadata": {
    "id": "7cb52e47-d493-4b30-a991-ba5c4458d047"
   },
   "source": [
    "- [ISO language codes](https://en.wikipedia.org/wiki/List_of_ISO_639-1_codes)\n",
    "- URL: `https://raw.githubusercontent.com/open-dict-data/ipa-dict/master/data/<iso-lang>`"
   ]
  },
  {
   "cell_type": "markdown",
   "id": "4152e020-fbc0-4ec5-8d51-ccd2e8a089fc",
   "metadata": {
    "id": "4152e020-fbc0-4ec5-8d51-ccd2e8a089fc"
   },
   "source": [
    "#### Explorando el corpus 🗺️"
   ]
  },
  {
   "cell_type": "code",
   "execution_count": null,
   "id": "25b595d7-7201-42bd-abb3-3acf9731d219",
   "metadata": {
    "id": "25b595d7-7201-42bd-abb3-3acf9731d219"
   },
   "outputs": [],
   "source": [
    "IPA_URL = \"https://raw.githubusercontent.com/open-dict-data/ipa-dict/master/data/{lang}.txt\""
   ]
  },
  {
   "cell_type": "code",
   "execution_count": null,
   "id": "3f45ba75-bbd3-4f13-8abf-b822fbf90dda",
   "metadata": {
    "colab": {
     "base_uri": "https://localhost:8080/"
    },
    "editable": true,
    "id": "3f45ba75-bbd3-4f13-8abf-b822fbf90dda",
    "outputId": "a60fa8cf-3907-4d33-ab25-c6fe3510675c",
    "scrolled": true,
    "slideshow": {
     "slide_type": ""
    },
    "tags": []
   },
   "outputs": [],
   "source": [
    "import requests as r\n"
   ]
  },
  {
   "cell_type": "markdown",
   "id": "c671dbe4-1f99-443a-afb9-3f92951bef35",
   "metadata": {
    "id": "c671dbe4-1f99-443a-afb9-3f92951bef35"
   },
   "source": [
    "#### Obtención y manipulación"
   ]
  },
  {
   "cell_type": "code",
   "execution_count": null,
   "id": "1fdc23af-9a0b-470d-a5f1-e5bddfa0b53e",
   "metadata": {
    "id": "1fdc23af-9a0b-470d-a5f1-e5bddfa0b53e"
   },
   "outputs": [],
   "source": [
    "import http\n",
    "\n",
    "def download_ipa_corpus(iso_lang: str) -> str:\n",
    "    \"\"\"Get ipa-dict file from Github\n",
    "\n",
    "    Parameters:\n",
    "    -----------\n",
    "    iso_lang:\n",
    "        Language as iso code\n",
    "\n",
    "    Results:\n",
    "    --------\n",
    "    dict:\n",
    "        Dictionary with words as keys and phonetic representation\n",
    "        as values for a given lang code\n",
    "    \"\"\"\n",
    "    print(f\"Downloading {iso_lang}\", end=\"::\")\n",
    "    response = r.get(IPA_URL.format(lang=iso_lang))\n",
    "    status_code = response.status_code\n",
    "    print(f\"status={status_code}\")\n",
    "    if status_code != http.HTTPStatus.OK:\n",
    "        print(f\"ERROR on {iso_lang} :(\")\n",
    "        return \"\"\n",
    "    return response.text"
   ]
  },
  {
   "cell_type": "code",
   "execution_count": null,
   "id": "4a2cab84-505b-4cdb-91a9-3e9c3410e1a0",
   "metadata": {
    "colab": {
     "base_uri": "https://localhost:8080/",
     "height": 52
    },
    "id": "4a2cab84-505b-4cdb-91a9-3e9c3410e1a0",
    "outputId": "38b3aab5-3312-47fe-faea-e0a32242dc82"
   },
   "outputs": [],
   "source": [
    "download_ipa_corpus(\"en_US\").rstrip()[:50]"
   ]
  },
  {
   "cell_type": "code",
   "execution_count": null,
   "id": "0a83a2a2-8e0e-4881-98f3-b9251a6be778",
   "metadata": {
    "id": "0a83a2a2-8e0e-4881-98f3-b9251a6be778"
   },
   "outputs": [],
   "source": [
    "def parse_response(response: str) -> dict:\n",
    "    \"\"\"Parse text response from ipa-dict to python dict\n",
    "\n",
    "    Each row have the format:\n",
    "    [WORD][TAB]/[IPA]/(, /[IPA]/)?\n",
    "\n",
    "    Parameters\n",
    "    ----------\n",
    "    response: str\n",
    "        ipa-dict raw text\n",
    "\n",
    "    Returns\n",
    "    -------\n",
    "    dict:\n",
    "        A dictionary with the word as key and the phonetic\n",
    "        representations as value\n",
    "    \"\"\"\n",
    "    ipa_list = response.rstrip().split(\"\\n\")\n",
    "    result = {}\n",
    "    for item in ipa_list:\n",
    "        if item == '':\n",
    "            continue\n",
    "        item_list = item.split(\"\\t\")\n",
    "        result[item_list[0]] = item_list[1]\n",
    "    return result"
   ]
  },
  {
   "cell_type": "code",
   "execution_count": null,
   "id": "90b71697-bdec-45a8-8015-b8effc8b9f46",
   "metadata": {
    "colab": {
     "base_uri": "https://localhost:8080/",
     "height": 52
    },
    "id": "90b71697-bdec-45a8-8015-b8effc8b9f46",
    "outputId": "1ae24670-6d50-4752-d8cf-d25f5b0eb46d"
   },
   "outputs": [],
   "source": [
    "parse_response(download_ipa_corpus(\"en_US\"))[\"ababa\"]"
   ]
  },
  {
   "cell_type": "code",
   "execution_count": null,
   "id": "dc377ece-bb15-488a-802b-e74a748e1da0",
   "metadata": {
    "colab": {
     "base_uri": "https://localhost:8080/"
    },
    "id": "dc377ece-bb15-488a-802b-e74a748e1da0",
    "outputId": "d517d62f-4388-4f4e-8717-3512f51e1e72"
   },
   "outputs": [],
   "source": [
    "es_mx_ipa = parse_response(download_ipa_corpus(\"es_MX\"))"
   ]
  },
  {
   "cell_type": "code",
   "execution_count": null,
   "id": "b834aaba-0716-41b5-935b-7f4a61e9da03",
   "metadata": {
    "id": "b834aaba-0716-41b5-935b-7f4a61e9da03"
   },
   "outputs": [],
   "source": [
    "def get_ipa_transcriptions(word: str, dataset: dict) -> list[str]:\n",
    "    \"\"\"Search for a word in an IPA phonetics dict\n",
    "\n",
    "    Given a word this function return the IPA transcriptions\n",
    "\n",
    "    Parameters:\n",
    "    -----------\n",
    "    word: str\n",
    "        A word to search in the dataset\n",
    "    dataset: dict\n",
    "        A dataset for a given language code\n",
    "\n",
    "    Returns\n",
    "    -------\n",
    "    list[str]:\n",
    "        List with posible transcriptions if any,\n",
    "        else an empty list\n",
    "    \"\"\"\n",
    "    return dataset.get(word.lower(), \"\").split(\", \")"
   ]
  },
  {
   "cell_type": "code",
   "execution_count": null,
   "id": "d89e45e2-5010-4701-84fd-e62b910233e7",
   "metadata": {
    "colab": {
     "base_uri": "https://localhost:8080/"
    },
    "id": "d89e45e2-5010-4701-84fd-e62b910233e7",
    "outputId": "0839146b-ed76-4c0a-c7cf-078ac7278791"
   },
   "outputs": [],
   "source": [
    "get_ipa_transcriptions(\"mayonesa\", es_mx_ipa)"
   ]
  },
  {
   "cell_type": "markdown",
   "id": "37f69f04-ad55-4ca2-8bb1-d52fa58c4051",
   "metadata": {
    "id": "37f69f04-ad55-4ca2-8bb1-d52fa58c4051"
   },
   "source": [
    "#### Obtengamos datasets"
   ]
  },
  {
   "cell_type": "code",
   "execution_count": null,
   "id": "0828cb63-19b9-4cac-8df2-7dc8282fc4c3",
   "metadata": {
    "colab": {
     "base_uri": "https://localhost:8080/"
    },
    "id": "0828cb63-19b9-4cac-8df2-7dc8282fc4c3",
    "outputId": "6d41a0c2-f6fd-4546-94a2-316ddcf01eeb"
   },
   "outputs": [],
   "source": [
    "# Get datasets\n",
    "dataset_es_mx = parse_response(download_ipa_corpus(\"es_MX\"))\n",
    "dataset_ja = parse_response(download_ipa_corpus(\"ja\"))\n",
    "dataset_en_us = parse_response(download_ipa_corpus(\"en_US\"))\n",
    "dataset_fr = parse_response(download_ipa_corpus(\"fr_FR\"))"
   ]
  },
  {
   "cell_type": "code",
   "execution_count": null,
   "id": "694ef1c1-871e-407e-9ce5-5e177804f72f",
   "metadata": {
    "colab": {
     "base_uri": "https://localhost:8080/"
    },
    "id": "694ef1c1-871e-407e-9ce5-5e177804f72f",
    "outputId": "f221b632-e77c-4649-e194-dbb49e2a644b"
   },
   "outputs": [],
   "source": [
    "# Simple query\n",
    "get_ipa_transcriptions(\"beautiful\", dataset_en_us)"
   ]
  },
  {
   "cell_type": "code",
   "execution_count": null,
   "id": "04a5fdbb-3acc-4e34-9685-61a591f2b598",
   "metadata": {
    "colab": {
     "base_uri": "https://localhost:8080/"
    },
    "id": "04a5fdbb-3acc-4e34-9685-61a591f2b598",
    "outputId": "13068823-f467-4526-d9d9-32b3f5bcf340"
   },
   "outputs": [],
   "source": [
    "# Examples\n",
    "print(f\"dog -> {get_ipa_transcriptions('dog', dataset_en_us)} 🐶\")\n",
    "print(f\"mariguana -> {get_ipa_transcriptions('mariguana', dataset_es_mx)} 🪴\")\n",
    "print(f\"猫 - > {get_ipa_transcriptions('猫', dataset_ja)} 🐈\")\n",
    "print(f\"croissant -> {get_ipa_transcriptions('croissant', dataset_fr)} 🥐\")"
   ]
  },
  {
   "cell_type": "code",
   "execution_count": null,
   "id": "9001ea35-855f-499b-a5b9-3c70a0ba7397",
   "metadata": {
    "colab": {
     "base_uri": "https://localhost:8080/"
    },
    "id": "9001ea35-855f-499b-a5b9-3c70a0ba7397",
    "outputId": "91960028-7806-4544-99ba-af5ea517c68e"
   },
   "outputs": [],
   "source": [
    "# Diferentes formas de pronunciar\n",
    "print(f\"[es_MX] hotel | {dataset_es_mx['hotel']}\")\n",
    "print(f\"[en_US] hotel | {dataset_en_us['hotel']}\")"
   ]
  },
  {
   "cell_type": "code",
   "execution_count": null,
   "id": "9fc9c19c-f6f4-4e35-9155-71aacaef1a05",
   "metadata": {
    "colab": {
     "base_uri": "https://localhost:8080/"
    },
    "id": "9fc9c19c-f6f4-4e35-9155-71aacaef1a05",
    "outputId": "16852ef9-832b-42ca-9390-717c42104153"
   },
   "outputs": [],
   "source": [
    "print(f\"[ja] ホテル | {dataset_ja['ホテル']}\")\n",
    "print(f\"[fr] hôtel | {dataset_fr['hôtel']}\")"
   ]
  },
  {
   "cell_type": "markdown",
   "id": "41ca5bf8-93b1-4b10-9596-02bce9caccb8",
   "metadata": {
    "id": "41ca5bf8-93b1-4b10-9596-02bce9caccb8"
   },
   "source": [
    "#### 🧙🏼‍♂️ Ejercicio: Obtener la distribución de frecuencias de los símbolos fonológicos para español"
   ]
  },
  {
   "cell_type": "code",
   "execution_count": null,
   "id": "d616b9ef-396a-479b-adfd-1e15eab3fe37",
   "metadata": {
    "id": "d616b9ef-396a-479b-adfd-1e15eab3fe37"
   },
   "outputs": [],
   "source": [
    "from collections import defaultdict\n",
    "import pandas as pd\n",
    "import matplotlib.pyplot as plt"
   ]
  },
  {
   "cell_type": "code",
   "execution_count": null,
   "id": "d3868dcd-eb1b-4e4a-9f52-ad7e2be72971",
   "metadata": {
    "editable": true,
    "id": "d3868dcd-eb1b-4e4a-9f52-ad7e2be72971",
    "slideshow": {
     "slide_type": ""
    },
    "tags": []
   },
   "outputs": [],
   "source": [
    "def get_phone_symbols_freq(dataset: dict) -> dict:\n",
    "    # tu codigo bonito acá :)\n",
    "    return freqs"
   ]
  },
  {
   "cell_type": "code",
   "execution_count": null,
   "id": "ijDBSOM5UB5i",
   "metadata": {
    "id": "ijDBSOM5UB5i"
   },
   "outputs": [],
   "source": [
    "freqs_es = get_phone_symbols_freq(dataset_es_mx)\n",
    "# Sorted by freq number (d[1]) descendent (reverse=True)\n",
    "distribution_es = dict(sorted(freqs_es.items(), key=lambda d: d[1], reverse=True))\n",
    "df_es = pd.DataFrame.from_dict(distribution_es, orient='index')"
   ]
  },
  {
   "cell_type": "code",
   "execution_count": null,
   "id": "YaooI8LQErwU",
   "metadata": {
    "colab": {
     "base_uri": "https://localhost:8080/",
     "height": 504
    },
    "id": "YaooI8LQErwU",
    "outputId": "e351c900-21bd-4139-b458-73588039ea78"
   },
   "outputs": [],
   "source": [
    "df_es.plot(kind='bar', title=\"Distribución de caracteres foneticos para Español (MX)\", xlabel=\"Caracter\", ylabel=\"Frecuencia\")"
   ]
  },
  {
   "cell_type": "markdown",
   "id": "aeb6c269-ad75-4e49-9090-247dc9a60231",
   "metadata": {
    "id": "aeb6c269-ad75-4e49-9090-247dc9a60231"
   },
   "source": [
    "#### Encontrar homófonos (palabras con el mismo sonido pero distina ortografía)\n",
    "\n",
    "- Ejemplos: Casa-Caza, Vaya-Valla"
   ]
  },
  {
   "cell_type": "code",
   "execution_count": null,
   "id": "-UXEnSv6700t",
   "metadata": {
    "colab": {
     "base_uri": "https://localhost:8080/"
    },
    "editable": true,
    "id": "-UXEnSv6700t",
    "outputId": "0e02caa7-93da-4e37-c304-f1b96073f44d",
    "slideshow": {
     "slide_type": ""
    },
    "tags": []
   },
   "outputs": [],
   "source": [
    "from collections import Counter\n",
    "\n"
   ]
  },
  {
   "cell_type": "markdown",
   "id": "a6e06a95-ceb6-49c0-bcbb-ff456976e510",
   "metadata": {
    "id": "a6e06a95-ceb6-49c0-bcbb-ff456976e510"
   },
   "source": [
    "#### Obteniendo todos los datos"
   ]
  },
  {
   "cell_type": "code",
   "execution_count": null,
   "id": "9d92e8bd-53c9-4f2a-b926-b2de8ac19357",
   "metadata": {
    "id": "9d92e8bd-53c9-4f2a-b926-b2de8ac19357"
   },
   "outputs": [],
   "source": [
    "lang_codes = {\n",
    "    \"ar\": \"Arabic (Modern Standard)\",\n",
    "    \"de\": \"German\",\n",
    "    \"en_UK\": \"English (Received Pronunciation)\",\n",
    "    \"en_US\": \"English (General American)\",\n",
    "    \"eo\": \"Esperanto\",\n",
    "    \"es_ES\": \"Spanish (Spain)\",\n",
    "    \"es_MX\": \"Spanish (Mexico)\",\n",
    "    \"fa\": \"Persian\",\n",
    "    \"fi\": \"Finnish\",\n",
    "    \"fr_FR\": \"French (France)\",\n",
    "    \"fr_QC\": \"French (Québec)\",\n",
    "    \"is\": \"Icelandic\",\n",
    "    \"ja\": \"Japanese\",\n",
    "    \"jam\": \"Jamaican Creole\",\n",
    "    \"km\": \"Khmer\",\n",
    "    \"ko\": \"Korean\",\n",
    "    \"ma\": \"Malay (Malaysian and Indonesian)\",\n",
    "    \"nb\": \"Norwegian Bokmål\",\n",
    "    \"nl\": \"Dutch\",\n",
    "    \"or\": \"Odia\",\n",
    "    \"ro\": \"Romanian\",\n",
    "    \"sv\": \"Swedish\",\n",
    "    \"sw\": \"Swahili\",\n",
    "    \"tts\": \"Isan\",\n",
    "    \"vi_C\": \"Vietnamese (Central)\",\n",
    "    \"vi_N\": \"Vietnamese (Northern)\",\n",
    "    \"vi_S\": \"Vietnamese (Southern)\",\n",
    "    \"yue\": \"Cantonese\",\n",
    "    \"zh_hans\": \"Mandarin (Simplified)\",\n",
    "    \"zh_hant\": \"Mandarin (Traditional)\"\n",
    "}\n",
    "iso_lang_codes = list(lang_codes.keys())"
   ]
  },
  {
   "cell_type": "code",
   "execution_count": null,
   "id": "aaf29cd0-be3c-4821-a608-71275da4852e",
   "metadata": {
    "id": "aaf29cd0-be3c-4821-a608-71275da4852e"
   },
   "outputs": [],
   "source": [
    "def get_corpora() -> dict:\n",
    "    \"\"\"Download corpora from ipa-dict github\n",
    "\n",
    "    Given a list of iso lang codes download available datasets.\n",
    "\n",
    "    Returns\n",
    "    -------\n",
    "    dict\n",
    "        Lang codes as keys and dictionary with words-transcriptions\n",
    "        as values\n",
    "    \"\"\"\n",
    "    return {\n",
    "        code: parse_response(download_ipa_corpus(code))\n",
    "         for code in iso_lang_codes\n",
    "        }"
   ]
  },
  {
   "cell_type": "code",
   "execution_count": null,
   "id": "f04bc065-584b-4373-bc7f-9e328793bbe4",
   "metadata": {
    "colab": {
     "base_uri": "https://localhost:8080/"
    },
    "id": "f04bc065-584b-4373-bc7f-9e328793bbe4",
    "outputId": "9195f012-6ba8-4c12-b0ed-1ed2f419a266",
    "scrolled": true
   },
   "outputs": [],
   "source": [
    "data = get_corpora()"
   ]
  },
  {
   "cell_type": "markdown",
   "id": "41cc36cd-7919-4372-ada2-d9f52432b56c",
   "metadata": {
    "id": "41cc36cd-7919-4372-ada2-d9f52432b56c"
   },
   "source": [
    "#### Sistema de búsqueda (naïve)"
   ]
  },
  {
   "cell_type": "code",
   "execution_count": null,
   "id": "26b1bcf5-f8ca-42ab-995a-e28d9fcc47d3",
   "metadata": {
    "id": "26b1bcf5-f8ca-42ab-995a-e28d9fcc47d3"
   },
   "outputs": [],
   "source": [
    "from rich import print as rprint\n",
    "from rich.columns import Columns\n",
    "from rich.panel import Panel\n",
    "from rich.text import Text"
   ]
  },
  {
   "cell_type": "code",
   "execution_count": null,
   "id": "24424a3c-70df-416f-8923-6bcd2a435007",
   "metadata": {
    "id": "24424a3c-70df-416f-8923-6bcd2a435007"
   },
   "outputs": [],
   "source": [
    "def get_formated_string(code: str, name: str):\n",
    "    return f\"[b]{name}[/b]\\n[yellow]{code}\""
   ]
  },
  {
   "cell_type": "code",
   "execution_count": null,
   "id": "bd09c65f-c559-4571-98a8-20c0d2c0308e",
   "metadata": {
    "colab": {
     "base_uri": "https://localhost:8080/",
     "height": 1000
    },
    "id": "bd09c65f-c559-4571-98a8-20c0d2c0308e",
    "outputId": "14a4e15e-43b2-4f83-8081-f5562967c8d1"
   },
   "outputs": [],
   "source": [
    "rprint(Panel(Text(\"Representación fonética de palabras\", style=\"bold\", justify=\"center\")))\n",
    "rendable_langs = [Panel(get_formated_string(code, lang), expand=True) for code, lang in lang_codes.items()]\n",
    "rprint(Columns(rendable_langs))\n",
    "\n",
    "lang = input(\"lang>> \")\n",
    "rprint(f\"Selected language: {lang_codes[lang]}\") if lang else rprint(\"Adios 👋🏼\")\n",
    "while lang:\n",
    "    sub_dataset = data[lang]\n",
    "    query = input(f\"  [{lang}]word>> \")\n",
    "    results = get_ipa_transcriptions(query, sub_dataset)\n",
    "    rprint(query, \" | \", \", \".join(results))\n",
    "    while query:\n",
    "        query = input(f\"  [{lang}]word>> \")\n",
    "        if query:\n",
    "            results = get_ipa_transcriptions(query, sub_dataset)\n",
    "            rprint(query, \" | \", \", \".join(results))\n",
    "    lang = input(\"lang>> \")\n",
    "    rprint(f\"Selected language: {lang_codes[lang]}\") if lang else rprint(\"Adios 👋🏼\")"
   ]
  },
  {
   "cell_type": "markdown",
   "id": "dc8b18ff-9d70-49a6-98c1-7feb7d0c268a",
   "metadata": {
    "id": "dc8b18ff-9d70-49a6-98c1-7feb7d0c268a"
   },
   "source": [
    "#### 👩‍🔬 Ejercicio: Obtener palabras con pronunciación similar"
   ]
  },
  {
   "cell_type": "code",
   "execution_count": null,
   "id": "a4116005-8fb4-454d-a2ab-e2f083eda000",
   "metadata": {
    "editable": true,
    "id": "a4116005-8fb4-454d-a2ab-e2f083eda000",
    "slideshow": {
     "slide_type": ""
    },
    "tags": []
   },
   "outputs": [],
   "source": [
    "from collections import defaultdict\n",
    "\n",
    "def get_rhyming_patterns(sentence: str, dataset: dict) -> dict[str, list]:\n",
    "    words = sentence.split()\n",
    "    # tu codigo bonito acá\n",
    "    return rhyming_patterns\n",
    "\n",
    "def display_rhyming_patterns(patterns: dict[str, list]) -> None:\n",
    "    for pattern, words in patterns.items():\n",
    "        if len(set(words)) > 1:\n",
    "            print(f\"{pattern}:: {', '.join(words)}\")"
   ]
  },
  {
   "cell_type": "markdown",
   "id": "f4daacb3-544b-4b3a-ab77-23b2fc4dd07e",
   "metadata": {
    "id": "f4daacb3-544b-4b3a-ab77-23b2fc4dd07e"
   },
   "source": [
    "#### Testing"
   ]
  },
  {
   "cell_type": "markdown",
   "id": "3HoQEf8i8qTo",
   "metadata": {
    "id": "3HoQEf8i8qTo"
   },
   "source": [
    "```\n",
    "ɣo:: juego, fuego\n",
    "on:: con, corazón\n",
    "ʎa:: brilla, orilla\n",
    "```"
   ]
  },
  {
   "cell_type": "code",
   "execution_count": null,
   "id": "057bb91d-5bef-47b4-ba82-42559f457c2b",
   "metadata": {
    "colab": {
     "base_uri": "https://localhost:8080/"
    },
    "id": "057bb91d-5bef-47b4-ba82-42559f457c2b",
    "outputId": "0435b8cf-4395-438b-a78f-0f872b9cb287"
   },
   "outputs": [],
   "source": [
    "#sentence = \"There once was a cat that ate a rat and after that sat on a yellow mat\"\n",
    "#sentence = \"the cat sat on the mat and looked at the rat.\"\n",
    "sentence = \"If you drop the ball it will fall on the doll\"\n",
    "#sentence = \"cuando juego con fuego siento como brilla la orilla de mi corazón\"\n",
    "\n",
    "dataset = data.get(\"en_US\")\n",
    "rhyming_words = get_rhyming_patterns(sentence, dataset)\n",
    "display_rhyming_patterns(rhyming_words)"
   ]
  },
  {
   "cell_type": "markdown",
   "id": "86f07e0f-bfe4-4a14-be9d-a7b0b7661260",
   "metadata": {
    "id": "86f07e0f-bfe4-4a14-be9d-a7b0b7661260"
   },
   "source": [
    "#### Material extra (fonética)"
   ]
  },
  {
   "cell_type": "code",
   "execution_count": null,
   "id": "64dc5e71-449b-4fdf-a3f4-d0f1776c5bbf",
   "metadata": {
    "colab": {
     "base_uri": "https://localhost:8080/"
    },
    "id": "64dc5e71-449b-4fdf-a3f4-d0f1776c5bbf",
    "outputId": "8b70a454-65b1-447d-aee3-73b1933b134b"
   },
   "outputs": [],
   "source": [
    "!apt-get install espeak -y"
   ]
  },
  {
   "cell_type": "code",
   "execution_count": null,
   "id": "c87a1b9d-848c-488f-b2e4-1782f07bc557",
   "metadata": {
    "id": "c87a1b9d-848c-488f-b2e4-1782f07bc557"
   },
   "outputs": [],
   "source": [
    "!espeak -v es \"Hola que hace\" -w mi-prueba.wav"
   ]
  },
  {
   "cell_type": "markdown",
   "id": "9fc31a40-1d6e-4c56-b07e-74a0c47a89c4",
   "metadata": {
    "id": "9fc31a40-1d6e-4c56-b07e-74a0c47a89c4"
   },
   "source": [
    "## Morfología"
   ]
  },
  {
   "cell_type": "markdown",
   "id": "GJ10fzsXvFSS",
   "metadata": {
    "id": "GJ10fzsXvFSS"
   },
   "source": [
    "<center><img src=\"https://upload.wikimedia.org/wikipedia/commons/thumb/2/29/Flexi%C3%B3nGato-svg.svg/800px-Flexi%C3%B3nGato-svg.svg.png\" height=300></center>\n",
    "\n",
    "> De <a href=\"//commons.wikimedia.org/wiki/User:KES47\" class=\"mw-redirect\" title=\"User:KES47\">KES47</a> - <a href=\"//commons.wikimedia.org/wiki/File:Flexi%C3%B3nGato.png\" title=\"File:FlexiónGato.png\">File:FlexiónGato.png</a> y <a href=\"//commons.wikimedia.org/wiki/File:Nuvola_apps_package_toys_svg.svg\" title=\"File:Nuvola apps package toys svg.svg\">File:Nuvola apps package toys svg.svg</a>, <a href=\"http://www.gnu.org/licenses/lgpl.html\" title=\"GNU Lesser General Public License\">LGPL</a>, <a href=\"https://commons.wikimedia.org/w/index.php?curid=27305101\">Enlace</a>"
   ]
  },
  {
   "cell_type": "markdown",
   "id": "9677e8f1-aa3e-4f9c-8c7c-1422ea9ca913",
   "metadata": {
    "id": "9677e8f1-aa3e-4f9c-8c7c-1422ea9ca913"
   },
   "source": [
    "El análisis morfológico es la determinación de las partes que componen la palabra y su representación lingüística, es una especie de etiquetado\n",
    "\n",
    "Los elementos morfológicos son analizados para:\n",
    "\n",
    "- Determinar la función morfológica de las palabras\n",
    "- Hacer filtrado y pre-procesamiento de text"
   ]
  },
  {
   "cell_type": "markdown",
   "id": "d962a952-6fa8-4410-82b6-8e7c6ba2f7e4",
   "metadata": {
    "id": "d962a952-6fa8-4410-82b6-8e7c6ba2f7e4"
   },
   "source": [
    "### Análisis morfológico basado en reglas"
   ]
  },
  {
   "cell_type": "markdown",
   "id": "cf70678d-f1d1-401e-aa23-da90a2ea7eaa",
   "metadata": {
    "id": "cf70678d-f1d1-401e-aa23-da90a2ea7eaa"
   },
   "source": [
    "Recordemos que podemos hacer un analizador morfológico haciendo uso de un transductor que vaya leyendo y haciendo transformaciones en una cadena. Formalmente:\n",
    "\n",
    "* $Q = \\{q_0, \\ldots, q_T\\}$ conjunto finito de estados.\n",
    "* $\\Sigma$ es un alfabeto de entrada.\n",
    "* $q_0 \\in Q$ es el estado inicial.\n",
    "* $F \\subseteq Q$ es el conjunto de estados finales.\n",
    "\n",
    "Un transductor es una 6-tupla $T = (Q, \\Sigma, \\Delta, q_0, F, \\sigma)$ tal que\n",
    "\n",
    "* $\\Delta$ es un alfabeto de salida teminal\n",
    "* $\\Sigma$ es un alfabeto de entrada no terminal\n",
    "* $\\sigma: Q \\times \\Sigma \\times \\Delta \\longrightarrow Q$ función de transducción"
   ]
  },
  {
   "cell_type": "markdown",
   "id": "cdf136a8-6a9d-4434-b533-191553db242b",
   "metadata": {
    "id": "cdf136a8-6a9d-4434-b533-191553db242b"
   },
   "source": [
    "#### EJEMPLO: Parsing con expresiones regulares"
   ]
  },
  {
   "cell_type": "markdown",
   "id": "605d64c5-e102-4972-b5f6-92e0c08b495b",
   "metadata": {
    "id": "605d64c5-e102-4972-b5f6-92e0c08b495b"
   },
   "source": [
    "Con fines de prácticidad vamos a _imitar_ el comportamiento de un transductor utilizando el modulo de python `re`"
   ]
  },
  {
   "cell_type": "markdown",
   "id": "cb409f23-1456-40bd-8fdd-997a862ad190",
   "metadata": {
    "id": "cb409f23-1456-40bd-8fdd-997a862ad190"
   },
   "source": [
    "La estructura del sustantivo en español es:\n",
    "\n",
    "` BASE+AFIJOS (marcas flexivas)   --> Base+DIM+GEN+NUM`"
   ]
  },
  {
   "cell_type": "code",
   "execution_count": null,
   "id": "1e2959df-96a4-40f5-a932-108abad269be",
   "metadata": {
    "id": "1e2959df-96a4-40f5-a932-108abad269be"
   },
   "outputs": [],
   "source": [
    "palabras = [\n",
    "    'niño',\n",
    "    'niños',\n",
    "    'niñas',\n",
    "    'niñitos',\n",
    "    'gato',\n",
    "    'gatos',\n",
    "    'gatitos',\n",
    "    'perritos',\n",
    "    'paloma',\n",
    "    'palomita',\n",
    "    'palomas',\n",
    "    'flores',\n",
    "    'flor',\n",
    "    'florecita',\n",
    "    'lápiz',\n",
    "    'lápices',\n",
    "    # 'chiquitititititos',\n",
    "    #'curriculum', # curricula\n",
    "    #'campus', # campi\n",
    "]"
   ]
  },
  {
   "cell_type": "code",
   "execution_count": null,
   "id": "66599e2e-d67b-49e2-9f80-0a20e756ca19",
   "metadata": {
    "id": "66599e2e-d67b-49e2-9f80-0a20e756ca19"
   },
   "outputs": [],
   "source": [
    "import re\n",
    "\n",
    "def morph_parser_rules(words: list[str]) -> list[str]:\n",
    "    \"\"\"Aplica reglas morfológicas a una lista de palabras para realizar\n",
    "    un análisis morfológico.\n",
    "\n",
    "    Parameters:\n",
    "    ----------\n",
    "    words : list of str\n",
    "        Lista de palabras a las que se les aplicarán las reglas morfológicas.\n",
    "\n",
    "    Returns:\n",
    "    -------\n",
    "    list of str\n",
    "        Una lista de palabras después de aplicar las reglas morfológicas.\n",
    "    \"\"\"\n",
    "\n",
    "    # Lista para guardar las palabras parseadas\n",
    "    morph_parsing = []\n",
    "\n",
    "    # Reglas que capturan ciertos morfemas\n",
    "    # {ecita, itos, as, os}\n",
    "    for w in words:\n",
    "        # ecit -> DIM\n",
    "        R0 = re.sub(r'([^ ]+)ecit([a|o|as|os])', r'\\1-DIM\\2', w)\n",
    "        # it -> DIM\n",
    "        R1 = re.sub(r'([^ ]+)it([a|o|as|os])', r'\\1-DIM\\2', R0)\n",
    "        # a(s) -> FEM\n",
    "        R2 = re.sub(r'([^ ]+)a(s)', r'\\1-FEM\\2', R1)\n",
    "        # a -> FEM\n",
    "        R3 = re.sub(r'([^ ]+)a\\b', r'\\1-FEM', R2)\n",
    "        # o(s) -> MSC\n",
    "        R4 = re.sub(r'([^ ]+)o(s)', r'\\1-MSC\\2', R3)\n",
    "        # o .> MSC\n",
    "        R5 = re.sub(r'([^ ]+)o\\b', r'\\1-MSC', R4)\n",
    "        # es -> PL\n",
    "        R6 = re.sub(r'([^ ]+)es\\b', r'\\1-PL', R5)\n",
    "        # s -> PL\n",
    "        R7 = re.sub(r'([^ ]+)s\\b', r'\\1-PL', R6)\n",
    "        # Sustituye la c por z cuando es necesario\n",
    "        parse = re.sub(r'c-', r'z-', R7)\n",
    "\n",
    "        # Guarda los parseos\n",
    "        morph_parsing.append(parse)\n",
    "    return morph_parsing"
   ]
  },
  {
   "cell_type": "code",
   "execution_count": null,
   "id": "85c9648c-0c09-4d19-b52b-f020943caf5a",
   "metadata": {
    "colab": {
     "base_uri": "https://localhost:8080/"
    },
    "id": "85c9648c-0c09-4d19-b52b-f020943caf5a",
    "outputId": "6804fc5f-edb7-423c-9bf3-96ec7fccc605"
   },
   "outputs": [],
   "source": [
    "morph_parsing = morph_parser_rules(palabras)\n",
    "for palabra, parseo in zip(palabras, morph_parsing):\n",
    "    print(palabra, \"-->\", parseo)"
   ]
  },
  {
   "cell_type": "markdown",
   "id": "3a104dae-e815-4271-9ff2-96802d50df9e",
   "metadata": {
    "id": "3a104dae-e815-4271-9ff2-96802d50df9e"
   },
   "source": [
    "#### Preguntas 🤔\n",
    "- ¿Qué pasa con las reglas en lenguas donde son más comunes los prefijos y no los sufijos?\n",
    "- ¿Cómo podríamos identificar características de las lenguas?"
   ]
  },
  {
   "cell_type": "markdown",
   "id": "8b3d6dac-6b02-45db-b352-a549a25fdabe",
   "metadata": {
    "id": "8b3d6dac-6b02-45db-b352-a549a25fdabe"
   },
   "source": [
    "#### Herramientas para hacer sistemas de análisis morfológico basados en reglas"
   ]
  },
  {
   "cell_type": "markdown",
   "id": "2ff2d85d-64c1-4272-9d6d-cf3599094588",
   "metadata": {
    "id": "2ff2d85d-64c1-4272-9d6d-cf3599094588"
   },
   "source": [
    "- [Apertium](https://en.wikipedia.org/wiki/Apertium)\n",
    "- [Foma](https://github.com/mhulden/foma/tree/master)\n",
    "- [Helsinki Finite-State Technology](https://hfst.github.io/)\n",
    "- Ejemplo [proyecto](https://github.com/apertium/apertium-yua) de analizador morfológico de Maya Yucateco\n",
    "- Ejemplo normalizador ortográfico del [Náhuatl](https://github.com/ElotlMX/py-elotl/tree/master)\n",
    "\n",
    "\n",
    "También se pueden utilizar diferentes métodos de aprendizaje de máquina para realizar análisis/generación morfológica. En los últimos años ha habido un shared task de [morphological reinflection](https://github.com/sigmorphon/2023InflectionST) para poner a competir diferentes métodos"
   ]
  },
  {
   "cell_type": "markdown",
   "id": "d5b878ce-f60a-4069-b618-fcb0d4e77256",
   "metadata": {
    "id": "d5b878ce-f60a-4069-b618-fcb0d4e77256"
   },
   "source": [
    "### Segmentación morfológica"
   ]
  },
  {
   "cell_type": "markdown",
   "id": "bcdc6126-3d69-4f90-9cfe-9dd6845525d5",
   "metadata": {
    "id": "bcdc6126-3d69-4f90-9cfe-9dd6845525d5"
   },
   "source": [
    "#### Corpus: [SIGMORPHON 2022 Shared Task on Morpheme Segmentation](https://github.com/sigmorphon/2022SegmentationST/tree/main)"
   ]
  },
  {
   "cell_type": "markdown",
   "id": "78102f5e-2bcc-41cd-981f-514d786cb9be",
   "metadata": {
    "id": "78102f5e-2bcc-41cd-981f-514d786cb9be"
   },
   "source": [
    "- Shared task donde se buscaba convertir las palabras en una secuencia de morfemas\n",
    "- Dividido en dos partes:\n",
    "    - Segmentación a nivel de palabras (nos enfocaremos en esta)\n",
    "    - Segmentación a nivel oraciones"
   ]
  },
  {
   "cell_type": "markdown",
   "id": "c6b0c352-e6ac-49db-9b3a-74da7db6ddad",
   "metadata": {
    "id": "c6b0c352-e6ac-49db-9b3a-74da7db6ddad"
   },
   "source": [
    "#### Track: words\n",
    "\n",
    "| word class | Description                      | English example (input ==> output)     |\n",
    "|------------|----------------------------------|----------------------------------------|\n",
    "| 100        | Inflection only                  | played ==> play @@ed                   |\n",
    "| 010        | Derivation only                  | player ==> play @@er                   |\n",
    "| 101        | Inflection and Compound          | wheelbands ==> wheel @@band @@s        |\n",
    "| 000        | Root words                       | progress ==> progress                  |\n",
    "| 011        | Derivation and Compound          | tankbuster ==> tank @@bust @@er        |\n",
    "| 110        | Inflection and Derivation        | urbanizes ==> urban @@ize @@s          |\n",
    "| 001        | Compound only                    | hotpot ==> hot @@pot                   |\n",
    "| 111        | Inflection, Derivation, Compound | trackworkers ==> track @@work @@er @@s"
   ]
  },
  {
   "cell_type": "markdown",
   "id": "84e2235d-f919-4c5d-832e-93551ba9ac4b",
   "metadata": {
    "id": "84e2235d-f919-4c5d-832e-93551ba9ac4b"
   },
   "source": [
    "#### Explorando el corpus"
   ]
  },
  {
   "cell_type": "code",
   "execution_count": null,
   "id": "1a59cbf7-de9d-4618-8229-5cd369fa1c07",
   "metadata": {
    "colab": {
     "base_uri": "https://localhost:8080/",
     "height": 35
    },
    "id": "1a59cbf7-de9d-4618-8229-5cd369fa1c07",
    "outputId": "740f54b5-52b8-4665-863a-0969ec99fd86"
   },
   "outputs": [],
   "source": [
    "response = r.get(\"https://raw.githubusercontent.com/sigmorphon/2022SegmentationST/main/data/spa.word.test.gold.tsv\")\n",
    "response.text[:100]"
   ]
  },
  {
   "cell_type": "code",
   "execution_count": null,
   "id": "17faa0d5-2d5f-4035-bf65-c0e5b256aa0f",
   "metadata": {
    "colab": {
     "base_uri": "https://localhost:8080/",
     "height": 35
    },
    "id": "17faa0d5-2d5f-4035-bf65-c0e5b256aa0f",
    "outputId": "29c6287e-391d-4346-f843-874766bb1a9c"
   },
   "outputs": [],
   "source": [
    "raw_data = response.text.split(\"\\n\")\n",
    "raw_data[-2]"
   ]
  },
  {
   "cell_type": "code",
   "execution_count": null,
   "id": "a1814873-5c65-4f34-9c59-01ccdf130089",
   "metadata": {
    "colab": {
     "base_uri": "https://localhost:8080/"
    },
    "id": "a1814873-5c65-4f34-9c59-01ccdf130089",
    "outputId": "80ca7d49-9053-4b41-a383-e1fc40749cb5"
   },
   "outputs": [],
   "source": [
    "element = raw_data[2].split(\"\\t\")\n",
    "element"
   ]
  },
  {
   "cell_type": "code",
   "execution_count": null,
   "id": "99c1dfb3-a1ad-4a78-b26b-8a560894f058",
   "metadata": {
    "colab": {
     "base_uri": "https://localhost:8080/"
    },
    "id": "99c1dfb3-a1ad-4a78-b26b-8a560894f058",
    "outputId": "da0bb22f-5ea6-4e65-e8fe-a8acfd829fc2"
   },
   "outputs": [],
   "source": [
    "element[1].split()"
   ]
  },
  {
   "cell_type": "code",
   "execution_count": null,
   "id": "bb87e719-41c2-4e22-b9bf-5303902be165",
   "metadata": {
    "id": "bb87e719-41c2-4e22-b9bf-5303902be165"
   },
   "outputs": [],
   "source": [
    "LANGS = {\n",
    "    \"ces\": \"Czech\",\n",
    "    \"eng\": \"English\",\n",
    "    \"fra\": \"French\",\n",
    "    \"hun\": \"Hungarian\",\n",
    "    \"spa\": \"Spanish\",\n",
    "    \"ita\": \"Italian\",\n",
    "    \"lat\": \"Latin\",\n",
    "    \"rus\": \"Russian\",\n",
    "}\n",
    "CATEGORIES = {\n",
    "    \"100\": \"Inflection\",\n",
    "    \"010\": \"Derivation\",\n",
    "    \"101\": \"Inflection, Compound\",\n",
    "    \"000\": \"Root\",\n",
    "    \"011\": \"Derivation, Compound\",\n",
    "    \"110\": \"Inflection, Derivation\",\n",
    "    \"001\": \"Compound\",\n",
    "    \"111\": \"Inflection, Derivation, Compound\"\n",
    "}"
   ]
  },
  {
   "cell_type": "code",
   "execution_count": null,
   "id": "721ea2fa-24d8-4035-b0a5-87c86f821c6d",
   "metadata": {
    "id": "721ea2fa-24d8-4035-b0a5-87c86f821c6d"
   },
   "outputs": [],
   "source": [
    "def get_track_files(lang: str, track: str = \"word\") -> list[str]:\n",
    "    \"\"\"Genera una lista de nombres de archivo del shared task\n",
    "\n",
    "    Con base en el idioma y el track obtiene el nombre de los archivos\n",
    "    para con información reelevante para hacer análisis estadístico.\n",
    "    Esto es archivos .test y .dev\n",
    "\n",
    "    Parameters:\n",
    "    ----------\n",
    "    lang : str\n",
    "        Idioma para el cual se generarán los nombres de archivo.\n",
    "    track : str, optional\n",
    "        Track del shared task de donde vienen los datos (por defecto es \"word\").\n",
    "\n",
    "    Returns:\n",
    "    -------\n",
    "    list[str]\n",
    "        Una lista de nombres de archivo generados para el idioma y la pista especificados.\n",
    "    \"\"\"\n",
    "    return [\n",
    "        f\"{lang}.{track}.test.gold\",\n",
    "        f\"{lang}.{track}.dev\",\n",
    "    ]"
   ]
  },
  {
   "cell_type": "code",
   "execution_count": null,
   "id": "f583e168-1f5d-4426-9789-5fac8b2b221c",
   "metadata": {
    "id": "f583e168-1f5d-4426-9789-5fac8b2b221c"
   },
   "outputs": [],
   "source": [
    "def get_raw_corpus(files: list) -> list:\n",
    "    \"\"\"Descarga y concatena los datos de los archivos tsv desde una URL base.\n",
    "\n",
    "    Parameters:\n",
    "    ----------\n",
    "    files : list\n",
    "        Lista de nombres de archivos (sin extensión) que se descargarán\n",
    "        y concatenarán.\n",
    "\n",
    "    Returns:\n",
    "    -------\n",
    "    list\n",
    "        Una lista que contiene los contenidos descargados y concatenados\n",
    "        de los archivos tsv.\n",
    "    \"\"\"\n",
    "    result = []\n",
    "    for file in files:\n",
    "        print(f\"Downloading {file}.tsv\", end=\" \")\n",
    "        response = r.get(f\"https://raw.githubusercontent.com/sigmorphon/2022SegmentationST/main/data/{file}.tsv\")\n",
    "        print(f\"status={response.status_code}\")\n",
    "        lines = response.text.split(\"\\n\")\n",
    "        result.extend(lines[:-1])\n",
    "    return result"
   ]
  },
  {
   "cell_type": "code",
   "execution_count": null,
   "id": "54de3b3d-be08-437d-b4ee-ff55d4fee2a9",
   "metadata": {
    "id": "54de3b3d-be08-437d-b4ee-ff55d4fee2a9"
   },
   "outputs": [],
   "source": [
    "import pandas as pd\n",
    "\n",
    "def raw_corpus_to_dataframe(corpus_list: list, lang: str) -> pd.DataFrame:\n",
    "    \"\"\"Convierte una lista de datos de corpus en un DataFrame\n",
    "\n",
    "    Parameters:\n",
    "    ----------\n",
    "    corpus_list : list\n",
    "        Lista de líneas del corpus a convertir en DataFrame.\n",
    "    lang : str\n",
    "        Idioma al que pertenecen los datos del corpus.\n",
    "\n",
    "    Returns:\n",
    "    -------\n",
    "    pd.DataFrame\n",
    "        Un DataFrame de pandas que contiene los datos del corpus procesados.\n",
    "    \"\"\"\n",
    "    data_list = []\n",
    "    for line in corpus_list:\n",
    "        try:\n",
    "            word, tagged_data, category = line.split(\"\\t\")\n",
    "        except ValueError:\n",
    "            # Caso donde no existe la categoria\n",
    "            word, tagged_data = line.split(\"\\t\")\n",
    "            category = \"NOT_FOUND\"\n",
    "        morphemes = tagged_data.split()\n",
    "        data_list.append({\"words\": word, \"morph\": morphemes, \"category\": category, \"lang\": lang})\n",
    "    df = pd.DataFrame(data_list)\n",
    "    df[\"word_len\"] = df[\"words\"].apply(lambda x: len(x))\n",
    "    df[\"morph_count\"] = df[\"morph\"].apply(lambda x: len(x))\n",
    "    return df"
   ]
  },
  {
   "cell_type": "code",
   "execution_count": null,
   "id": "fe645a77-f8ca-4bf1-b11e-2274b78ba6d1",
   "metadata": {
    "colab": {
     "base_uri": "https://localhost:8080/"
    },
    "id": "fe645a77-f8ca-4bf1-b11e-2274b78ba6d1",
    "outputId": "d7e50464-31a2-4979-ca32-1ecdb7c07e5c"
   },
   "outputs": [],
   "source": [
    "files = get_track_files(\"spa\")\n",
    "raw_spa = get_raw_corpus(files)\n",
    "df = raw_corpus_to_dataframe(raw_spa, lang=\"spa\")"
   ]
  },
  {
   "cell_type": "code",
   "execution_count": null,
   "id": "774a3b39-3a37-43d5-afb4-5d98154afe9e",
   "metadata": {
    "colab": {
     "base_uri": "https://localhost:8080/",
     "height": 206
    },
    "id": "774a3b39-3a37-43d5-afb4-5d98154afe9e",
    "outputId": "c99841e0-ea76-4343-9cca-0390ee68910c"
   },
   "outputs": [],
   "source": [
    "df.head()"
   ]
  },
  {
   "cell_type": "markdown",
   "id": "0ffef737-bd71-43ed-be6d-a357819ab7c8",
   "metadata": {
    "id": "0ffef737-bd71-43ed-be6d-a357819ab7c8"
   },
   "source": [
    "#### Análisis cuantitativo para el Español"
   ]
  },
  {
   "cell_type": "code",
   "execution_count": null,
   "id": "e02c54b1-8b19-4a37-8a64-37749beb0418",
   "metadata": {
    "colab": {
     "base_uri": "https://localhost:8080/",
     "height": 384
    },
    "id": "e02c54b1-8b19-4a37-8a64-37749beb0418",
    "outputId": "979c36e3-eace-4040-f56a-c749ad5e0fb3"
   },
   "outputs": [],
   "source": [
    "print(\"Total unique words:\", len(df[\"words\"].unique()))\n",
    "df[\"category\"].value_counts().head(30)"
   ]
  },
  {
   "cell_type": "code",
   "execution_count": null,
   "id": "39965a92-4719-4043-919b-3b99dca0b8f9",
   "metadata": {
    "colab": {
     "base_uri": "https://localhost:8080/"
    },
    "id": "39965a92-4719-4043-919b-3b99dca0b8f9",
    "outputId": "bac4b6a4-efa9-40ce-ac86-51939ec0d6bd"
   },
   "outputs": [],
   "source": [
    "df[\"word_len\"].mean()"
   ]
  },
  {
   "cell_type": "code",
   "execution_count": null,
   "id": "baf02d64-9bc1-4135-9f05-e523728ba269",
   "metadata": {
    "colab": {
     "base_uri": "https://localhost:8080/",
     "height": 472
    },
    "id": "baf02d64-9bc1-4135-9f05-e523728ba269",
    "outputId": "d9774960-1726-44e7-cb31-d7061716f52f"
   },
   "outputs": [],
   "source": [
    "from matplotlib import pyplot as plt\n",
    "\n",
    "plt.hist(df['word_len'], bins=10, edgecolor='black')\n",
    "plt.xlabel('Word Length')\n",
    "plt.ylabel('Frequency')\n",
    "plt.title('Word Length Distribution')\n",
    "plt.show()"
   ]
  },
  {
   "cell_type": "code",
   "execution_count": null,
   "id": "c902ecf4-889a-4082-b4b8-0cb89ba9b16c",
   "metadata": {
    "id": "c902ecf4-889a-4082-b4b8-0cb89ba9b16c"
   },
   "outputs": [],
   "source": [
    "def plot_histogram(df, kind, lang):\n",
    "    \"\"\"Genera un histograma de frecuencia para una columna específica\n",
    "    en un DataFrame.\n",
    "\n",
    "    Parameters:\n",
    "    ----------\n",
    "    df : pd.DataFrame\n",
    "        DataFrame que contiene los datos para generar el histograma.\n",
    "    kind : str\n",
    "        Nombre de la columna para la cual se generará el histograma.\n",
    "    lang : str\n",
    "        Idioma asociado a los datos.\n",
    "\n",
    "    Returns:\n",
    "    -------\n",
    "    None\n",
    "        Esta función muestra el histograma usando matplotlib.\n",
    "    \"\"\"\n",
    "    counts = df[kind].value_counts().head(30)\n",
    "    plt.bar(counts.index, counts.values)\n",
    "    plt.xlabel(kind)\n",
    "    plt.ylabel('Frequency')\n",
    "    plt.title(f'{kind} Frequency Graph for {lang}')\n",
    "    plt.xticks(rotation=90)\n",
    "    plt.tight_layout()\n",
    "    plt.show()"
   ]
  },
  {
   "cell_type": "code",
   "execution_count": null,
   "id": "1f36d2ce-cca3-49f0-b989-69dae98f9646",
   "metadata": {
    "colab": {
     "base_uri": "https://localhost:8080/",
     "height": 487
    },
    "id": "1f36d2ce-cca3-49f0-b989-69dae98f9646",
    "outputId": "b3648c42-99eb-452c-fb85-d73218829014"
   },
   "outputs": [],
   "source": [
    "plot_histogram(df, \"category\", \"spa\")"
   ]
  },
  {
   "cell_type": "markdown",
   "id": "408683e9-5d9b-44a6-bcb5-d2ad29bf7903",
   "metadata": {
    "id": "408683e9-5d9b-44a6-bcb5-d2ad29bf7903"
   },
   "source": [
    "#### Morfosintaxis"
   ]
  },
  {
   "cell_type": "markdown",
   "id": "10233e8c-b359-4ad7-ab6f-8d6d0c600a39",
   "metadata": {
    "id": "10233e8c-b359-4ad7-ab6f-8d6d0c600a39"
   },
   "source": [
    "- Etiquetas que hacen explícita la funcion gramatical de las palabras en una oración\n",
    "- Determina la función de la palabra dentro la oración (por ello se le llama Partes del Discurso)\n",
    "- Se le conoce tambien como **Análisis morfosintáctico**: es el puente entre la estructura de las palabras y la sintaxis\n",
    "- Permiten el desarrollo de herramientas de NLP más avanzadas\n",
    "- El etiquetado es una tarea que se puede abordar con técnicas secuenciales, por ejemplo, HMMs, CRFs, Redes neuronales"
   ]
  },
  {
   "cell_type": "markdown",
   "id": "8db57418-b7bc-4dc1-972d-aef484e9ea48",
   "metadata": {
    "id": "8db57418-b7bc-4dc1-972d-aef484e9ea48"
   },
   "source": [
    "<center><img src=\"https://byteiota.com/wp-content/uploads/2021/01/POS-Tagging.jpg\" height=500 width=500></center"
   ]
  },
  {
   "cell_type": "markdown",
   "id": "628dd2cd-c0b4-4b12-aa08-b74e5a81579c",
   "metadata": {
    "id": "628dd2cd-c0b4-4b12-aa08-b74e5a81579c"
   },
   "source": [
    "#### Ejemplo\n",
    "\n",
    "> El gato negro rie malvadamente\n",
    "\n",
    "- El - DET\n",
    "- gato - NOUN\n",
    "- negro - ADJ\n",
    "- ríe - VER\n",
    "\n",
    "<center><img src=\"https://i.pinimg.com/originals/0e/f1/30/0ef130b255ea704625b2ad473701dee5.gif\"></center"
   ]
  },
  {
   "cell_type": "markdown",
   "id": "522e2222-af00-4315-82ce-11534116f0b8",
   "metadata": {
    "id": "522e2222-af00-4315-82ce-11534116f0b8"
   },
   "source": [
    "### Etiquetado POS usando Conditional Random Fields (CRFs)"
   ]
  },
  {
   "cell_type": "markdown",
   "id": "2276eafd-a3e4-48a8-b97a-359503a7d66f",
   "metadata": {
    "id": "2276eafd-a3e4-48a8-b97a-359503a7d66f"
   },
   "source": [
    "- Modelo de gráficas **no dirigido**. Generaliza los *HMM*\n",
    "    - Adiós a la *Markov assuption*\n",
    "    - Podemos tener cualquier dependencia que queramos entre nodos\n",
    "    - Nos enfocaremos en un tipo en concreto: *LinearChain-CRFs* ¡¿Por?!\n",
    "\n",
    "<center><img width=300 src=\"https://i.kym-cdn.com/entries/icons/original/000/032/676/Unlimited_Power_Banner.jpg\"></center>\n"
   ]
  },
  {
   "cell_type": "markdown",
   "id": "c5a1bff5-1f06-416b-9244-c4eab4dd989a",
   "metadata": {
    "id": "c5a1bff5-1f06-416b-9244-c4eab4dd989a"
   },
   "source": [
    "- Modela la probabilidad **condicional** $P(Y|X)$\n",
    "    - Modelo discriminativo\n",
    "    - Probabilidad de un estado oculto dada **toda** la secuecia de entrada\n",
    "![homer](https://media.tenor.com/ul0qAKNUm2kAAAAd/hiding-meme.gif)"
   ]
  },
  {
   "cell_type": "markdown",
   "id": "74beab61-39ec-43bf-8ca8-44cbb9d62149",
   "metadata": {
    "id": "74beab61-39ec-43bf-8ca8-44cbb9d62149"
   },
   "source": [
    "- Captura mayor **número de dependencias** entre las palabras y captura más características\n",
    "    - Estas se definen en las *feature functions* 🙀\n",
    "- El entrenamiento se realiza aplicando gradiente decendente y optimización con algoritmos como [L-BFGS](https://en.wikipedia.org/wiki/Limited-memory_BFGS)\n",
    "\n",
    "\n",
    "<center><img src=\"https://iameo.github.io/images/gradient-descent-400.gif\"></center>\n"
   ]
  },
  {
   "cell_type": "markdown",
   "id": "4653baf1-edc2-4813-be95-643a1b0f60f7",
   "metadata": {
    "id": "4653baf1-edc2-4813-be95-643a1b0f60f7"
   },
   "source": [
    "$P(\\overrightarrow{y}|\\overrightarrow{x}) = \\frac{1}{Z} \\displaystyle\\prod_{i=1}^N exp\\{w^T ⋅ \\phi(y_{i-1}, y_i, \\overrightarrow{x}, i)\\}$\n",
    "\n",
    "Donde:\n",
    "- $\\overrightarrow{y}$ = Etiquetas POS\n",
    "- $\\overrightarrow{x}$ = Palabras en una oración\n",
    "- $w^T$ = Vector de pesos a aprender\n",
    "- $\\phi$ = Vector de *Features*\n",
    "    - Calculado con base en un conjunto de *feature functions*\n",
    "- $i$ = la posición actual en la oración\n",
    "- $Z$ = factor de normalización"
   ]
  },
  {
   "cell_type": "markdown",
   "id": "5c13a366-4bc3-425c-8db4-bb2986dc2e8f",
   "metadata": {
    "id": "5c13a366-4bc3-425c-8db4-bb2986dc2e8f"
   },
   "source": [
    "![](https://aman.ai/primers/ai/assets/conditional-random-fields/Conditional_Random_Fields.png)\n",
    "\n",
    "Tomado de http://www.davidsbatista.net/blog/2017/11/13/Conditional_Random_Fields/"
   ]
  },
  {
   "cell_type": "markdown",
   "id": "5ad8c1dc-4c5b-41f8-95c2-40be89f8f07f",
   "metadata": {
    "id": "5ad8c1dc-4c5b-41f8-95c2-40be89f8f07f"
   },
   "source": [
    "#### Feature functions\n",
    "\n",
    "$\\phi(y_{i-1}, y_i, \\overrightarrow{x}, i)$\n",
    "\n",
    "- Parte fundamental de los CRFs\n",
    "- Cuatro argumentos:\n",
    "    - Todos los datos observables $\\overrightarrow{x}$ (conectar $x$ con cualquier $y$)\n",
    "    - El estado oculto anterior $y_{i-1}$\n",
    "    - El estado oculto actual $y_i$\n",
    "    - El index del timestamp $i$\n",
    "        - Cada feature list puede tener diferentes formas"
   ]
  },
  {
   "cell_type": "markdown",
   "id": "c1cfd87f-d4d2-4501-bd47-5a7dc843db2b",
   "metadata": {
    "id": "c1cfd87f-d4d2-4501-bd47-5a7dc843db2b"
   },
   "source": [
    "- Aqui es donde esta la flexibilidad del modelo\n",
    "- Tantas features como querramos, las que consideremos que pueden ayudar a que el modelo tenga un mejor desempeño\n",
    "    - Intimamente ligadas a la lengua. Para mejor desempeño se debe hacer un análisis de sus características.\n",
    "- Ejemplo:\n",
    "\n",
    "```python\n",
    "[\n",
    "    \"word.lower()\",\n",
    "    \"EOS\",\n",
    "    \"BOS\",\n",
    "    \"postag\",\n",
    "    \"pre-word\",\n",
    "    \"nxt-word\",\n",
    "    \"word-position\",\n",
    "    ...\n",
    "]\n",
    "```"
   ]
  },
  {
   "cell_type": "markdown",
   "id": "1c50c45f-9e37-42e0-9cfe-1a78429660ed",
   "metadata": {
    "id": "1c50c45f-9e37-42e0-9cfe-1a78429660ed"
   },
   "source": [
    "### Implementación de CRFs"
   ]
  },
  {
   "cell_type": "code",
   "execution_count": null,
   "id": "ca05605b-7776-4fc8-9e6a-7541a28d659f",
   "metadata": {
    "colab": {
     "base_uri": "https://localhost:8080/"
    },
    "id": "ca05605b-7776-4fc8-9e6a-7541a28d659f",
    "outputId": "bf87417f-828e-499d-98e6-50f438c9dc9a"
   },
   "outputs": [],
   "source": [
    "!pip install nltk\n",
    "!pip install scikit-learn\n",
    "!pip install -U sklearn-crfsuite"
   ]
  },
  {
   "cell_type": "markdown",
   "id": "b2e0fb29-beee-4a0a-8010-0f62db206981",
   "metadata": {
    "id": "b2e0fb29-beee-4a0a-8010-0f62db206981"
   },
   "source": [
    "#### Obteniendo otro corpus más"
   ]
  },
  {
   "cell_type": "code",
   "execution_count": null,
   "id": "5651f7bc-21de-4379-93b8-07499f6df74a",
   "metadata": {
    "colab": {
     "base_uri": "https://localhost:8080/"
    },
    "id": "5651f7bc-21de-4379-93b8-07499f6df74a",
    "outputId": "86fd3488-9802-4fca-b9fd-241091a3b405"
   },
   "outputs": [],
   "source": [
    "import nltk\n",
    "\n",
    "# Descargando el corpus cess_esp: https://www.nltk.org/book/ch02.html#tab-corpora\n",
    "nltk.download('cess_esp')"
   ]
  },
  {
   "cell_type": "code",
   "execution_count": null,
   "id": "1ab197a8-2ea3-4d85-acf8-745d6f99be83",
   "metadata": {
    "id": "1ab197a8-2ea3-4d85-acf8-745d6f99be83"
   },
   "outputs": [],
   "source": [
    "from nltk.corpus import cess_esp\n",
    "# Cargando oraciones\n",
    "corpora = cess_esp.tagged_sents()"
   ]
  },
  {
   "cell_type": "code",
   "execution_count": null,
   "id": "We80idF3qUIb",
   "metadata": {
    "colab": {
     "base_uri": "https://localhost:8080/"
    },
    "id": "We80idF3qUIb",
    "outputId": "57544344-2f95-44f4-e8b7-486c7b6631b3"
   },
   "outputs": [],
   "source": [
    "corpora[1]"
   ]
  },
  {
   "cell_type": "code",
   "execution_count": null,
   "id": "45d7a052-6e9e-47ca-8fc2-13ff05963b53",
   "metadata": {
    "id": "45d7a052-6e9e-47ca-8fc2-13ff05963b53"
   },
   "outputs": [],
   "source": [
    "import requests\n",
    "\n",
    "def get_tags_map() -> dict:\n",
    "    tags_raw = requests.get(\"https://gist.githubusercontent.com/vitojph/39c52c709a9aff2d1d24588aba7f8155/raw/af2d83bc4c2a7e2e6dbb01bd0a10a23a3a21a551/universal_tagset-ES.map\").text.split(\"\\n\")\n",
    "    tags_map = {line.split(\"\\t\")[0].lower(): line.split(\"\\t\")[1] for line in tags_raw}\n",
    "    return tags_map\n",
    "\n",
    "def map_tag(tag: str, tags_map=get_tags_map()) -> str:\n",
    "    return tags_map.get(tag.lower(), \"N/F\")\n",
    "\n",
    "def parse_tags(corpora: list[list[tuple]]) -> list[list[tuple]]:\n",
    "    result = []\n",
    "    for sentence in corpora:\n",
    "        print\n",
    "        result.append([(word, map_tag(tag)) for word, tag in sentence if tag not in [\"Fp\", \"Fc\", \"Fpa\", \"Fpt\"]])\n",
    "    return result"
   ]
  },
  {
   "cell_type": "code",
   "execution_count": null,
   "id": "c07cc1fb-8b6d-4a3d-a637-93c15bcbbfc6",
   "metadata": {
    "id": "c07cc1fb-8b6d-4a3d-a637-93c15bcbbfc6"
   },
   "outputs": [],
   "source": [
    "corpora = parse_tags(corpora)"
   ]
  },
  {
   "cell_type": "code",
   "execution_count": null,
   "id": "d2347079-1504-458b-9743-5bc4dfa7d1e6",
   "metadata": {
    "colab": {
     "base_uri": "https://localhost:8080/"
    },
    "id": "d2347079-1504-458b-9743-5bc4dfa7d1e6",
    "outputId": "b4a40eb1-b9ff-423c-914f-b315097e7ee6"
   },
   "outputs": [],
   "source": [
    "corpora[0]"
   ]
  },
  {
   "cell_type": "markdown",
   "id": "d7864024-2275-4cf6-93f4-16c6b0f54451",
   "metadata": {
    "id": "d7864024-2275-4cf6-93f4-16c6b0f54451"
   },
   "source": [
    "#### Feature lists"
   ]
  },
  {
   "cell_type": "code",
   "execution_count": null,
   "id": "2b6ab1f8-71fc-4862-ac2a-35fcb3ca5b2a",
   "metadata": {
    "id": "2b6ab1f8-71fc-4862-ac2a-35fcb3ca5b2a"
   },
   "outputs": [],
   "source": [
    "def word_to_features(sent, i):\n",
    "    word = sent[i][0]\n",
    "    features = {\n",
    "        'word.lower()': word.lower(),\n",
    "        'word[-3:]': word[-3:],\n",
    "        'word[-2:]': word[-2:],\n",
    "        'word.isupper()': word.isupper(),\n",
    "        'word.istitle()': word.istitle(),\n",
    "        'word.isdigit()': word.isdigit(),\n",
    "        'prefix_1': word[:1],\n",
    "        'prefix_2': word[:2],\n",
    "        'suffix_1': word[-1:],\n",
    "        'suffix_2': word[-2:],\n",
    "        'word_len': len(word)\n",
    "    }\n",
    "    if i > 0:\n",
    "        prev_word = sent[i - 1][0]\n",
    "        features.update({\n",
    "            'prev_word.lower()': prev_word.lower(),\n",
    "            'prev_word.istitle()': prev_word.istitle(),\n",
    "        })\n",
    "    else:\n",
    "        features['BOS'] = True  # Beginning of sentence\n",
    "\n",
    "    return features\n",
    "\n",
    "# Extract features and labels\n",
    "def sent_to_features(sent) -> list:\n",
    "    return [word_to_features(sent, i) for i in range(len(sent))]\n",
    "\n",
    "def sent_to_labels(sent) -> list:\n",
    "    return [label for token, label in sent]"
   ]
  },
  {
   "cell_type": "code",
   "execution_count": null,
   "id": "59da4b3c-7d1d-4725-936c-0afdbf74137f",
   "metadata": {
    "colab": {
     "base_uri": "https://localhost:8080/"
    },
    "id": "59da4b3c-7d1d-4725-936c-0afdbf74137f",
    "outputId": "8c9c0967-e2d2-4681-849b-dc4a9796bfff"
   },
   "outputs": [],
   "source": [
    "# ¿Cuantas oraciones tenemos disponibles?\n",
    "len(corpora)"
   ]
  },
  {
   "cell_type": "code",
   "execution_count": null,
   "id": "7266b709-0287-4f48-a62f-12ca9d7aaffb",
   "metadata": {
    "id": "7266b709-0287-4f48-a62f-12ca9d7aaffb"
   },
   "outputs": [],
   "source": [
    "# Preparando datos para el CRF\n",
    "X = [[word_to_features(sent, i) for i in range(len(sent))] for sent in corpora]\n",
    "y = [[pos for _, pos in sent] for sent in corpora]"
   ]
  },
  {
   "cell_type": "code",
   "execution_count": null,
   "id": "f7f68f41-8ad8-42c4-b20d-626561047433",
   "metadata": {
    "colab": {
     "base_uri": "https://localhost:8080/"
    },
    "id": "f7f68f41-8ad8-42c4-b20d-626561047433",
    "outputId": "884befed-36dd-465f-ff62-ee8fee034187",
    "scrolled": true
   },
   "outputs": [],
   "source": [
    "# Exploración de data estructurada\n",
    "X[0]"
   ]
  },
  {
   "cell_type": "code",
   "execution_count": null,
   "id": "e6bdf707-c7fc-408b-9d81-65528e068cbb",
   "metadata": {
    "id": "e6bdf707-c7fc-408b-9d81-65528e068cbb"
   },
   "outputs": [],
   "source": [
    "from sklearn.model_selection import train_test_split\n",
    "# Split the data into training and testing sets\n",
    "X_train, X_test, y_train, y_test = train_test_split(X, y, test_size=0.2, random_state=42)"
   ]
  },
  {
   "cell_type": "code",
   "execution_count": null,
   "id": "49503189-368e-4d83-abd2-b06433bae3e8",
   "metadata": {
    "id": "49503189-368e-4d83-abd2-b06433bae3e8"
   },
   "outputs": [],
   "source": [
    "assert len(X_train) + len(X_test) == len(corpora), \"Something wrong with my split :(\"\n",
    "assert len(y_train) + len(y_test) == len(corpora), \"Something wrong with my split :(\""
   ]
  },
  {
   "cell_type": "code",
   "execution_count": null,
   "id": "cba343a2-482f-4c67-a842-704ab5fc6f3e",
   "metadata": {
    "colab": {
     "base_uri": "https://localhost:8080/"
    },
    "id": "cba343a2-482f-4c67-a842-704ab5fc6f3e",
    "outputId": "3355fa0f-d2f3-4c66-de0b-595c8b754495",
    "scrolled": true
   },
   "outputs": [],
   "source": [
    "from inspect import Attribute\n",
    "from sklearn_crfsuite import CRF\n",
    "# Initialize and train the CRF tagger: https://sklearn-crfsuite.readthedocs.io/en/latest/api.html\n",
    "crf = CRF(algorithm='lbfgs', c1=0.1, c2=0.1, max_iterations=100, all_possible_transitions=True, verbose=True)\n",
    "try:\n",
    "    crf.fit(X_train, y_train)\n",
    "except AttributeError as e:\n",
    "    print(e)"
   ]
  },
  {
   "cell_type": "code",
   "execution_count": null,
   "id": "983f2a29-b455-4ca3-8115-eb4962e25481",
   "metadata": {
    "colab": {
     "base_uri": "https://localhost:8080/"
    },
    "id": "983f2a29-b455-4ca3-8115-eb4962e25481",
    "outputId": "d59aff27-781e-4b97-f262-7f39845c7e88"
   },
   "outputs": [],
   "source": [
    "from sklearn.metrics import classification_report\n",
    "y_pred = crf.predict(X_test)\n",
    "\n",
    "# Flatten the true and predicted labels\n",
    "y_test_flat = [label for sent_labels in y_test for label in sent_labels]\n",
    "y_pred_flat = [label for sent_labels in y_pred for label in sent_labels]\n",
    "\n",
    "# Evaluate the model\n",
    "report = classification_report(y_true=y_test_flat, y_pred=y_pred_flat)\n",
    "print(report)"
   ]
  },
  {
   "cell_type": "markdown",
   "id": "1266180c-54ca-433c-bf77-e7052df67291",
   "metadata": {
    "id": "1266180c-54ca-433c-bf77-e7052df67291"
   },
   "source": [
    "## Ejercicios: Niveles del lenguaje\n",
    "\n",
    "### Fonética\n",
    "\n",
    "1. Si tenemos un sistema de búsqueda que recibe una palabra ortográfica y devuelve sus transcripciones fonológicas, proponga una solución para los casos en que la palabra buscada no se encuentra en el lexicón/diccionario. *¿Cómo devolver o aproximar su transcripción fonológica?*\n",
    "  - Reutiliza el sistema de búsqueda visto en clase y mejoralo con esta funcionalidad\n",
    "\n",
    "### Morfología\n",
    "\n",
    "2. Obtenga los datos de `test` y `dev` para todas las lenguas disponibles en el Shared Task SIGMORPHON 2022 y haga lo siguiente:\n",
    "    - En un plot de 4 columnas y 2 rows muestre las siguientes distribuciones (un subplot por lengua):\n",
    "        - Plot 1: distribución de longitud de palabras\n",
    "        - Plot 2: distribución de la cuenta de morfemas\n",
    "        - Plot 3: distribución de categorias (si existe para la lengua)\n",
    "    - Realice una función que imprima por cada lengua lo siguiente:\n",
    "        - Total de palabras\n",
    "        - La longitud de palabra promedio\n",
    "        - La cuenta de morfemas promedio\n",
    "        - La categoría más común\n",
    "    - Con base en esta información elabore una conclusión lingüística sobre la morfología de las lenguas analizadas.\n",
    "    - Imprimir la [matríz de confusión](https://en.wikipedia.org/wiki/Confusion_matrix) para el etiquetador CRFs visto en clase y elaborar una conclusión sobre los resultados"
   ]
  }
 ],
 "metadata": {
  "colab": {
   "provenance": []
  },
  "jupytext": {
   "formats": "ipynb,auto:light"
  },
  "kernelspec": {
   "display_name": "Python 3 (ipykernel)",
   "language": "python",
   "name": "python3"
  },
  "language_info": {
   "codemirror_mode": {
    "name": "ipython",
    "version": 3
   },
   "file_extension": ".py",
   "mimetype": "text/x-python",
   "name": "python",
   "nbconvert_exporter": "python",
   "pygments_lexer": "ipython3",
   "version": "3.12.11"
  }
 },
 "nbformat": 4,
 "nbformat_minor": 5
}
